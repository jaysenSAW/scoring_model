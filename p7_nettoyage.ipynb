{
 "cells": [
  {
   "cell_type": "markdown",
   "metadata": {},
   "source": [
    "Data can be download from [kraggle](https://www.kaggle.com/c/home-credit-default-risk/data) or directly [here](https://s3-eu-west-1.amazonaws.com/static.oc-static.com/prod/courses/files/Parcours_data_scientist/Projet+-+Impl%C3%A9menter+un+mod%C3%A8le+de+scoring/Projet+Mise+en+prod+-+home-credit-default-risk.zip). The projet concern a scoring score about cease of payment. Interactif dashboards are also present to understand the parameters behind the algorithm and the reason behind a refusal. "
   ]
  },
  {
   "cell_type": "code",
   "execution_count": 1,
   "metadata": {
    "_uuid": "6d39a7132f281da17d7b86b9520930459b97ffaa"
   },
   "outputs": [],
   "source": [
    "import numpy as np\n",
    "import pandas as pd\n",
    "import matplotlib.pyplot as plt\n",
    "import seaborn as sns\n",
    "\n",
    "pd.set_option('display.max_columns', None)"
   ]
  },
  {
   "cell_type": "code",
   "execution_count": 2,
   "metadata": {},
   "outputs": [],
   "source": [
    "def distance_IQ(dt, q1=0.25, q3=0.75, return_flag = False):\n",
    "    \"\"\"\n",
    "    Compute interquantile value and return number\n",
    "    of elements \n",
    "        * Above Q3 + 1.5*IQ\n",
    "        * Bellow Q1 - 1*5 IQ\n",
    "    Arguments:\n",
    "        _dt: dataFrame (pandas)\n",
    "        _q1: first quantile (default 0.25)\n",
    "        _q3: third quantile (default 0.75)\n",
    "    \"\"\"\n",
    "    q1 = dt.quantile(q1)\n",
    "    q3 = dt.quantile(q3)\n",
    "    IQ = q3-q1\n",
    "    count = dt[dt < q1 - 1.5* IQ ].count() \n",
    "    print(\"Element {0} bellow Q1 - 1.5 * IQ ({1:.2f})\".format(count, q1 - 1.5* IQ))\n",
    "    count = dt[dt > q3 + 1.5* IQ ].count() \n",
    "    print(\"Element {0} above Q3 + 1.5 * IQ ({1:.2f})\".format(count ,q3 + 1.5 * IQ))\n",
    "    if return_flag:\n",
    "        return q1 - 1.5* IQ, q3 + 1.5* IQ"
   ]
  },
  {
   "cell_type": "code",
   "execution_count": 3,
   "metadata": {},
   "outputs": [],
   "source": [
    "def clean_IQ(dt, lab, q1=0.25, q3=0.75):\n",
    "    borne_inf, borne_sup = distance_IQ(dt[lab], q1=0.25, q3=0.75, return_flag = True)\n",
    "    if borne_inf - borne_sup == 0:\n",
    "        print(\"distance IQ = 0\")\n",
    "        return dt\n",
    "    if borne_inf is not None:\n",
    "        dt = dt[dt[lab] > borne_inf]\n",
    "    if borne_sup is not None:\n",
    "        dt = dt[dt[lab] < borne_sup]\n",
    "    return dt"
   ]
  },
  {
   "cell_type": "markdown",
   "metadata": {
    "_uuid": "f03367d7920e1b56786cc07792239d30f252857c"
   },
   "source": [
    "# Load data\n",
    "\n"
   ]
  },
  {
   "cell_type": "code",
   "execution_count": 4,
   "metadata": {
    "_uuid": "12f1580beba72f4d82b8300518804e1f6fd62755"
   },
   "outputs": [],
   "source": [
    "df_test = pd.read_csv('application_test.csv')\n",
    "df_train = pd.read_csv('application_train.csv')\n",
    "df_bureau = pd.read_csv('bureau.csv')\n",
    "df_bureau_balance = pd.read_csv('bureau_balance.csv')\n",
    "df_credit_balance = pd.read_csv('credit_card_balance.csv')\n",
    "df_home_credit = pd.read_csv(\"HomeCredit_columns_description.csv\", encoding = \"ISO-8859-1\")\n",
    "df_installments_payments = pd.read_csv(\"installments_payments.csv\")\n",
    "df_POS_CASH_balance = pd.read_csv(\"POS_CASH_balance.csv\")\n",
    "df_previous_application = pd.read_csv(\"previous_application.csv\")\n",
    "df_sample_submission = pd.read_csv(\"sample_submission.csv\")"
   ]
  },
  {
   "cell_type": "markdown",
   "metadata": {},
   "source": [
    "### Test"
   ]
  },
  {
   "cell_type": "code",
   "execution_count": 5,
   "metadata": {},
   "outputs": [
    {
     "data": {
      "text/html": [
       "<div>\n",
       "<style scoped>\n",
       "    .dataframe tbody tr th:only-of-type {\n",
       "        vertical-align: middle;\n",
       "    }\n",
       "\n",
       "    .dataframe tbody tr th {\n",
       "        vertical-align: top;\n",
       "    }\n",
       "\n",
       "    .dataframe thead th {\n",
       "        text-align: right;\n",
       "    }\n",
       "</style>\n",
       "<table border=\"1\" class=\"dataframe\">\n",
       "  <thead>\n",
       "    <tr style=\"text-align: right;\">\n",
       "      <th></th>\n",
       "      <th>SK_ID_CURR</th>\n",
       "      <th>NAME_CONTRACT_TYPE</th>\n",
       "      <th>CODE_GENDER</th>\n",
       "      <th>FLAG_OWN_CAR</th>\n",
       "      <th>FLAG_OWN_REALTY</th>\n",
       "      <th>CNT_CHILDREN</th>\n",
       "      <th>AMT_INCOME_TOTAL</th>\n",
       "      <th>AMT_CREDIT</th>\n",
       "      <th>AMT_ANNUITY</th>\n",
       "      <th>AMT_GOODS_PRICE</th>\n",
       "      <th>NAME_TYPE_SUITE</th>\n",
       "      <th>NAME_INCOME_TYPE</th>\n",
       "      <th>NAME_EDUCATION_TYPE</th>\n",
       "      <th>NAME_FAMILY_STATUS</th>\n",
       "      <th>NAME_HOUSING_TYPE</th>\n",
       "      <th>REGION_POPULATION_RELATIVE</th>\n",
       "      <th>DAYS_BIRTH</th>\n",
       "      <th>DAYS_EMPLOYED</th>\n",
       "      <th>DAYS_REGISTRATION</th>\n",
       "      <th>DAYS_ID_PUBLISH</th>\n",
       "      <th>OWN_CAR_AGE</th>\n",
       "      <th>FLAG_MOBIL</th>\n",
       "      <th>FLAG_EMP_PHONE</th>\n",
       "      <th>FLAG_WORK_PHONE</th>\n",
       "      <th>FLAG_CONT_MOBILE</th>\n",
       "      <th>FLAG_PHONE</th>\n",
       "      <th>FLAG_EMAIL</th>\n",
       "      <th>OCCUPATION_TYPE</th>\n",
       "      <th>CNT_FAM_MEMBERS</th>\n",
       "      <th>REGION_RATING_CLIENT</th>\n",
       "      <th>REGION_RATING_CLIENT_W_CITY</th>\n",
       "      <th>WEEKDAY_APPR_PROCESS_START</th>\n",
       "      <th>HOUR_APPR_PROCESS_START</th>\n",
       "      <th>REG_REGION_NOT_LIVE_REGION</th>\n",
       "      <th>REG_REGION_NOT_WORK_REGION</th>\n",
       "      <th>LIVE_REGION_NOT_WORK_REGION</th>\n",
       "      <th>REG_CITY_NOT_LIVE_CITY</th>\n",
       "      <th>REG_CITY_NOT_WORK_CITY</th>\n",
       "      <th>LIVE_CITY_NOT_WORK_CITY</th>\n",
       "      <th>ORGANIZATION_TYPE</th>\n",
       "      <th>EXT_SOURCE_1</th>\n",
       "      <th>EXT_SOURCE_2</th>\n",
       "      <th>EXT_SOURCE_3</th>\n",
       "      <th>APARTMENTS_AVG</th>\n",
       "      <th>BASEMENTAREA_AVG</th>\n",
       "      <th>YEARS_BEGINEXPLUATATION_AVG</th>\n",
       "      <th>YEARS_BUILD_AVG</th>\n",
       "      <th>COMMONAREA_AVG</th>\n",
       "      <th>ELEVATORS_AVG</th>\n",
       "      <th>ENTRANCES_AVG</th>\n",
       "      <th>FLOORSMAX_AVG</th>\n",
       "      <th>FLOORSMIN_AVG</th>\n",
       "      <th>LANDAREA_AVG</th>\n",
       "      <th>LIVINGAPARTMENTS_AVG</th>\n",
       "      <th>LIVINGAREA_AVG</th>\n",
       "      <th>NONLIVINGAPARTMENTS_AVG</th>\n",
       "      <th>NONLIVINGAREA_AVG</th>\n",
       "      <th>APARTMENTS_MODE</th>\n",
       "      <th>BASEMENTAREA_MODE</th>\n",
       "      <th>YEARS_BEGINEXPLUATATION_MODE</th>\n",
       "      <th>YEARS_BUILD_MODE</th>\n",
       "      <th>COMMONAREA_MODE</th>\n",
       "      <th>ELEVATORS_MODE</th>\n",
       "      <th>ENTRANCES_MODE</th>\n",
       "      <th>FLOORSMAX_MODE</th>\n",
       "      <th>FLOORSMIN_MODE</th>\n",
       "      <th>LANDAREA_MODE</th>\n",
       "      <th>LIVINGAPARTMENTS_MODE</th>\n",
       "      <th>LIVINGAREA_MODE</th>\n",
       "      <th>NONLIVINGAPARTMENTS_MODE</th>\n",
       "      <th>NONLIVINGAREA_MODE</th>\n",
       "      <th>APARTMENTS_MEDI</th>\n",
       "      <th>BASEMENTAREA_MEDI</th>\n",
       "      <th>YEARS_BEGINEXPLUATATION_MEDI</th>\n",
       "      <th>YEARS_BUILD_MEDI</th>\n",
       "      <th>COMMONAREA_MEDI</th>\n",
       "      <th>ELEVATORS_MEDI</th>\n",
       "      <th>ENTRANCES_MEDI</th>\n",
       "      <th>FLOORSMAX_MEDI</th>\n",
       "      <th>FLOORSMIN_MEDI</th>\n",
       "      <th>LANDAREA_MEDI</th>\n",
       "      <th>LIVINGAPARTMENTS_MEDI</th>\n",
       "      <th>LIVINGAREA_MEDI</th>\n",
       "      <th>NONLIVINGAPARTMENTS_MEDI</th>\n",
       "      <th>NONLIVINGAREA_MEDI</th>\n",
       "      <th>FONDKAPREMONT_MODE</th>\n",
       "      <th>HOUSETYPE_MODE</th>\n",
       "      <th>TOTALAREA_MODE</th>\n",
       "      <th>WALLSMATERIAL_MODE</th>\n",
       "      <th>EMERGENCYSTATE_MODE</th>\n",
       "      <th>OBS_30_CNT_SOCIAL_CIRCLE</th>\n",
       "      <th>DEF_30_CNT_SOCIAL_CIRCLE</th>\n",
       "      <th>OBS_60_CNT_SOCIAL_CIRCLE</th>\n",
       "      <th>DEF_60_CNT_SOCIAL_CIRCLE</th>\n",
       "      <th>DAYS_LAST_PHONE_CHANGE</th>\n",
       "      <th>FLAG_DOCUMENT_2</th>\n",
       "      <th>FLAG_DOCUMENT_3</th>\n",
       "      <th>FLAG_DOCUMENT_4</th>\n",
       "      <th>FLAG_DOCUMENT_5</th>\n",
       "      <th>FLAG_DOCUMENT_6</th>\n",
       "      <th>FLAG_DOCUMENT_7</th>\n",
       "      <th>FLAG_DOCUMENT_8</th>\n",
       "      <th>FLAG_DOCUMENT_9</th>\n",
       "      <th>FLAG_DOCUMENT_10</th>\n",
       "      <th>FLAG_DOCUMENT_11</th>\n",
       "      <th>FLAG_DOCUMENT_12</th>\n",
       "      <th>FLAG_DOCUMENT_13</th>\n",
       "      <th>FLAG_DOCUMENT_14</th>\n",
       "      <th>FLAG_DOCUMENT_15</th>\n",
       "      <th>FLAG_DOCUMENT_16</th>\n",
       "      <th>FLAG_DOCUMENT_17</th>\n",
       "      <th>FLAG_DOCUMENT_18</th>\n",
       "      <th>FLAG_DOCUMENT_19</th>\n",
       "      <th>FLAG_DOCUMENT_20</th>\n",
       "      <th>FLAG_DOCUMENT_21</th>\n",
       "      <th>AMT_REQ_CREDIT_BUREAU_HOUR</th>\n",
       "      <th>AMT_REQ_CREDIT_BUREAU_DAY</th>\n",
       "      <th>AMT_REQ_CREDIT_BUREAU_WEEK</th>\n",
       "      <th>AMT_REQ_CREDIT_BUREAU_MON</th>\n",
       "      <th>AMT_REQ_CREDIT_BUREAU_QRT</th>\n",
       "      <th>AMT_REQ_CREDIT_BUREAU_YEAR</th>\n",
       "    </tr>\n",
       "  </thead>\n",
       "  <tbody>\n",
       "    <tr>\n",
       "      <th>0</th>\n",
       "      <td>100001</td>\n",
       "      <td>Cash loans</td>\n",
       "      <td>F</td>\n",
       "      <td>N</td>\n",
       "      <td>Y</td>\n",
       "      <td>0</td>\n",
       "      <td>135000.0</td>\n",
       "      <td>568800.0</td>\n",
       "      <td>20560.5</td>\n",
       "      <td>450000.0</td>\n",
       "      <td>Unaccompanied</td>\n",
       "      <td>Working</td>\n",
       "      <td>Higher education</td>\n",
       "      <td>Married</td>\n",
       "      <td>House / apartment</td>\n",
       "      <td>0.018850</td>\n",
       "      <td>-19241</td>\n",
       "      <td>-2329</td>\n",
       "      <td>-5170.0</td>\n",
       "      <td>-812</td>\n",
       "      <td>NaN</td>\n",
       "      <td>1</td>\n",
       "      <td>1</td>\n",
       "      <td>0</td>\n",
       "      <td>1</td>\n",
       "      <td>0</td>\n",
       "      <td>1</td>\n",
       "      <td>NaN</td>\n",
       "      <td>2.0</td>\n",
       "      <td>2</td>\n",
       "      <td>2</td>\n",
       "      <td>TUESDAY</td>\n",
       "      <td>18</td>\n",
       "      <td>0</td>\n",
       "      <td>0</td>\n",
       "      <td>0</td>\n",
       "      <td>0</td>\n",
       "      <td>0</td>\n",
       "      <td>0</td>\n",
       "      <td>Kindergarten</td>\n",
       "      <td>0.752614</td>\n",
       "      <td>0.789654</td>\n",
       "      <td>0.159520</td>\n",
       "      <td>0.066</td>\n",
       "      <td>0.059</td>\n",
       "      <td>0.9732</td>\n",
       "      <td>NaN</td>\n",
       "      <td>NaN</td>\n",
       "      <td>NaN</td>\n",
       "      <td>0.1379</td>\n",
       "      <td>0.125</td>\n",
       "      <td>NaN</td>\n",
       "      <td>NaN</td>\n",
       "      <td>NaN</td>\n",
       "      <td>0.0505</td>\n",
       "      <td>NaN</td>\n",
       "      <td>NaN</td>\n",
       "      <td>0.0672</td>\n",
       "      <td>0.0612</td>\n",
       "      <td>0.9732</td>\n",
       "      <td>NaN</td>\n",
       "      <td>NaN</td>\n",
       "      <td>NaN</td>\n",
       "      <td>0.1379</td>\n",
       "      <td>0.125</td>\n",
       "      <td>NaN</td>\n",
       "      <td>NaN</td>\n",
       "      <td>NaN</td>\n",
       "      <td>0.0526</td>\n",
       "      <td>NaN</td>\n",
       "      <td>NaN</td>\n",
       "      <td>0.0666</td>\n",
       "      <td>0.059</td>\n",
       "      <td>0.9732</td>\n",
       "      <td>NaN</td>\n",
       "      <td>NaN</td>\n",
       "      <td>NaN</td>\n",
       "      <td>0.1379</td>\n",
       "      <td>0.125</td>\n",
       "      <td>NaN</td>\n",
       "      <td>NaN</td>\n",
       "      <td>NaN</td>\n",
       "      <td>0.0514</td>\n",
       "      <td>NaN</td>\n",
       "      <td>NaN</td>\n",
       "      <td>NaN</td>\n",
       "      <td>block of flats</td>\n",
       "      <td>0.0392</td>\n",
       "      <td>Stone, brick</td>\n",
       "      <td>No</td>\n",
       "      <td>0.0</td>\n",
       "      <td>0.0</td>\n",
       "      <td>0.0</td>\n",
       "      <td>0.0</td>\n",
       "      <td>-1740.0</td>\n",
       "      <td>0</td>\n",
       "      <td>1</td>\n",
       "      <td>0</td>\n",
       "      <td>0</td>\n",
       "      <td>0</td>\n",
       "      <td>0</td>\n",
       "      <td>0</td>\n",
       "      <td>0</td>\n",
       "      <td>0</td>\n",
       "      <td>0</td>\n",
       "      <td>0</td>\n",
       "      <td>0</td>\n",
       "      <td>0</td>\n",
       "      <td>0</td>\n",
       "      <td>0</td>\n",
       "      <td>0</td>\n",
       "      <td>0</td>\n",
       "      <td>0</td>\n",
       "      <td>0</td>\n",
       "      <td>0</td>\n",
       "      <td>0.0</td>\n",
       "      <td>0.0</td>\n",
       "      <td>0.0</td>\n",
       "      <td>0.0</td>\n",
       "      <td>0.0</td>\n",
       "      <td>0.0</td>\n",
       "    </tr>\n",
       "    <tr>\n",
       "      <th>1</th>\n",
       "      <td>100005</td>\n",
       "      <td>Cash loans</td>\n",
       "      <td>M</td>\n",
       "      <td>N</td>\n",
       "      <td>Y</td>\n",
       "      <td>0</td>\n",
       "      <td>99000.0</td>\n",
       "      <td>222768.0</td>\n",
       "      <td>17370.0</td>\n",
       "      <td>180000.0</td>\n",
       "      <td>Unaccompanied</td>\n",
       "      <td>Working</td>\n",
       "      <td>Secondary / secondary special</td>\n",
       "      <td>Married</td>\n",
       "      <td>House / apartment</td>\n",
       "      <td>0.035792</td>\n",
       "      <td>-18064</td>\n",
       "      <td>-4469</td>\n",
       "      <td>-9118.0</td>\n",
       "      <td>-1623</td>\n",
       "      <td>NaN</td>\n",
       "      <td>1</td>\n",
       "      <td>1</td>\n",
       "      <td>0</td>\n",
       "      <td>1</td>\n",
       "      <td>0</td>\n",
       "      <td>0</td>\n",
       "      <td>Low-skill Laborers</td>\n",
       "      <td>2.0</td>\n",
       "      <td>2</td>\n",
       "      <td>2</td>\n",
       "      <td>FRIDAY</td>\n",
       "      <td>9</td>\n",
       "      <td>0</td>\n",
       "      <td>0</td>\n",
       "      <td>0</td>\n",
       "      <td>0</td>\n",
       "      <td>0</td>\n",
       "      <td>0</td>\n",
       "      <td>Self-employed</td>\n",
       "      <td>0.564990</td>\n",
       "      <td>0.291656</td>\n",
       "      <td>0.432962</td>\n",
       "      <td>NaN</td>\n",
       "      <td>NaN</td>\n",
       "      <td>NaN</td>\n",
       "      <td>NaN</td>\n",
       "      <td>NaN</td>\n",
       "      <td>NaN</td>\n",
       "      <td>NaN</td>\n",
       "      <td>NaN</td>\n",
       "      <td>NaN</td>\n",
       "      <td>NaN</td>\n",
       "      <td>NaN</td>\n",
       "      <td>NaN</td>\n",
       "      <td>NaN</td>\n",
       "      <td>NaN</td>\n",
       "      <td>NaN</td>\n",
       "      <td>NaN</td>\n",
       "      <td>NaN</td>\n",
       "      <td>NaN</td>\n",
       "      <td>NaN</td>\n",
       "      <td>NaN</td>\n",
       "      <td>NaN</td>\n",
       "      <td>NaN</td>\n",
       "      <td>NaN</td>\n",
       "      <td>NaN</td>\n",
       "      <td>NaN</td>\n",
       "      <td>NaN</td>\n",
       "      <td>NaN</td>\n",
       "      <td>NaN</td>\n",
       "      <td>NaN</td>\n",
       "      <td>NaN</td>\n",
       "      <td>NaN</td>\n",
       "      <td>NaN</td>\n",
       "      <td>NaN</td>\n",
       "      <td>NaN</td>\n",
       "      <td>NaN</td>\n",
       "      <td>NaN</td>\n",
       "      <td>NaN</td>\n",
       "      <td>NaN</td>\n",
       "      <td>NaN</td>\n",
       "      <td>NaN</td>\n",
       "      <td>NaN</td>\n",
       "      <td>NaN</td>\n",
       "      <td>NaN</td>\n",
       "      <td>NaN</td>\n",
       "      <td>NaN</td>\n",
       "      <td>NaN</td>\n",
       "      <td>NaN</td>\n",
       "      <td>0.0</td>\n",
       "      <td>0.0</td>\n",
       "      <td>0.0</td>\n",
       "      <td>0.0</td>\n",
       "      <td>0.0</td>\n",
       "      <td>0</td>\n",
       "      <td>1</td>\n",
       "      <td>0</td>\n",
       "      <td>0</td>\n",
       "      <td>0</td>\n",
       "      <td>0</td>\n",
       "      <td>0</td>\n",
       "      <td>0</td>\n",
       "      <td>0</td>\n",
       "      <td>0</td>\n",
       "      <td>0</td>\n",
       "      <td>0</td>\n",
       "      <td>0</td>\n",
       "      <td>0</td>\n",
       "      <td>0</td>\n",
       "      <td>0</td>\n",
       "      <td>0</td>\n",
       "      <td>0</td>\n",
       "      <td>0</td>\n",
       "      <td>0</td>\n",
       "      <td>0.0</td>\n",
       "      <td>0.0</td>\n",
       "      <td>0.0</td>\n",
       "      <td>0.0</td>\n",
       "      <td>0.0</td>\n",
       "      <td>3.0</td>\n",
       "    </tr>\n",
       "    <tr>\n",
       "      <th>2</th>\n",
       "      <td>100013</td>\n",
       "      <td>Cash loans</td>\n",
       "      <td>M</td>\n",
       "      <td>Y</td>\n",
       "      <td>Y</td>\n",
       "      <td>0</td>\n",
       "      <td>202500.0</td>\n",
       "      <td>663264.0</td>\n",
       "      <td>69777.0</td>\n",
       "      <td>630000.0</td>\n",
       "      <td>NaN</td>\n",
       "      <td>Working</td>\n",
       "      <td>Higher education</td>\n",
       "      <td>Married</td>\n",
       "      <td>House / apartment</td>\n",
       "      <td>0.019101</td>\n",
       "      <td>-20038</td>\n",
       "      <td>-4458</td>\n",
       "      <td>-2175.0</td>\n",
       "      <td>-3503</td>\n",
       "      <td>5.0</td>\n",
       "      <td>1</td>\n",
       "      <td>1</td>\n",
       "      <td>0</td>\n",
       "      <td>1</td>\n",
       "      <td>0</td>\n",
       "      <td>0</td>\n",
       "      <td>Drivers</td>\n",
       "      <td>2.0</td>\n",
       "      <td>2</td>\n",
       "      <td>2</td>\n",
       "      <td>MONDAY</td>\n",
       "      <td>14</td>\n",
       "      <td>0</td>\n",
       "      <td>0</td>\n",
       "      <td>0</td>\n",
       "      <td>0</td>\n",
       "      <td>0</td>\n",
       "      <td>0</td>\n",
       "      <td>Transport: type 3</td>\n",
       "      <td>NaN</td>\n",
       "      <td>0.699787</td>\n",
       "      <td>0.610991</td>\n",
       "      <td>NaN</td>\n",
       "      <td>NaN</td>\n",
       "      <td>NaN</td>\n",
       "      <td>NaN</td>\n",
       "      <td>NaN</td>\n",
       "      <td>NaN</td>\n",
       "      <td>NaN</td>\n",
       "      <td>NaN</td>\n",
       "      <td>NaN</td>\n",
       "      <td>NaN</td>\n",
       "      <td>NaN</td>\n",
       "      <td>NaN</td>\n",
       "      <td>NaN</td>\n",
       "      <td>NaN</td>\n",
       "      <td>NaN</td>\n",
       "      <td>NaN</td>\n",
       "      <td>NaN</td>\n",
       "      <td>NaN</td>\n",
       "      <td>NaN</td>\n",
       "      <td>NaN</td>\n",
       "      <td>NaN</td>\n",
       "      <td>NaN</td>\n",
       "      <td>NaN</td>\n",
       "      <td>NaN</td>\n",
       "      <td>NaN</td>\n",
       "      <td>NaN</td>\n",
       "      <td>NaN</td>\n",
       "      <td>NaN</td>\n",
       "      <td>NaN</td>\n",
       "      <td>NaN</td>\n",
       "      <td>NaN</td>\n",
       "      <td>NaN</td>\n",
       "      <td>NaN</td>\n",
       "      <td>NaN</td>\n",
       "      <td>NaN</td>\n",
       "      <td>NaN</td>\n",
       "      <td>NaN</td>\n",
       "      <td>NaN</td>\n",
       "      <td>NaN</td>\n",
       "      <td>NaN</td>\n",
       "      <td>NaN</td>\n",
       "      <td>NaN</td>\n",
       "      <td>NaN</td>\n",
       "      <td>NaN</td>\n",
       "      <td>NaN</td>\n",
       "      <td>NaN</td>\n",
       "      <td>NaN</td>\n",
       "      <td>0.0</td>\n",
       "      <td>0.0</td>\n",
       "      <td>0.0</td>\n",
       "      <td>0.0</td>\n",
       "      <td>-856.0</td>\n",
       "      <td>0</td>\n",
       "      <td>0</td>\n",
       "      <td>0</td>\n",
       "      <td>0</td>\n",
       "      <td>0</td>\n",
       "      <td>0</td>\n",
       "      <td>1</td>\n",
       "      <td>0</td>\n",
       "      <td>0</td>\n",
       "      <td>0</td>\n",
       "      <td>0</td>\n",
       "      <td>0</td>\n",
       "      <td>0</td>\n",
       "      <td>0</td>\n",
       "      <td>0</td>\n",
       "      <td>0</td>\n",
       "      <td>0</td>\n",
       "      <td>0</td>\n",
       "      <td>0</td>\n",
       "      <td>0</td>\n",
       "      <td>0.0</td>\n",
       "      <td>0.0</td>\n",
       "      <td>0.0</td>\n",
       "      <td>0.0</td>\n",
       "      <td>1.0</td>\n",
       "      <td>4.0</td>\n",
       "    </tr>\n",
       "  </tbody>\n",
       "</table>\n",
       "</div>"
      ],
      "text/plain": [
       "   SK_ID_CURR NAME_CONTRACT_TYPE CODE_GENDER FLAG_OWN_CAR FLAG_OWN_REALTY  \\\n",
       "0      100001         Cash loans           F            N               Y   \n",
       "1      100005         Cash loans           M            N               Y   \n",
       "2      100013         Cash loans           M            Y               Y   \n",
       "\n",
       "   CNT_CHILDREN  AMT_INCOME_TOTAL  AMT_CREDIT  AMT_ANNUITY  AMT_GOODS_PRICE  \\\n",
       "0             0          135000.0    568800.0      20560.5         450000.0   \n",
       "1             0           99000.0    222768.0      17370.0         180000.0   \n",
       "2             0          202500.0    663264.0      69777.0         630000.0   \n",
       "\n",
       "  NAME_TYPE_SUITE NAME_INCOME_TYPE            NAME_EDUCATION_TYPE  \\\n",
       "0   Unaccompanied          Working               Higher education   \n",
       "1   Unaccompanied          Working  Secondary / secondary special   \n",
       "2             NaN          Working               Higher education   \n",
       "\n",
       "  NAME_FAMILY_STATUS  NAME_HOUSING_TYPE  REGION_POPULATION_RELATIVE  \\\n",
       "0            Married  House / apartment                    0.018850   \n",
       "1            Married  House / apartment                    0.035792   \n",
       "2            Married  House / apartment                    0.019101   \n",
       "\n",
       "   DAYS_BIRTH  DAYS_EMPLOYED  DAYS_REGISTRATION  DAYS_ID_PUBLISH  OWN_CAR_AGE  \\\n",
       "0      -19241          -2329            -5170.0             -812          NaN   \n",
       "1      -18064          -4469            -9118.0            -1623          NaN   \n",
       "2      -20038          -4458            -2175.0            -3503          5.0   \n",
       "\n",
       "   FLAG_MOBIL  FLAG_EMP_PHONE  FLAG_WORK_PHONE  FLAG_CONT_MOBILE  FLAG_PHONE  \\\n",
       "0           1               1                0                 1           0   \n",
       "1           1               1                0                 1           0   \n",
       "2           1               1                0                 1           0   \n",
       "\n",
       "   FLAG_EMAIL     OCCUPATION_TYPE  CNT_FAM_MEMBERS  REGION_RATING_CLIENT  \\\n",
       "0           1                 NaN              2.0                     2   \n",
       "1           0  Low-skill Laborers              2.0                     2   \n",
       "2           0             Drivers              2.0                     2   \n",
       "\n",
       "   REGION_RATING_CLIENT_W_CITY WEEKDAY_APPR_PROCESS_START  \\\n",
       "0                            2                    TUESDAY   \n",
       "1                            2                     FRIDAY   \n",
       "2                            2                     MONDAY   \n",
       "\n",
       "   HOUR_APPR_PROCESS_START  REG_REGION_NOT_LIVE_REGION  \\\n",
       "0                       18                           0   \n",
       "1                        9                           0   \n",
       "2                       14                           0   \n",
       "\n",
       "   REG_REGION_NOT_WORK_REGION  LIVE_REGION_NOT_WORK_REGION  \\\n",
       "0                           0                            0   \n",
       "1                           0                            0   \n",
       "2                           0                            0   \n",
       "\n",
       "   REG_CITY_NOT_LIVE_CITY  REG_CITY_NOT_WORK_CITY  LIVE_CITY_NOT_WORK_CITY  \\\n",
       "0                       0                       0                        0   \n",
       "1                       0                       0                        0   \n",
       "2                       0                       0                        0   \n",
       "\n",
       "   ORGANIZATION_TYPE  EXT_SOURCE_1  EXT_SOURCE_2  EXT_SOURCE_3  \\\n",
       "0       Kindergarten      0.752614      0.789654      0.159520   \n",
       "1      Self-employed      0.564990      0.291656      0.432962   \n",
       "2  Transport: type 3           NaN      0.699787      0.610991   \n",
       "\n",
       "   APARTMENTS_AVG  BASEMENTAREA_AVG  YEARS_BEGINEXPLUATATION_AVG  \\\n",
       "0           0.066             0.059                       0.9732   \n",
       "1             NaN               NaN                          NaN   \n",
       "2             NaN               NaN                          NaN   \n",
       "\n",
       "   YEARS_BUILD_AVG  COMMONAREA_AVG  ELEVATORS_AVG  ENTRANCES_AVG  \\\n",
       "0              NaN             NaN            NaN         0.1379   \n",
       "1              NaN             NaN            NaN            NaN   \n",
       "2              NaN             NaN            NaN            NaN   \n",
       "\n",
       "   FLOORSMAX_AVG  FLOORSMIN_AVG  LANDAREA_AVG  LIVINGAPARTMENTS_AVG  \\\n",
       "0          0.125            NaN           NaN                   NaN   \n",
       "1            NaN            NaN           NaN                   NaN   \n",
       "2            NaN            NaN           NaN                   NaN   \n",
       "\n",
       "   LIVINGAREA_AVG  NONLIVINGAPARTMENTS_AVG  NONLIVINGAREA_AVG  \\\n",
       "0          0.0505                      NaN                NaN   \n",
       "1             NaN                      NaN                NaN   \n",
       "2             NaN                      NaN                NaN   \n",
       "\n",
       "   APARTMENTS_MODE  BASEMENTAREA_MODE  YEARS_BEGINEXPLUATATION_MODE  \\\n",
       "0           0.0672             0.0612                        0.9732   \n",
       "1              NaN                NaN                           NaN   \n",
       "2              NaN                NaN                           NaN   \n",
       "\n",
       "   YEARS_BUILD_MODE  COMMONAREA_MODE  ELEVATORS_MODE  ENTRANCES_MODE  \\\n",
       "0               NaN              NaN             NaN          0.1379   \n",
       "1               NaN              NaN             NaN             NaN   \n",
       "2               NaN              NaN             NaN             NaN   \n",
       "\n",
       "   FLOORSMAX_MODE  FLOORSMIN_MODE  LANDAREA_MODE  LIVINGAPARTMENTS_MODE  \\\n",
       "0           0.125             NaN            NaN                    NaN   \n",
       "1             NaN             NaN            NaN                    NaN   \n",
       "2             NaN             NaN            NaN                    NaN   \n",
       "\n",
       "   LIVINGAREA_MODE  NONLIVINGAPARTMENTS_MODE  NONLIVINGAREA_MODE  \\\n",
       "0           0.0526                       NaN                 NaN   \n",
       "1              NaN                       NaN                 NaN   \n",
       "2              NaN                       NaN                 NaN   \n",
       "\n",
       "   APARTMENTS_MEDI  BASEMENTAREA_MEDI  YEARS_BEGINEXPLUATATION_MEDI  \\\n",
       "0           0.0666              0.059                        0.9732   \n",
       "1              NaN                NaN                           NaN   \n",
       "2              NaN                NaN                           NaN   \n",
       "\n",
       "   YEARS_BUILD_MEDI  COMMONAREA_MEDI  ELEVATORS_MEDI  ENTRANCES_MEDI  \\\n",
       "0               NaN              NaN             NaN          0.1379   \n",
       "1               NaN              NaN             NaN             NaN   \n",
       "2               NaN              NaN             NaN             NaN   \n",
       "\n",
       "   FLOORSMAX_MEDI  FLOORSMIN_MEDI  LANDAREA_MEDI  LIVINGAPARTMENTS_MEDI  \\\n",
       "0           0.125             NaN            NaN                    NaN   \n",
       "1             NaN             NaN            NaN                    NaN   \n",
       "2             NaN             NaN            NaN                    NaN   \n",
       "\n",
       "   LIVINGAREA_MEDI  NONLIVINGAPARTMENTS_MEDI  NONLIVINGAREA_MEDI  \\\n",
       "0           0.0514                       NaN                 NaN   \n",
       "1              NaN                       NaN                 NaN   \n",
       "2              NaN                       NaN                 NaN   \n",
       "\n",
       "  FONDKAPREMONT_MODE  HOUSETYPE_MODE  TOTALAREA_MODE WALLSMATERIAL_MODE  \\\n",
       "0                NaN  block of flats          0.0392       Stone, brick   \n",
       "1                NaN             NaN             NaN                NaN   \n",
       "2                NaN             NaN             NaN                NaN   \n",
       "\n",
       "  EMERGENCYSTATE_MODE  OBS_30_CNT_SOCIAL_CIRCLE  DEF_30_CNT_SOCIAL_CIRCLE  \\\n",
       "0                  No                       0.0                       0.0   \n",
       "1                 NaN                       0.0                       0.0   \n",
       "2                 NaN                       0.0                       0.0   \n",
       "\n",
       "   OBS_60_CNT_SOCIAL_CIRCLE  DEF_60_CNT_SOCIAL_CIRCLE  DAYS_LAST_PHONE_CHANGE  \\\n",
       "0                       0.0                       0.0                 -1740.0   \n",
       "1                       0.0                       0.0                     0.0   \n",
       "2                       0.0                       0.0                  -856.0   \n",
       "\n",
       "   FLAG_DOCUMENT_2  FLAG_DOCUMENT_3  FLAG_DOCUMENT_4  FLAG_DOCUMENT_5  \\\n",
       "0                0                1                0                0   \n",
       "1                0                1                0                0   \n",
       "2                0                0                0                0   \n",
       "\n",
       "   FLAG_DOCUMENT_6  FLAG_DOCUMENT_7  FLAG_DOCUMENT_8  FLAG_DOCUMENT_9  \\\n",
       "0                0                0                0                0   \n",
       "1                0                0                0                0   \n",
       "2                0                0                1                0   \n",
       "\n",
       "   FLAG_DOCUMENT_10  FLAG_DOCUMENT_11  FLAG_DOCUMENT_12  FLAG_DOCUMENT_13  \\\n",
       "0                 0                 0                 0                 0   \n",
       "1                 0                 0                 0                 0   \n",
       "2                 0                 0                 0                 0   \n",
       "\n",
       "   FLAG_DOCUMENT_14  FLAG_DOCUMENT_15  FLAG_DOCUMENT_16  FLAG_DOCUMENT_17  \\\n",
       "0                 0                 0                 0                 0   \n",
       "1                 0                 0                 0                 0   \n",
       "2                 0                 0                 0                 0   \n",
       "\n",
       "   FLAG_DOCUMENT_18  FLAG_DOCUMENT_19  FLAG_DOCUMENT_20  FLAG_DOCUMENT_21  \\\n",
       "0                 0                 0                 0                 0   \n",
       "1                 0                 0                 0                 0   \n",
       "2                 0                 0                 0                 0   \n",
       "\n",
       "   AMT_REQ_CREDIT_BUREAU_HOUR  AMT_REQ_CREDIT_BUREAU_DAY  \\\n",
       "0                         0.0                        0.0   \n",
       "1                         0.0                        0.0   \n",
       "2                         0.0                        0.0   \n",
       "\n",
       "   AMT_REQ_CREDIT_BUREAU_WEEK  AMT_REQ_CREDIT_BUREAU_MON  \\\n",
       "0                         0.0                        0.0   \n",
       "1                         0.0                        0.0   \n",
       "2                         0.0                        0.0   \n",
       "\n",
       "   AMT_REQ_CREDIT_BUREAU_QRT  AMT_REQ_CREDIT_BUREAU_YEAR  \n",
       "0                        0.0                         0.0  \n",
       "1                        0.0                         3.0  \n",
       "2                        1.0                         4.0  "
      ]
     },
     "execution_count": 5,
     "metadata": {},
     "output_type": "execute_result"
    }
   ],
   "source": [
    "df_test.head(3)"
   ]
  },
  {
   "cell_type": "markdown",
   "metadata": {},
   "source": [
    "### Train"
   ]
  },
  {
   "cell_type": "code",
   "execution_count": 6,
   "metadata": {
    "scrolled": true
   },
   "outputs": [
    {
     "data": {
      "text/html": [
       "<div>\n",
       "<style scoped>\n",
       "    .dataframe tbody tr th:only-of-type {\n",
       "        vertical-align: middle;\n",
       "    }\n",
       "\n",
       "    .dataframe tbody tr th {\n",
       "        vertical-align: top;\n",
       "    }\n",
       "\n",
       "    .dataframe thead th {\n",
       "        text-align: right;\n",
       "    }\n",
       "</style>\n",
       "<table border=\"1\" class=\"dataframe\">\n",
       "  <thead>\n",
       "    <tr style=\"text-align: right;\">\n",
       "      <th></th>\n",
       "      <th>SK_ID_CURR</th>\n",
       "      <th>TARGET</th>\n",
       "      <th>NAME_CONTRACT_TYPE</th>\n",
       "      <th>CODE_GENDER</th>\n",
       "      <th>FLAG_OWN_CAR</th>\n",
       "      <th>FLAG_OWN_REALTY</th>\n",
       "      <th>CNT_CHILDREN</th>\n",
       "      <th>AMT_INCOME_TOTAL</th>\n",
       "      <th>AMT_CREDIT</th>\n",
       "      <th>AMT_ANNUITY</th>\n",
       "      <th>AMT_GOODS_PRICE</th>\n",
       "      <th>NAME_TYPE_SUITE</th>\n",
       "      <th>NAME_INCOME_TYPE</th>\n",
       "      <th>NAME_EDUCATION_TYPE</th>\n",
       "      <th>NAME_FAMILY_STATUS</th>\n",
       "      <th>NAME_HOUSING_TYPE</th>\n",
       "      <th>REGION_POPULATION_RELATIVE</th>\n",
       "      <th>DAYS_BIRTH</th>\n",
       "      <th>DAYS_EMPLOYED</th>\n",
       "      <th>DAYS_REGISTRATION</th>\n",
       "      <th>DAYS_ID_PUBLISH</th>\n",
       "      <th>OWN_CAR_AGE</th>\n",
       "      <th>FLAG_MOBIL</th>\n",
       "      <th>FLAG_EMP_PHONE</th>\n",
       "      <th>FLAG_WORK_PHONE</th>\n",
       "      <th>FLAG_CONT_MOBILE</th>\n",
       "      <th>FLAG_PHONE</th>\n",
       "      <th>FLAG_EMAIL</th>\n",
       "      <th>OCCUPATION_TYPE</th>\n",
       "      <th>CNT_FAM_MEMBERS</th>\n",
       "      <th>REGION_RATING_CLIENT</th>\n",
       "      <th>REGION_RATING_CLIENT_W_CITY</th>\n",
       "      <th>WEEKDAY_APPR_PROCESS_START</th>\n",
       "      <th>HOUR_APPR_PROCESS_START</th>\n",
       "      <th>REG_REGION_NOT_LIVE_REGION</th>\n",
       "      <th>REG_REGION_NOT_WORK_REGION</th>\n",
       "      <th>LIVE_REGION_NOT_WORK_REGION</th>\n",
       "      <th>REG_CITY_NOT_LIVE_CITY</th>\n",
       "      <th>REG_CITY_NOT_WORK_CITY</th>\n",
       "      <th>LIVE_CITY_NOT_WORK_CITY</th>\n",
       "      <th>ORGANIZATION_TYPE</th>\n",
       "      <th>EXT_SOURCE_1</th>\n",
       "      <th>EXT_SOURCE_2</th>\n",
       "      <th>EXT_SOURCE_3</th>\n",
       "      <th>APARTMENTS_AVG</th>\n",
       "      <th>BASEMENTAREA_AVG</th>\n",
       "      <th>YEARS_BEGINEXPLUATATION_AVG</th>\n",
       "      <th>YEARS_BUILD_AVG</th>\n",
       "      <th>COMMONAREA_AVG</th>\n",
       "      <th>ELEVATORS_AVG</th>\n",
       "      <th>ENTRANCES_AVG</th>\n",
       "      <th>FLOORSMAX_AVG</th>\n",
       "      <th>FLOORSMIN_AVG</th>\n",
       "      <th>LANDAREA_AVG</th>\n",
       "      <th>LIVINGAPARTMENTS_AVG</th>\n",
       "      <th>LIVINGAREA_AVG</th>\n",
       "      <th>NONLIVINGAPARTMENTS_AVG</th>\n",
       "      <th>NONLIVINGAREA_AVG</th>\n",
       "      <th>APARTMENTS_MODE</th>\n",
       "      <th>BASEMENTAREA_MODE</th>\n",
       "      <th>YEARS_BEGINEXPLUATATION_MODE</th>\n",
       "      <th>YEARS_BUILD_MODE</th>\n",
       "      <th>COMMONAREA_MODE</th>\n",
       "      <th>ELEVATORS_MODE</th>\n",
       "      <th>ENTRANCES_MODE</th>\n",
       "      <th>FLOORSMAX_MODE</th>\n",
       "      <th>FLOORSMIN_MODE</th>\n",
       "      <th>LANDAREA_MODE</th>\n",
       "      <th>LIVINGAPARTMENTS_MODE</th>\n",
       "      <th>LIVINGAREA_MODE</th>\n",
       "      <th>NONLIVINGAPARTMENTS_MODE</th>\n",
       "      <th>NONLIVINGAREA_MODE</th>\n",
       "      <th>APARTMENTS_MEDI</th>\n",
       "      <th>BASEMENTAREA_MEDI</th>\n",
       "      <th>YEARS_BEGINEXPLUATATION_MEDI</th>\n",
       "      <th>YEARS_BUILD_MEDI</th>\n",
       "      <th>COMMONAREA_MEDI</th>\n",
       "      <th>ELEVATORS_MEDI</th>\n",
       "      <th>ENTRANCES_MEDI</th>\n",
       "      <th>FLOORSMAX_MEDI</th>\n",
       "      <th>FLOORSMIN_MEDI</th>\n",
       "      <th>LANDAREA_MEDI</th>\n",
       "      <th>LIVINGAPARTMENTS_MEDI</th>\n",
       "      <th>LIVINGAREA_MEDI</th>\n",
       "      <th>NONLIVINGAPARTMENTS_MEDI</th>\n",
       "      <th>NONLIVINGAREA_MEDI</th>\n",
       "      <th>FONDKAPREMONT_MODE</th>\n",
       "      <th>HOUSETYPE_MODE</th>\n",
       "      <th>TOTALAREA_MODE</th>\n",
       "      <th>WALLSMATERIAL_MODE</th>\n",
       "      <th>EMERGENCYSTATE_MODE</th>\n",
       "      <th>OBS_30_CNT_SOCIAL_CIRCLE</th>\n",
       "      <th>DEF_30_CNT_SOCIAL_CIRCLE</th>\n",
       "      <th>OBS_60_CNT_SOCIAL_CIRCLE</th>\n",
       "      <th>DEF_60_CNT_SOCIAL_CIRCLE</th>\n",
       "      <th>DAYS_LAST_PHONE_CHANGE</th>\n",
       "      <th>FLAG_DOCUMENT_2</th>\n",
       "      <th>FLAG_DOCUMENT_3</th>\n",
       "      <th>FLAG_DOCUMENT_4</th>\n",
       "      <th>FLAG_DOCUMENT_5</th>\n",
       "      <th>FLAG_DOCUMENT_6</th>\n",
       "      <th>FLAG_DOCUMENT_7</th>\n",
       "      <th>FLAG_DOCUMENT_8</th>\n",
       "      <th>FLAG_DOCUMENT_9</th>\n",
       "      <th>FLAG_DOCUMENT_10</th>\n",
       "      <th>FLAG_DOCUMENT_11</th>\n",
       "      <th>FLAG_DOCUMENT_12</th>\n",
       "      <th>FLAG_DOCUMENT_13</th>\n",
       "      <th>FLAG_DOCUMENT_14</th>\n",
       "      <th>FLAG_DOCUMENT_15</th>\n",
       "      <th>FLAG_DOCUMENT_16</th>\n",
       "      <th>FLAG_DOCUMENT_17</th>\n",
       "      <th>FLAG_DOCUMENT_18</th>\n",
       "      <th>FLAG_DOCUMENT_19</th>\n",
       "      <th>FLAG_DOCUMENT_20</th>\n",
       "      <th>FLAG_DOCUMENT_21</th>\n",
       "      <th>AMT_REQ_CREDIT_BUREAU_HOUR</th>\n",
       "      <th>AMT_REQ_CREDIT_BUREAU_DAY</th>\n",
       "      <th>AMT_REQ_CREDIT_BUREAU_WEEK</th>\n",
       "      <th>AMT_REQ_CREDIT_BUREAU_MON</th>\n",
       "      <th>AMT_REQ_CREDIT_BUREAU_QRT</th>\n",
       "      <th>AMT_REQ_CREDIT_BUREAU_YEAR</th>\n",
       "    </tr>\n",
       "  </thead>\n",
       "  <tbody>\n",
       "    <tr>\n",
       "      <th>0</th>\n",
       "      <td>100002</td>\n",
       "      <td>1</td>\n",
       "      <td>Cash loans</td>\n",
       "      <td>M</td>\n",
       "      <td>N</td>\n",
       "      <td>Y</td>\n",
       "      <td>0</td>\n",
       "      <td>202500.0</td>\n",
       "      <td>406597.5</td>\n",
       "      <td>24700.5</td>\n",
       "      <td>351000.0</td>\n",
       "      <td>Unaccompanied</td>\n",
       "      <td>Working</td>\n",
       "      <td>Secondary / secondary special</td>\n",
       "      <td>Single / not married</td>\n",
       "      <td>House / apartment</td>\n",
       "      <td>0.018801</td>\n",
       "      <td>-9461</td>\n",
       "      <td>-637</td>\n",
       "      <td>-3648.0</td>\n",
       "      <td>-2120</td>\n",
       "      <td>NaN</td>\n",
       "      <td>1</td>\n",
       "      <td>1</td>\n",
       "      <td>0</td>\n",
       "      <td>1</td>\n",
       "      <td>1</td>\n",
       "      <td>0</td>\n",
       "      <td>Laborers</td>\n",
       "      <td>1.0</td>\n",
       "      <td>2</td>\n",
       "      <td>2</td>\n",
       "      <td>WEDNESDAY</td>\n",
       "      <td>10</td>\n",
       "      <td>0</td>\n",
       "      <td>0</td>\n",
       "      <td>0</td>\n",
       "      <td>0</td>\n",
       "      <td>0</td>\n",
       "      <td>0</td>\n",
       "      <td>Business Entity Type 3</td>\n",
       "      <td>0.083037</td>\n",
       "      <td>0.262949</td>\n",
       "      <td>0.139376</td>\n",
       "      <td>0.0247</td>\n",
       "      <td>0.0369</td>\n",
       "      <td>0.9722</td>\n",
       "      <td>0.6192</td>\n",
       "      <td>0.0143</td>\n",
       "      <td>0.00</td>\n",
       "      <td>0.0690</td>\n",
       "      <td>0.0833</td>\n",
       "      <td>0.1250</td>\n",
       "      <td>0.0369</td>\n",
       "      <td>0.0202</td>\n",
       "      <td>0.0190</td>\n",
       "      <td>0.0000</td>\n",
       "      <td>0.0000</td>\n",
       "      <td>0.0252</td>\n",
       "      <td>0.0383</td>\n",
       "      <td>0.9722</td>\n",
       "      <td>0.6341</td>\n",
       "      <td>0.0144</td>\n",
       "      <td>0.0000</td>\n",
       "      <td>0.0690</td>\n",
       "      <td>0.0833</td>\n",
       "      <td>0.1250</td>\n",
       "      <td>0.0377</td>\n",
       "      <td>0.022</td>\n",
       "      <td>0.0198</td>\n",
       "      <td>0.0</td>\n",
       "      <td>0.0</td>\n",
       "      <td>0.0250</td>\n",
       "      <td>0.0369</td>\n",
       "      <td>0.9722</td>\n",
       "      <td>0.6243</td>\n",
       "      <td>0.0144</td>\n",
       "      <td>0.00</td>\n",
       "      <td>0.0690</td>\n",
       "      <td>0.0833</td>\n",
       "      <td>0.1250</td>\n",
       "      <td>0.0375</td>\n",
       "      <td>0.0205</td>\n",
       "      <td>0.0193</td>\n",
       "      <td>0.0000</td>\n",
       "      <td>0.00</td>\n",
       "      <td>reg oper account</td>\n",
       "      <td>block of flats</td>\n",
       "      <td>0.0149</td>\n",
       "      <td>Stone, brick</td>\n",
       "      <td>No</td>\n",
       "      <td>2.0</td>\n",
       "      <td>2.0</td>\n",
       "      <td>2.0</td>\n",
       "      <td>2.0</td>\n",
       "      <td>-1134.0</td>\n",
       "      <td>0</td>\n",
       "      <td>1</td>\n",
       "      <td>0</td>\n",
       "      <td>0</td>\n",
       "      <td>0</td>\n",
       "      <td>0</td>\n",
       "      <td>0</td>\n",
       "      <td>0</td>\n",
       "      <td>0</td>\n",
       "      <td>0</td>\n",
       "      <td>0</td>\n",
       "      <td>0</td>\n",
       "      <td>0</td>\n",
       "      <td>0</td>\n",
       "      <td>0</td>\n",
       "      <td>0</td>\n",
       "      <td>0</td>\n",
       "      <td>0</td>\n",
       "      <td>0</td>\n",
       "      <td>0</td>\n",
       "      <td>0.0</td>\n",
       "      <td>0.0</td>\n",
       "      <td>0.0</td>\n",
       "      <td>0.0</td>\n",
       "      <td>0.0</td>\n",
       "      <td>1.0</td>\n",
       "    </tr>\n",
       "    <tr>\n",
       "      <th>1</th>\n",
       "      <td>100003</td>\n",
       "      <td>0</td>\n",
       "      <td>Cash loans</td>\n",
       "      <td>F</td>\n",
       "      <td>N</td>\n",
       "      <td>N</td>\n",
       "      <td>0</td>\n",
       "      <td>270000.0</td>\n",
       "      <td>1293502.5</td>\n",
       "      <td>35698.5</td>\n",
       "      <td>1129500.0</td>\n",
       "      <td>Family</td>\n",
       "      <td>State servant</td>\n",
       "      <td>Higher education</td>\n",
       "      <td>Married</td>\n",
       "      <td>House / apartment</td>\n",
       "      <td>0.003541</td>\n",
       "      <td>-16765</td>\n",
       "      <td>-1188</td>\n",
       "      <td>-1186.0</td>\n",
       "      <td>-291</td>\n",
       "      <td>NaN</td>\n",
       "      <td>1</td>\n",
       "      <td>1</td>\n",
       "      <td>0</td>\n",
       "      <td>1</td>\n",
       "      <td>1</td>\n",
       "      <td>0</td>\n",
       "      <td>Core staff</td>\n",
       "      <td>2.0</td>\n",
       "      <td>1</td>\n",
       "      <td>1</td>\n",
       "      <td>MONDAY</td>\n",
       "      <td>11</td>\n",
       "      <td>0</td>\n",
       "      <td>0</td>\n",
       "      <td>0</td>\n",
       "      <td>0</td>\n",
       "      <td>0</td>\n",
       "      <td>0</td>\n",
       "      <td>School</td>\n",
       "      <td>0.311267</td>\n",
       "      <td>0.622246</td>\n",
       "      <td>NaN</td>\n",
       "      <td>0.0959</td>\n",
       "      <td>0.0529</td>\n",
       "      <td>0.9851</td>\n",
       "      <td>0.7960</td>\n",
       "      <td>0.0605</td>\n",
       "      <td>0.08</td>\n",
       "      <td>0.0345</td>\n",
       "      <td>0.2917</td>\n",
       "      <td>0.3333</td>\n",
       "      <td>0.0130</td>\n",
       "      <td>0.0773</td>\n",
       "      <td>0.0549</td>\n",
       "      <td>0.0039</td>\n",
       "      <td>0.0098</td>\n",
       "      <td>0.0924</td>\n",
       "      <td>0.0538</td>\n",
       "      <td>0.9851</td>\n",
       "      <td>0.8040</td>\n",
       "      <td>0.0497</td>\n",
       "      <td>0.0806</td>\n",
       "      <td>0.0345</td>\n",
       "      <td>0.2917</td>\n",
       "      <td>0.3333</td>\n",
       "      <td>0.0128</td>\n",
       "      <td>0.079</td>\n",
       "      <td>0.0554</td>\n",
       "      <td>0.0</td>\n",
       "      <td>0.0</td>\n",
       "      <td>0.0968</td>\n",
       "      <td>0.0529</td>\n",
       "      <td>0.9851</td>\n",
       "      <td>0.7987</td>\n",
       "      <td>0.0608</td>\n",
       "      <td>0.08</td>\n",
       "      <td>0.0345</td>\n",
       "      <td>0.2917</td>\n",
       "      <td>0.3333</td>\n",
       "      <td>0.0132</td>\n",
       "      <td>0.0787</td>\n",
       "      <td>0.0558</td>\n",
       "      <td>0.0039</td>\n",
       "      <td>0.01</td>\n",
       "      <td>reg oper account</td>\n",
       "      <td>block of flats</td>\n",
       "      <td>0.0714</td>\n",
       "      <td>Block</td>\n",
       "      <td>No</td>\n",
       "      <td>1.0</td>\n",
       "      <td>0.0</td>\n",
       "      <td>1.0</td>\n",
       "      <td>0.0</td>\n",
       "      <td>-828.0</td>\n",
       "      <td>0</td>\n",
       "      <td>1</td>\n",
       "      <td>0</td>\n",
       "      <td>0</td>\n",
       "      <td>0</td>\n",
       "      <td>0</td>\n",
       "      <td>0</td>\n",
       "      <td>0</td>\n",
       "      <td>0</td>\n",
       "      <td>0</td>\n",
       "      <td>0</td>\n",
       "      <td>0</td>\n",
       "      <td>0</td>\n",
       "      <td>0</td>\n",
       "      <td>0</td>\n",
       "      <td>0</td>\n",
       "      <td>0</td>\n",
       "      <td>0</td>\n",
       "      <td>0</td>\n",
       "      <td>0</td>\n",
       "      <td>0.0</td>\n",
       "      <td>0.0</td>\n",
       "      <td>0.0</td>\n",
       "      <td>0.0</td>\n",
       "      <td>0.0</td>\n",
       "      <td>0.0</td>\n",
       "    </tr>\n",
       "    <tr>\n",
       "      <th>2</th>\n",
       "      <td>100004</td>\n",
       "      <td>0</td>\n",
       "      <td>Revolving loans</td>\n",
       "      <td>M</td>\n",
       "      <td>Y</td>\n",
       "      <td>Y</td>\n",
       "      <td>0</td>\n",
       "      <td>67500.0</td>\n",
       "      <td>135000.0</td>\n",
       "      <td>6750.0</td>\n",
       "      <td>135000.0</td>\n",
       "      <td>Unaccompanied</td>\n",
       "      <td>Working</td>\n",
       "      <td>Secondary / secondary special</td>\n",
       "      <td>Single / not married</td>\n",
       "      <td>House / apartment</td>\n",
       "      <td>0.010032</td>\n",
       "      <td>-19046</td>\n",
       "      <td>-225</td>\n",
       "      <td>-4260.0</td>\n",
       "      <td>-2531</td>\n",
       "      <td>26.0</td>\n",
       "      <td>1</td>\n",
       "      <td>1</td>\n",
       "      <td>1</td>\n",
       "      <td>1</td>\n",
       "      <td>1</td>\n",
       "      <td>0</td>\n",
       "      <td>Laborers</td>\n",
       "      <td>1.0</td>\n",
       "      <td>2</td>\n",
       "      <td>2</td>\n",
       "      <td>MONDAY</td>\n",
       "      <td>9</td>\n",
       "      <td>0</td>\n",
       "      <td>0</td>\n",
       "      <td>0</td>\n",
       "      <td>0</td>\n",
       "      <td>0</td>\n",
       "      <td>0</td>\n",
       "      <td>Government</td>\n",
       "      <td>NaN</td>\n",
       "      <td>0.555912</td>\n",
       "      <td>0.729567</td>\n",
       "      <td>NaN</td>\n",
       "      <td>NaN</td>\n",
       "      <td>NaN</td>\n",
       "      <td>NaN</td>\n",
       "      <td>NaN</td>\n",
       "      <td>NaN</td>\n",
       "      <td>NaN</td>\n",
       "      <td>NaN</td>\n",
       "      <td>NaN</td>\n",
       "      <td>NaN</td>\n",
       "      <td>NaN</td>\n",
       "      <td>NaN</td>\n",
       "      <td>NaN</td>\n",
       "      <td>NaN</td>\n",
       "      <td>NaN</td>\n",
       "      <td>NaN</td>\n",
       "      <td>NaN</td>\n",
       "      <td>NaN</td>\n",
       "      <td>NaN</td>\n",
       "      <td>NaN</td>\n",
       "      <td>NaN</td>\n",
       "      <td>NaN</td>\n",
       "      <td>NaN</td>\n",
       "      <td>NaN</td>\n",
       "      <td>NaN</td>\n",
       "      <td>NaN</td>\n",
       "      <td>NaN</td>\n",
       "      <td>NaN</td>\n",
       "      <td>NaN</td>\n",
       "      <td>NaN</td>\n",
       "      <td>NaN</td>\n",
       "      <td>NaN</td>\n",
       "      <td>NaN</td>\n",
       "      <td>NaN</td>\n",
       "      <td>NaN</td>\n",
       "      <td>NaN</td>\n",
       "      <td>NaN</td>\n",
       "      <td>NaN</td>\n",
       "      <td>NaN</td>\n",
       "      <td>NaN</td>\n",
       "      <td>NaN</td>\n",
       "      <td>NaN</td>\n",
       "      <td>NaN</td>\n",
       "      <td>NaN</td>\n",
       "      <td>NaN</td>\n",
       "      <td>NaN</td>\n",
       "      <td>NaN</td>\n",
       "      <td>0.0</td>\n",
       "      <td>0.0</td>\n",
       "      <td>0.0</td>\n",
       "      <td>0.0</td>\n",
       "      <td>-815.0</td>\n",
       "      <td>0</td>\n",
       "      <td>0</td>\n",
       "      <td>0</td>\n",
       "      <td>0</td>\n",
       "      <td>0</td>\n",
       "      <td>0</td>\n",
       "      <td>0</td>\n",
       "      <td>0</td>\n",
       "      <td>0</td>\n",
       "      <td>0</td>\n",
       "      <td>0</td>\n",
       "      <td>0</td>\n",
       "      <td>0</td>\n",
       "      <td>0</td>\n",
       "      <td>0</td>\n",
       "      <td>0</td>\n",
       "      <td>0</td>\n",
       "      <td>0</td>\n",
       "      <td>0</td>\n",
       "      <td>0</td>\n",
       "      <td>0.0</td>\n",
       "      <td>0.0</td>\n",
       "      <td>0.0</td>\n",
       "      <td>0.0</td>\n",
       "      <td>0.0</td>\n",
       "      <td>0.0</td>\n",
       "    </tr>\n",
       "  </tbody>\n",
       "</table>\n",
       "</div>"
      ],
      "text/plain": [
       "   SK_ID_CURR  TARGET NAME_CONTRACT_TYPE CODE_GENDER FLAG_OWN_CAR  \\\n",
       "0      100002       1         Cash loans           M            N   \n",
       "1      100003       0         Cash loans           F            N   \n",
       "2      100004       0    Revolving loans           M            Y   \n",
       "\n",
       "  FLAG_OWN_REALTY  CNT_CHILDREN  AMT_INCOME_TOTAL  AMT_CREDIT  AMT_ANNUITY  \\\n",
       "0               Y             0          202500.0    406597.5      24700.5   \n",
       "1               N             0          270000.0   1293502.5      35698.5   \n",
       "2               Y             0           67500.0    135000.0       6750.0   \n",
       "\n",
       "   AMT_GOODS_PRICE NAME_TYPE_SUITE NAME_INCOME_TYPE  \\\n",
       "0         351000.0   Unaccompanied          Working   \n",
       "1        1129500.0          Family    State servant   \n",
       "2         135000.0   Unaccompanied          Working   \n",
       "\n",
       "             NAME_EDUCATION_TYPE    NAME_FAMILY_STATUS  NAME_HOUSING_TYPE  \\\n",
       "0  Secondary / secondary special  Single / not married  House / apartment   \n",
       "1               Higher education               Married  House / apartment   \n",
       "2  Secondary / secondary special  Single / not married  House / apartment   \n",
       "\n",
       "   REGION_POPULATION_RELATIVE  DAYS_BIRTH  DAYS_EMPLOYED  DAYS_REGISTRATION  \\\n",
       "0                    0.018801       -9461           -637            -3648.0   \n",
       "1                    0.003541      -16765          -1188            -1186.0   \n",
       "2                    0.010032      -19046           -225            -4260.0   \n",
       "\n",
       "   DAYS_ID_PUBLISH  OWN_CAR_AGE  FLAG_MOBIL  FLAG_EMP_PHONE  FLAG_WORK_PHONE  \\\n",
       "0            -2120          NaN           1               1                0   \n",
       "1             -291          NaN           1               1                0   \n",
       "2            -2531         26.0           1               1                1   \n",
       "\n",
       "   FLAG_CONT_MOBILE  FLAG_PHONE  FLAG_EMAIL OCCUPATION_TYPE  CNT_FAM_MEMBERS  \\\n",
       "0                 1           1           0        Laborers              1.0   \n",
       "1                 1           1           0      Core staff              2.0   \n",
       "2                 1           1           0        Laborers              1.0   \n",
       "\n",
       "   REGION_RATING_CLIENT  REGION_RATING_CLIENT_W_CITY  \\\n",
       "0                     2                            2   \n",
       "1                     1                            1   \n",
       "2                     2                            2   \n",
       "\n",
       "  WEEKDAY_APPR_PROCESS_START  HOUR_APPR_PROCESS_START  \\\n",
       "0                  WEDNESDAY                       10   \n",
       "1                     MONDAY                       11   \n",
       "2                     MONDAY                        9   \n",
       "\n",
       "   REG_REGION_NOT_LIVE_REGION  REG_REGION_NOT_WORK_REGION  \\\n",
       "0                           0                           0   \n",
       "1                           0                           0   \n",
       "2                           0                           0   \n",
       "\n",
       "   LIVE_REGION_NOT_WORK_REGION  REG_CITY_NOT_LIVE_CITY  \\\n",
       "0                            0                       0   \n",
       "1                            0                       0   \n",
       "2                            0                       0   \n",
       "\n",
       "   REG_CITY_NOT_WORK_CITY  LIVE_CITY_NOT_WORK_CITY       ORGANIZATION_TYPE  \\\n",
       "0                       0                        0  Business Entity Type 3   \n",
       "1                       0                        0                  School   \n",
       "2                       0                        0              Government   \n",
       "\n",
       "   EXT_SOURCE_1  EXT_SOURCE_2  EXT_SOURCE_3  APARTMENTS_AVG  BASEMENTAREA_AVG  \\\n",
       "0      0.083037      0.262949      0.139376          0.0247            0.0369   \n",
       "1      0.311267      0.622246           NaN          0.0959            0.0529   \n",
       "2           NaN      0.555912      0.729567             NaN               NaN   \n",
       "\n",
       "   YEARS_BEGINEXPLUATATION_AVG  YEARS_BUILD_AVG  COMMONAREA_AVG  \\\n",
       "0                       0.9722           0.6192          0.0143   \n",
       "1                       0.9851           0.7960          0.0605   \n",
       "2                          NaN              NaN             NaN   \n",
       "\n",
       "   ELEVATORS_AVG  ENTRANCES_AVG  FLOORSMAX_AVG  FLOORSMIN_AVG  LANDAREA_AVG  \\\n",
       "0           0.00         0.0690         0.0833         0.1250        0.0369   \n",
       "1           0.08         0.0345         0.2917         0.3333        0.0130   \n",
       "2            NaN            NaN            NaN            NaN           NaN   \n",
       "\n",
       "   LIVINGAPARTMENTS_AVG  LIVINGAREA_AVG  NONLIVINGAPARTMENTS_AVG  \\\n",
       "0                0.0202          0.0190                   0.0000   \n",
       "1                0.0773          0.0549                   0.0039   \n",
       "2                   NaN             NaN                      NaN   \n",
       "\n",
       "   NONLIVINGAREA_AVG  APARTMENTS_MODE  BASEMENTAREA_MODE  \\\n",
       "0             0.0000           0.0252             0.0383   \n",
       "1             0.0098           0.0924             0.0538   \n",
       "2                NaN              NaN                NaN   \n",
       "\n",
       "   YEARS_BEGINEXPLUATATION_MODE  YEARS_BUILD_MODE  COMMONAREA_MODE  \\\n",
       "0                        0.9722            0.6341           0.0144   \n",
       "1                        0.9851            0.8040           0.0497   \n",
       "2                           NaN               NaN              NaN   \n",
       "\n",
       "   ELEVATORS_MODE  ENTRANCES_MODE  FLOORSMAX_MODE  FLOORSMIN_MODE  \\\n",
       "0          0.0000          0.0690          0.0833          0.1250   \n",
       "1          0.0806          0.0345          0.2917          0.3333   \n",
       "2             NaN             NaN             NaN             NaN   \n",
       "\n",
       "   LANDAREA_MODE  LIVINGAPARTMENTS_MODE  LIVINGAREA_MODE  \\\n",
       "0         0.0377                  0.022           0.0198   \n",
       "1         0.0128                  0.079           0.0554   \n",
       "2            NaN                    NaN              NaN   \n",
       "\n",
       "   NONLIVINGAPARTMENTS_MODE  NONLIVINGAREA_MODE  APARTMENTS_MEDI  \\\n",
       "0                       0.0                 0.0           0.0250   \n",
       "1                       0.0                 0.0           0.0968   \n",
       "2                       NaN                 NaN              NaN   \n",
       "\n",
       "   BASEMENTAREA_MEDI  YEARS_BEGINEXPLUATATION_MEDI  YEARS_BUILD_MEDI  \\\n",
       "0             0.0369                        0.9722            0.6243   \n",
       "1             0.0529                        0.9851            0.7987   \n",
       "2                NaN                           NaN               NaN   \n",
       "\n",
       "   COMMONAREA_MEDI  ELEVATORS_MEDI  ENTRANCES_MEDI  FLOORSMAX_MEDI  \\\n",
       "0           0.0144            0.00          0.0690          0.0833   \n",
       "1           0.0608            0.08          0.0345          0.2917   \n",
       "2              NaN             NaN             NaN             NaN   \n",
       "\n",
       "   FLOORSMIN_MEDI  LANDAREA_MEDI  LIVINGAPARTMENTS_MEDI  LIVINGAREA_MEDI  \\\n",
       "0          0.1250         0.0375                 0.0205           0.0193   \n",
       "1          0.3333         0.0132                 0.0787           0.0558   \n",
       "2             NaN            NaN                    NaN              NaN   \n",
       "\n",
       "   NONLIVINGAPARTMENTS_MEDI  NONLIVINGAREA_MEDI FONDKAPREMONT_MODE  \\\n",
       "0                    0.0000                0.00   reg oper account   \n",
       "1                    0.0039                0.01   reg oper account   \n",
       "2                       NaN                 NaN                NaN   \n",
       "\n",
       "   HOUSETYPE_MODE  TOTALAREA_MODE WALLSMATERIAL_MODE EMERGENCYSTATE_MODE  \\\n",
       "0  block of flats          0.0149       Stone, brick                  No   \n",
       "1  block of flats          0.0714              Block                  No   \n",
       "2             NaN             NaN                NaN                 NaN   \n",
       "\n",
       "   OBS_30_CNT_SOCIAL_CIRCLE  DEF_30_CNT_SOCIAL_CIRCLE  \\\n",
       "0                       2.0                       2.0   \n",
       "1                       1.0                       0.0   \n",
       "2                       0.0                       0.0   \n",
       "\n",
       "   OBS_60_CNT_SOCIAL_CIRCLE  DEF_60_CNT_SOCIAL_CIRCLE  DAYS_LAST_PHONE_CHANGE  \\\n",
       "0                       2.0                       2.0                 -1134.0   \n",
       "1                       1.0                       0.0                  -828.0   \n",
       "2                       0.0                       0.0                  -815.0   \n",
       "\n",
       "   FLAG_DOCUMENT_2  FLAG_DOCUMENT_3  FLAG_DOCUMENT_4  FLAG_DOCUMENT_5  \\\n",
       "0                0                1                0                0   \n",
       "1                0                1                0                0   \n",
       "2                0                0                0                0   \n",
       "\n",
       "   FLAG_DOCUMENT_6  FLAG_DOCUMENT_7  FLAG_DOCUMENT_8  FLAG_DOCUMENT_9  \\\n",
       "0                0                0                0                0   \n",
       "1                0                0                0                0   \n",
       "2                0                0                0                0   \n",
       "\n",
       "   FLAG_DOCUMENT_10  FLAG_DOCUMENT_11  FLAG_DOCUMENT_12  FLAG_DOCUMENT_13  \\\n",
       "0                 0                 0                 0                 0   \n",
       "1                 0                 0                 0                 0   \n",
       "2                 0                 0                 0                 0   \n",
       "\n",
       "   FLAG_DOCUMENT_14  FLAG_DOCUMENT_15  FLAG_DOCUMENT_16  FLAG_DOCUMENT_17  \\\n",
       "0                 0                 0                 0                 0   \n",
       "1                 0                 0                 0                 0   \n",
       "2                 0                 0                 0                 0   \n",
       "\n",
       "   FLAG_DOCUMENT_18  FLAG_DOCUMENT_19  FLAG_DOCUMENT_20  FLAG_DOCUMENT_21  \\\n",
       "0                 0                 0                 0                 0   \n",
       "1                 0                 0                 0                 0   \n",
       "2                 0                 0                 0                 0   \n",
       "\n",
       "   AMT_REQ_CREDIT_BUREAU_HOUR  AMT_REQ_CREDIT_BUREAU_DAY  \\\n",
       "0                         0.0                        0.0   \n",
       "1                         0.0                        0.0   \n",
       "2                         0.0                        0.0   \n",
       "\n",
       "   AMT_REQ_CREDIT_BUREAU_WEEK  AMT_REQ_CREDIT_BUREAU_MON  \\\n",
       "0                         0.0                        0.0   \n",
       "1                         0.0                        0.0   \n",
       "2                         0.0                        0.0   \n",
       "\n",
       "   AMT_REQ_CREDIT_BUREAU_QRT  AMT_REQ_CREDIT_BUREAU_YEAR  \n",
       "0                        0.0                         1.0  \n",
       "1                        0.0                         0.0  \n",
       "2                        0.0                         0.0  "
      ]
     },
     "execution_count": 6,
     "metadata": {},
     "output_type": "execute_result"
    }
   ],
   "source": [
    "df_train.head(3)\n",
    "#This is the main table, broken into two files for Train (with TARGET) and Test (without TARGET).\n",
    "#Static data for all applications. One row represents one loan in our data sample."
   ]
  },
  {
   "cell_type": "code",
   "execution_count": 7,
   "metadata": {},
   "outputs": [
    {
     "data": {
      "text/plain": [
       "307511"
      ]
     },
     "execution_count": 7,
     "metadata": {},
     "output_type": "execute_result"
    }
   ],
   "source": [
    "df_train[\"SK_ID_CURR\"].nunique()"
   ]
  },
  {
   "cell_type": "code",
   "execution_count": 8,
   "metadata": {},
   "outputs": [
    {
     "data": {
      "text/plain": [
       "(307511, 122)"
      ]
     },
     "execution_count": 8,
     "metadata": {},
     "output_type": "execute_result"
    }
   ],
   "source": [
    "df_train.shape"
   ]
  },
  {
   "cell_type": "code",
   "execution_count": 9,
   "metadata": {},
   "outputs": [],
   "source": [
    "data_train = df_train[[\"SK_ID_CURR\", \"TARGET\", \"NAME_CONTRACT_TYPE\", \n",
    "                      \"CODE_GENDER\", \"FLAG_OWN_CAR\", \"FLAG_OWN_REALTY\",\n",
    "                        \"AMT_INCOME_TOTAL\", \"AMT_CREDIT\", \"AMT_ANNUITY\",\n",
    "                       \"NAME_INCOME_TYPE\", \"NAME_EDUCATION_TYPE\", \n",
    "                       \"NAME_FAMILY_STATUS\", \"NAME_HOUSING_TYPE\",\n",
    "                      \"DAYS_BIRTH\", \"DAYS_EMPLOYED\", \"OWN_CAR_AGE\",\n",
    "                      \"OCCUPATION_TYPE\", \"CNT_FAM_MEMBERS\"]]"
   ]
  },
  {
   "cell_type": "code",
   "execution_count": 10,
   "metadata": {
    "scrolled": false
   },
   "outputs": [
    {
     "name": "stdout",
     "output_type": "stream",
     "text": [
      "['Normalized information about building where the client lives, What is average (_AVG suffix), modus (_MODE suffix), median (_MEDI suffix) apartment size, common area, living area, age of building, number of elevators, number of entrances, state of the building, number of floor']\n"
     ]
    }
   ],
   "source": [
    "print(df_home_credit.loc[df_home_credit[\"Row\"] == \"LANDAREA_MODE\", \"Description\"].values)"
   ]
  },
  {
   "cell_type": "code",
   "execution_count": 11,
   "metadata": {},
   "outputs": [
    {
     "name": "stdout",
     "output_type": "stream",
     "text": [
      "['Target variable (1 - client with payment difficulties: he/she had late payment more than X days on at least one of the first Y installments of the loan in our sample, 0 - all other cases)']\n"
     ]
    }
   ],
   "source": [
    "print(df_home_credit.loc[df_home_credit[\"Row\"] == \"TARGET\", \"Description\"].values)"
   ]
  },
  {
   "cell_type": "code",
   "execution_count": 12,
   "metadata": {},
   "outputs": [
    {
     "data": {
      "text/plain": [
       "array([[<AxesSubplot:title={'center':'TARGET'}>]], dtype=object)"
      ]
     },
     "execution_count": 12,
     "metadata": {},
     "output_type": "execute_result"
    },
    {
     "data": {
      "image/png": "[encoded data removed]",
      "text/plain": [
       "<Figure size 432x288 with 1 Axes>"
      ]
     },
     "metadata": {
      "needs_background": "light"
     },
     "output_type": "display_data"
    }
   ],
   "source": [
    "data_train.hist(\"TARGET\", density=1)"
   ]
  },
  {
   "cell_type": "markdown",
   "metadata": {},
   "source": [
    "#### OCCUPATION_TYPE"
   ]
  },
  {
   "cell_type": "code",
   "execution_count": 13,
   "metadata": {
    "scrolled": true
   },
   "outputs": [
    {
     "data": {
      "text/plain": [
       "<AxesSubplot:>"
      ]
     },
     "execution_count": 13,
     "metadata": {},
     "output_type": "execute_result"
    },
    {
     "data": {
      "image/png": "[encoded data removed]",
      "text/plain": [
       "<Figure size 432x288 with 1 Axes>"
      ]
     },
     "metadata": {
      "needs_background": "light"
     },
     "output_type": "display_data"
    }
   ],
   "source": [
    "data_train[\"OCCUPATION_TYPE\"].value_counts(normalize = True).plot.bar()"
   ]
  },
  {
   "cell_type": "code",
   "execution_count": 14,
   "metadata": {
    "scrolled": true
   },
   "outputs": [
    {
     "name": "stdout",
     "output_type": "stream",
     "text": [
      "['What kind of occupation does the client have']\n"
     ]
    }
   ],
   "source": [
    "print(df_home_credit.loc[df_home_credit[\"Row\"] == \"OCCUPATION_TYPE\", \"Description\"].values)"
   ]
  },
  {
   "cell_type": "markdown",
   "metadata": {},
   "source": [
    "#### DAYS_EMPLOYED"
   ]
  },
  {
   "cell_type": "code",
   "execution_count": 15,
   "metadata": {},
   "outputs": [
    {
     "name": "stdout",
     "output_type": "stream",
     "text": [
      "['How many days before the application the person started current employment']\n"
     ]
    }
   ],
   "source": [
    "print(df_home_credit.loc[df_home_credit[\"Row\"] == \"DAYS_EMPLOYED\", \"Description\"].values)"
   ]
  },
  {
   "cell_type": "code",
   "execution_count": 16,
   "metadata": {},
   "outputs": [
    {
     "data": {
      "text/plain": [
       "array([[<AxesSubplot:title={'center':'DAYS_EMPLOYED'}>]], dtype=object)"
      ]
     },
     "execution_count": 16,
     "metadata": {},
     "output_type": "execute_result"
    },
    {
     "data": {
      "image/png": "[encoded data removed]",
      "text/plain": [
       "<Figure size 432x288 with 1 Axes>"
      ]
     },
     "metadata": {
      "needs_background": "light"
     },
     "output_type": "display_data"
    }
   ],
   "source": [
    "data_train[data_train[\"DAYS_EMPLOYED\"] < 50000].hist(\"DAYS_EMPLOYED\")"
   ]
  },
  {
   "cell_type": "code",
   "execution_count": 17,
   "metadata": {},
   "outputs": [
    {
     "data": {
      "text/plain": [
       "array([[<AxesSubplot:title={'center':'DAYS_EMPLOYED'}>]], dtype=object)"
      ]
     },
     "execution_count": 17,
     "metadata": {},
     "output_type": "execute_result"
    },
    {
     "data": {
      "image/png": "[encoded data removed]",
      "text/plain": [
       "<Figure size 432x288 with 1 Axes>"
      ]
     },
     "metadata": {
      "needs_background": "light"
     },
     "output_type": "display_data"
    }
   ],
   "source": [
    "data_train[(data_train[\"DAYS_EMPLOYED\"] >0) & (data_train[\"DAYS_EMPLOYED\"] < 500000)].hist(\"DAYS_EMPLOYED\")"
   ]
  },
  {
   "cell_type": "markdown",
   "metadata": {},
   "source": [
    "**300 000 jours correspond à plus de 87 ans de travail**. On supprime les valeurs positives"
   ]
  },
  {
   "cell_type": "code",
   "execution_count": 18,
   "metadata": {},
   "outputs": [
    {
     "name": "stdout",
     "output_type": "stream",
     "text": [
      "Element 16843 bellow Q1 - 1.5 * IQ (-6466.50)\n",
      "Element 55374 above Q3 + 1.5 * IQ (3417.50)\n"
     ]
    }
   ],
   "source": [
    "#distance_IQ(data_train[\"DAYS_EMPLOYED\"])\n",
    "data_train = clean_IQ(data_train, \"DAYS_EMPLOYED\")"
   ]
  },
  {
   "cell_type": "code",
   "execution_count": 19,
   "metadata": {},
   "outputs": [
    {
     "data": {
      "text/plain": [
       "array([[<AxesSubplot:title={'center':'DAYS_EMPLOYED'}>]], dtype=object)"
      ]
     },
     "execution_count": 19,
     "metadata": {},
     "output_type": "execute_result"
    },
    {
     "data": {
      "image/png": "[encoded data removed]",
      "text/plain": [
       "<Figure size 432x288 with 1 Axes>"
      ]
     },
     "metadata": {
      "needs_background": "light"
     },
     "output_type": "display_data"
    }
   ],
   "source": [
    "data_train.hist(\"DAYS_EMPLOYED\")"
   ]
  },
  {
   "cell_type": "markdown",
   "metadata": {},
   "source": [
    "#### NAME_CONTRACT_TYPE"
   ]
  },
  {
   "cell_type": "code",
   "execution_count": 20,
   "metadata": {},
   "outputs": [
    {
     "data": {
      "text/plain": [
       "Cash loans         210803\n",
       "Revolving loans     24491\n",
       "Name: NAME_CONTRACT_TYPE, dtype: int64"
      ]
     },
     "execution_count": 20,
     "metadata": {},
     "output_type": "execute_result"
    }
   ],
   "source": [
    "data_train[\"NAME_CONTRACT_TYPE\"].value_counts()"
   ]
  },
  {
   "cell_type": "markdown",
   "metadata": {},
   "source": [
    "#### CODE_GENDER"
   ]
  },
  {
   "cell_type": "code",
   "execution_count": 21,
   "metadata": {},
   "outputs": [
    {
     "data": {
      "text/plain": [
       "F      144488\n",
       "M       90803\n",
       "XNA         3\n",
       "Name: CODE_GENDER, dtype: int64"
      ]
     },
     "execution_count": 21,
     "metadata": {},
     "output_type": "execute_result"
    }
   ],
   "source": [
    "data_train[\"CODE_GENDER\"].value_counts()"
   ]
  },
  {
   "cell_type": "markdown",
   "metadata": {},
   "source": [
    "On retire le genre indéfini pour éviter de futur biais."
   ]
  },
  {
   "cell_type": "code",
   "execution_count": 22,
   "metadata": {},
   "outputs": [
    {
     "name": "stderr",
     "output_type": "stream",
     "text": [
      "<ipython-input-22-dadd3cd089b9>:1: UserWarning: Boolean Series key will be reindexed to match DataFrame index.\n",
      "  data_train = data_train[df_train[\"CODE_GENDER\"] != \"XNA\"]\n"
     ]
    }
   ],
   "source": [
    "data_train = data_train[df_train[\"CODE_GENDER\"] != \"XNA\"]"
   ]
  },
  {
   "cell_type": "markdown",
   "metadata": {},
   "source": [
    "#### AMT_INCOME_TOTAL"
   ]
  },
  {
   "cell_type": "code",
   "execution_count": 23,
   "metadata": {},
   "outputs": [
    {
     "name": "stdout",
     "output_type": "stream",
     "text": [
      "['Income of the client']\n"
     ]
    }
   ],
   "source": [
    "print(df_home_credit.loc[df_home_credit[\"Row\"] == \"AMT_INCOME_TOTAL\", \"Description\"].values)"
   ]
  },
  {
   "cell_type": "code",
   "execution_count": 24,
   "metadata": {},
   "outputs": [
    {
     "data": {
      "text/plain": [
       "array([[<AxesSubplot:title={'center':'AMT_INCOME_TOTAL'}>]], dtype=object)"
      ]
     },
     "execution_count": 24,
     "metadata": {},
     "output_type": "execute_result"
    },
    {
     "data": {
      "image/png": "[encoded data removed]",
      "text/plain": [
       "<Figure size 432x288 with 1 Axes>"
      ]
     },
     "metadata": {
      "needs_background": "light"
     },
     "output_type": "display_data"
    }
   ],
   "source": [
    "data_train.hist(\"AMT_INCOME_TOTAL\", bins = 50)"
   ]
  },
  {
   "cell_type": "code",
   "execution_count": 25,
   "metadata": {},
   "outputs": [
    {
     "data": {
      "text/plain": [
       "count    2.352910e+05\n",
       "mean     1.758691e+05\n",
       "std      2.658991e+05\n",
       "min      2.565000e+04\n",
       "25%      1.125000e+05\n",
       "50%      1.575000e+05\n",
       "75%      2.115000e+05\n",
       "max      1.170000e+08\n",
       "Name: AMT_INCOME_TOTAL, dtype: float64"
      ]
     },
     "execution_count": 25,
     "metadata": {},
     "output_type": "execute_result"
    }
   ],
   "source": [
    "data_train[\"AMT_INCOME_TOTAL\"].describe()"
   ]
  },
  {
   "cell_type": "markdown",
   "metadata": {},
   "source": [
    "3/4 of customers earn less than 200 000 $. One individu earn more than 10 millions dollars. "
   ]
  },
  {
   "cell_type": "code",
   "execution_count": 26,
   "metadata": {},
   "outputs": [
    {
     "name": "stdout",
     "output_type": "stream",
     "text": [
      "Element 0 bellow Q1 - 1.5 * IQ (-36000.00)\n",
      "Element 8149 above Q3 + 1.5 * IQ (360000.00)\n"
     ]
    },
    {
     "data": {
      "text/plain": [
       "array([[<AxesSubplot:title={'center':'AMT_INCOME_TOTAL'}>]], dtype=object)"
      ]
     },
     "execution_count": 26,
     "metadata": {},
     "output_type": "execute_result"
    },
    {
     "data": {
      "image/png": "[encoded data removed]",
      "text/plain": [
       "<Figure size 432x288 with 1 Axes>"
      ]
     },
     "metadata": {
      "needs_background": "light"
     },
     "output_type": "display_data"
    }
   ],
   "source": [
    "data_train = clean_IQ(data_train, \"AMT_INCOME_TOTAL\")\n",
    "data_train.hist(\"AMT_INCOME_TOTAL\", bins = 20)"
   ]
  },
  {
   "cell_type": "markdown",
   "metadata": {},
   "source": [
    "#### AMT_CREDIT"
   ]
  },
  {
   "cell_type": "code",
   "execution_count": 27,
   "metadata": {},
   "outputs": [
    {
     "name": "stdout",
     "output_type": "stream",
     "text": [
      "['Credit amount of the loan'\n",
      " 'Final credit amount on the previous application. This differs from AMT_APPLICATION in a way that the AMT_APPLICATION is the amount for which the client initially applied for, but during our approval process he could have received different amount - AMT_CREDIT']\n"
     ]
    }
   ],
   "source": [
    "print(df_home_credit.loc[df_home_credit[\"Row\"] == \"AMT_CREDIT\", \"Description\"].values)"
   ]
  },
  {
   "cell_type": "code",
   "execution_count": 28,
   "metadata": {},
   "outputs": [],
   "source": [
    "#data_train.hist(\"AMT_CREDIT\", bins= 50)"
   ]
  },
  {
   "cell_type": "code",
   "execution_count": 29,
   "metadata": {},
   "outputs": [
    {
     "name": "stdout",
     "output_type": "stream",
     "text": [
      "Element 0 bellow Q1 - 1.5 * IQ (-537975.00)\n",
      "Element 3713 above Q3 + 1.5 * IQ (1616625.00)\n"
     ]
    },
    {
     "data": {
      "text/plain": [
       "array([[<AxesSubplot:title={'center':'AMT_CREDIT'}>]], dtype=object)"
      ]
     },
     "execution_count": 29,
     "metadata": {},
     "output_type": "execute_result"
    },
    {
     "data": {
      "image/png": "[encoded data removed]",
      "text/plain": [
       "<Figure size 432x288 with 1 Axes>"
      ]
     },
     "metadata": {
      "needs_background": "light"
     },
     "output_type": "display_data"
    }
   ],
   "source": [
    "data_train = clean_IQ(data_train, \"AMT_CREDIT\")\n",
    "data_train.hist(\"AMT_CREDIT\", bins = 50)"
   ]
  },
  {
   "cell_type": "markdown",
   "metadata": {},
   "source": [
    "#### AMT_ANNUITY"
   ]
  },
  {
   "cell_type": "code",
   "execution_count": 30,
   "metadata": {},
   "outputs": [
    {
     "name": "stdout",
     "output_type": "stream",
     "text": [
      "['Loan annuity' 'Annuity of the Credit Bureau credit'\n",
      " 'Annuity of previous application']\n"
     ]
    }
   ],
   "source": [
    "print(df_home_credit.loc[df_home_credit[\"Row\"] == \"AMT_ANNUITY\", \"Description\"].values)"
   ]
  },
  {
   "cell_type": "code",
   "execution_count": 31,
   "metadata": {},
   "outputs": [
    {
     "data": {
      "text/plain": [
       "array([[<AxesSubplot:title={'center':'AMT_ANNUITY'}>]], dtype=object)"
      ]
     },
     "execution_count": 31,
     "metadata": {},
     "output_type": "execute_result"
    },
    {
     "data": {
      "image/png": "[encoded data removed]",
      "text/plain": [
       "<Figure size 432x288 with 1 Axes>"
      ]
     },
     "metadata": {
      "needs_background": "light"
     },
     "output_type": "display_data"
    }
   ],
   "source": [
    "data_train.hist(\"AMT_ANNUITY\", bins= 50)"
   ]
  },
  {
   "cell_type": "code",
   "execution_count": 32,
   "metadata": {},
   "outputs": [
    {
     "data": {
      "text/plain": [
       "<AxesSubplot:>"
      ]
     },
     "execution_count": 32,
     "metadata": {},
     "output_type": "execute_result"
    },
    {
     "data": {
      "image/png": "[encoded data removed]",
      "text/plain": [
       "<Figure size 432x288 with 1 Axes>"
      ]
     },
     "metadata": {
      "needs_background": "light"
     },
     "output_type": "display_data"
    }
   ],
   "source": [
    "data_train.boxplot(\"AMT_ANNUITY\")"
   ]
  },
  {
   "cell_type": "code",
   "execution_count": 33,
   "metadata": {},
   "outputs": [
    {
     "name": "stdout",
     "output_type": "stream",
     "text": [
      "Element 0 bellow Q1 - 1.5 * IQ (-8797.50)\n",
      "Element 3624 above Q3 + 1.5 * IQ (58882.50)\n"
     ]
    },
    {
     "data": {
      "text/plain": [
       "array([[<AxesSubplot:title={'center':'AMT_ANNUITY'}>]], dtype=object)"
      ]
     },
     "execution_count": 33,
     "metadata": {},
     "output_type": "execute_result"
    },
    {
     "data": {
      "image/png": "[encoded data removed]",
      "text/plain": [
       "<Figure size 432x288 with 1 Axes>"
      ]
     },
     "metadata": {
      "needs_background": "light"
     },
     "output_type": "display_data"
    }
   ],
   "source": [
    "data_train = clean_IQ(data_train, \"AMT_ANNUITY\")\n",
    "data_train.hist(\"AMT_ANNUITY\", bins = 50)"
   ]
  },
  {
   "cell_type": "code",
   "execution_count": 34,
   "metadata": {},
   "outputs": [
    {
     "data": {
      "text/plain": [
       "<AxesSubplot:>"
      ]
     },
     "execution_count": 34,
     "metadata": {},
     "output_type": "execute_result"
    },
    {
     "data": {
      "image/png": "[encoded data removed]",
      "text/plain": [
       "<Figure size 432x288 with 1 Axes>"
      ]
     },
     "metadata": {
      "needs_background": "light"
     },
     "output_type": "display_data"
    }
   ],
   "source": [
    "data_train.boxplot(\"AMT_ANNUITY\")"
   ]
  },
  {
   "cell_type": "markdown",
   "metadata": {},
   "source": [
    "#### AMT_REQ_CREDIT_BUREAU_X"
   ]
  },
  {
   "cell_type": "code",
   "execution_count": 35,
   "metadata": {},
   "outputs": [
    {
     "name": "stdout",
     "output_type": "stream",
     "text": [
      "['Number of enquiries to Credit Bureau about the client one hour before application']\n"
     ]
    }
   ],
   "source": [
    "print(df_home_credit.loc[df_home_credit[\"Row\"] == \"AMT_REQ_CREDIT_BUREAU_HOUR\", \"Description\"].values)"
   ]
  },
  {
   "cell_type": "code",
   "execution_count": 36,
   "metadata": {},
   "outputs": [
    {
     "name": "stdout",
     "output_type": "stream",
     "text": [
      "['Number of enquiries to Credit Bureau about the client one day before application (excluding one hour before application)']\n"
     ]
    }
   ],
   "source": [
    "print(df_home_credit.loc[df_home_credit[\"Row\"] == \"AMT_REQ_CREDIT_BUREAU_DAY\", \"Description\"].values)"
   ]
  },
  {
   "cell_type": "code",
   "execution_count": 37,
   "metadata": {},
   "outputs": [
    {
     "name": "stdout",
     "output_type": "stream",
     "text": [
      "['Flag if client owns a house or flat']\n"
     ]
    }
   ],
   "source": [
    "print(df_home_credit.loc[df_home_credit[\"Row\"] == \"FLAG_OWN_REALTY\", \"Description\"].values)"
   ]
  },
  {
   "cell_type": "markdown",
   "metadata": {},
   "source": [
    "#### good data"
   ]
  },
  {
   "cell_type": "code",
   "execution_count": 38,
   "metadata": {},
   "outputs": [
    {
     "data": {
      "text/html": [
       "<div>\n",
       "<style scoped>\n",
       "    .dataframe tbody tr th:only-of-type {\n",
       "        vertical-align: middle;\n",
       "    }\n",
       "\n",
       "    .dataframe tbody tr th {\n",
       "        vertical-align: top;\n",
       "    }\n",
       "\n",
       "    .dataframe thead th {\n",
       "        text-align: right;\n",
       "    }\n",
       "</style>\n",
       "<table border=\"1\" class=\"dataframe\">\n",
       "  <thead>\n",
       "    <tr style=\"text-align: right;\">\n",
       "      <th></th>\n",
       "      <th>SK_ID_CURR</th>\n",
       "      <th>TARGET</th>\n",
       "      <th>NAME_CONTRACT_TYPE</th>\n",
       "      <th>CODE_GENDER</th>\n",
       "      <th>FLAG_OWN_CAR</th>\n",
       "      <th>FLAG_OWN_REALTY</th>\n",
       "      <th>AMT_INCOME_TOTAL</th>\n",
       "      <th>AMT_CREDIT</th>\n",
       "      <th>AMT_ANNUITY</th>\n",
       "      <th>NAME_INCOME_TYPE</th>\n",
       "      <th>NAME_EDUCATION_TYPE</th>\n",
       "      <th>NAME_FAMILY_STATUS</th>\n",
       "      <th>NAME_HOUSING_TYPE</th>\n",
       "      <th>DAYS_BIRTH</th>\n",
       "      <th>DAYS_EMPLOYED</th>\n",
       "      <th>OWN_CAR_AGE</th>\n",
       "      <th>OCCUPATION_TYPE</th>\n",
       "      <th>CNT_FAM_MEMBERS</th>\n",
       "    </tr>\n",
       "  </thead>\n",
       "  <tbody>\n",
       "    <tr>\n",
       "      <th>0</th>\n",
       "      <td>100002</td>\n",
       "      <td>1</td>\n",
       "      <td>Cash loans</td>\n",
       "      <td>M</td>\n",
       "      <td>N</td>\n",
       "      <td>Y</td>\n",
       "      <td>202500.0</td>\n",
       "      <td>406597.5</td>\n",
       "      <td>24700.5</td>\n",
       "      <td>Working</td>\n",
       "      <td>Secondary / secondary special</td>\n",
       "      <td>Single / not married</td>\n",
       "      <td>House / apartment</td>\n",
       "      <td>-9461</td>\n",
       "      <td>-637</td>\n",
       "      <td>NaN</td>\n",
       "      <td>Laborers</td>\n",
       "      <td>1.0</td>\n",
       "    </tr>\n",
       "    <tr>\n",
       "      <th>1</th>\n",
       "      <td>100003</td>\n",
       "      <td>0</td>\n",
       "      <td>Cash loans</td>\n",
       "      <td>F</td>\n",
       "      <td>N</td>\n",
       "      <td>N</td>\n",
       "      <td>270000.0</td>\n",
       "      <td>1293502.5</td>\n",
       "      <td>35698.5</td>\n",
       "      <td>State servant</td>\n",
       "      <td>Higher education</td>\n",
       "      <td>Married</td>\n",
       "      <td>House / apartment</td>\n",
       "      <td>-16765</td>\n",
       "      <td>-1188</td>\n",
       "      <td>NaN</td>\n",
       "      <td>Core staff</td>\n",
       "      <td>2.0</td>\n",
       "    </tr>\n",
       "    <tr>\n",
       "      <th>2</th>\n",
       "      <td>100004</td>\n",
       "      <td>0</td>\n",
       "      <td>Revolving loans</td>\n",
       "      <td>M</td>\n",
       "      <td>Y</td>\n",
       "      <td>Y</td>\n",
       "      <td>67500.0</td>\n",
       "      <td>135000.0</td>\n",
       "      <td>6750.0</td>\n",
       "      <td>Working</td>\n",
       "      <td>Secondary / secondary special</td>\n",
       "      <td>Single / not married</td>\n",
       "      <td>House / apartment</td>\n",
       "      <td>-19046</td>\n",
       "      <td>-225</td>\n",
       "      <td>26.0</td>\n",
       "      <td>Laborers</td>\n",
       "      <td>1.0</td>\n",
       "    </tr>\n",
       "    <tr>\n",
       "      <th>3</th>\n",
       "      <td>100006</td>\n",
       "      <td>0</td>\n",
       "      <td>Cash loans</td>\n",
       "      <td>F</td>\n",
       "      <td>N</td>\n",
       "      <td>Y</td>\n",
       "      <td>135000.0</td>\n",
       "      <td>312682.5</td>\n",
       "      <td>29686.5</td>\n",
       "      <td>Working</td>\n",
       "      <td>Secondary / secondary special</td>\n",
       "      <td>Civil marriage</td>\n",
       "      <td>House / apartment</td>\n",
       "      <td>-19005</td>\n",
       "      <td>-3039</td>\n",
       "      <td>NaN</td>\n",
       "      <td>Laborers</td>\n",
       "      <td>2.0</td>\n",
       "    </tr>\n",
       "    <tr>\n",
       "      <th>4</th>\n",
       "      <td>100007</td>\n",
       "      <td>0</td>\n",
       "      <td>Cash loans</td>\n",
       "      <td>M</td>\n",
       "      <td>N</td>\n",
       "      <td>Y</td>\n",
       "      <td>121500.0</td>\n",
       "      <td>513000.0</td>\n",
       "      <td>21865.5</td>\n",
       "      <td>Working</td>\n",
       "      <td>Secondary / secondary special</td>\n",
       "      <td>Single / not married</td>\n",
       "      <td>House / apartment</td>\n",
       "      <td>-19932</td>\n",
       "      <td>-3038</td>\n",
       "      <td>NaN</td>\n",
       "      <td>Core staff</td>\n",
       "      <td>1.0</td>\n",
       "    </tr>\n",
       "  </tbody>\n",
       "</table>\n",
       "</div>"
      ],
      "text/plain": [
       "   SK_ID_CURR  TARGET NAME_CONTRACT_TYPE CODE_GENDER FLAG_OWN_CAR  \\\n",
       "0      100002       1         Cash loans           M            N   \n",
       "1      100003       0         Cash loans           F            N   \n",
       "2      100004       0    Revolving loans           M            Y   \n",
       "3      100006       0         Cash loans           F            N   \n",
       "4      100007       0         Cash loans           M            N   \n",
       "\n",
       "  FLAG_OWN_REALTY  AMT_INCOME_TOTAL  AMT_CREDIT  AMT_ANNUITY NAME_INCOME_TYPE  \\\n",
       "0               Y          202500.0    406597.5      24700.5          Working   \n",
       "1               N          270000.0   1293502.5      35698.5    State servant   \n",
       "2               Y           67500.0    135000.0       6750.0          Working   \n",
       "3               Y          135000.0    312682.5      29686.5          Working   \n",
       "4               Y          121500.0    513000.0      21865.5          Working   \n",
       "\n",
       "             NAME_EDUCATION_TYPE    NAME_FAMILY_STATUS  NAME_HOUSING_TYPE  \\\n",
       "0  Secondary / secondary special  Single / not married  House / apartment   \n",
       "1               Higher education               Married  House / apartment   \n",
       "2  Secondary / secondary special  Single / not married  House / apartment   \n",
       "3  Secondary / secondary special        Civil marriage  House / apartment   \n",
       "4  Secondary / secondary special  Single / not married  House / apartment   \n",
       "\n",
       "   DAYS_BIRTH  DAYS_EMPLOYED  OWN_CAR_AGE OCCUPATION_TYPE  CNT_FAM_MEMBERS  \n",
       "0       -9461           -637          NaN        Laborers              1.0  \n",
       "1      -16765          -1188          NaN      Core staff              2.0  \n",
       "2      -19046           -225         26.0        Laborers              1.0  \n",
       "3      -19005          -3039          NaN        Laborers              2.0  \n",
       "4      -19932          -3038          NaN      Core staff              1.0  "
      ]
     },
     "execution_count": 38,
     "metadata": {},
     "output_type": "execute_result"
    }
   ],
   "source": [
    "data_train.head()"
   ]
  },
  {
   "cell_type": "code",
   "execution_count": 39,
   "metadata": {},
   "outputs": [
    {
     "data": {
      "text/plain": [
       "(216220, 18)"
      ]
     },
     "execution_count": 39,
     "metadata": {},
     "output_type": "execute_result"
    }
   ],
   "source": [
    "data_train.shape"
   ]
  },
  {
   "cell_type": "code",
   "execution_count": 40,
   "metadata": {},
   "outputs": [],
   "source": [
    "def proportion_info(label):\n",
    "    print(\"\\n\\tAll data for \"+label)\n",
    "    print(data_train[label].value_counts(normalize = True) *100)\n",
    "    print(\"\\n\\tAcepted loan\")\n",
    "    print(data_train[data_train[\"TARGET\"] == 0][label].value_counts(normalize = True) *100)\n",
    "    print(\"\\n\\tRejeted loan\")\n",
    "    print(data_train[data_train[\"TARGET\"] == 1][label].value_counts(normalize = True) *100)"
   ]
  },
  {
   "cell_type": "code",
   "execution_count": 41,
   "metadata": {},
   "outputs": [
    {
     "name": "stdout",
     "output_type": "stream",
     "text": [
      "\n",
      "\tAll data for NAME_INCOME_TYPE\n",
      "Working                 64.826103\n",
      "Commercial associate    27.462769\n",
      "State servant            7.697715\n",
      "Student                  0.006937\n",
      "Pensioner                0.003237\n",
      "Maternity leave          0.001850\n",
      "Businessman              0.001387\n",
      "Name: NAME_INCOME_TYPE, dtype: float64\n",
      "\n",
      "\tAcepted loan\n",
      "Working                 64.223868\n",
      "Commercial associate    27.830071\n",
      "State servant            7.932302\n",
      "Student                  0.007644\n",
      "Pensioner                0.003567\n",
      "Businessman              0.001529\n",
      "Maternity leave          0.001019\n",
      "Name: NAME_INCOME_TYPE, dtype: float64\n",
      "\n",
      "\tRejeted loan\n",
      "Working                 70.735610\n",
      "Commercial associate    23.858579\n",
      "State servant            5.395809\n",
      "Maternity leave          0.010002\n",
      "Name: NAME_INCOME_TYPE, dtype: float64\n",
      "\n",
      "\tAll data for NAME_EDUCATION_TYPE\n",
      "Secondary / secondary special    70.595227\n",
      "Higher education                 24.343724\n",
      "Incomplete higher                 4.038479\n",
      "Lower secondary                   0.974933\n",
      "Academic degree                   0.047637\n",
      "Name: NAME_EDUCATION_TYPE, dtype: float64\n",
      "\n",
      "\tAcepted loan\n",
      "Secondary / secondary special    69.747685\n",
      "Higher education                 25.227420\n",
      "Incomplete higher                 4.053042\n",
      "Lower secondary                   0.920381\n",
      "Academic degree                   0.051472\n",
      "Name: NAME_EDUCATION_TYPE, dtype: float64\n",
      "\n",
      "\tRejeted loan\n",
      "Secondary / secondary special    78.911837\n",
      "Higher education                 15.672351\n",
      "Incomplete higher                 3.895584\n",
      "Lower secondary                   1.510227\n",
      "Academic degree                   0.010002\n",
      "Name: NAME_EDUCATION_TYPE, dtype: float64\n",
      "\n",
      "\tAll data for FLAG_OWN_CAR\n",
      "N    63.742485\n",
      "Y    36.257515\n",
      "Name: FLAG_OWN_CAR, dtype: float64\n",
      "\n",
      "\tAcepted loan\n",
      "N    63.269851\n",
      "Y    36.730149\n",
      "Name: FLAG_OWN_CAR, dtype: float64\n",
      "\n",
      "\tRejeted loan\n",
      "N    68.380257\n",
      "Y    31.619743\n",
      "Name: FLAG_OWN_CAR, dtype: float64\n",
      "\n",
      "\tAll data for FLAG_OWN_REALTY\n",
      "Y    67.607992\n",
      "N    32.392008\n",
      "Name: FLAG_OWN_REALTY, dtype: float64\n",
      "\n",
      "\tAcepted loan\n",
      "Y    67.635292\n",
      "N    32.364708\n",
      "Name: FLAG_OWN_REALTY, dtype: float64\n",
      "\n",
      "\tRejeted loan\n",
      "Y    67.340101\n",
      "N    32.659899\n",
      "Name: FLAG_OWN_REALTY, dtype: float64\n",
      "\n",
      "\tAll data for NAME_FAMILY_STATUS\n",
      "Married                 64.026455\n",
      "Single / not married    16.286190\n",
      "Civil marriage          10.849135\n",
      "Separated                6.335214\n",
      "Widow                    2.502544\n",
      "Unknown                  0.000462\n",
      "Name: NAME_FAMILY_STATUS, dtype: float64\n",
      "\n",
      "\tAcepted loan\n",
      "Married                 64.448612\n",
      "Single / not married    15.974172\n",
      "Civil marriage          10.649618\n",
      "Separated                6.346351\n",
      "Widow                    2.580737\n",
      "Unknown                  0.000510\n",
      "Name: NAME_FAMILY_STATUS, dtype: float64\n",
      "\n",
      "\tRejeted loan\n",
      "Married                 59.883983\n",
      "Single / not married    19.347902\n",
      "Civil marriage          12.806921\n",
      "Separated                6.225934\n",
      "Widow                    1.735260\n",
      "Name: NAME_FAMILY_STATUS, dtype: float64\n",
      "\n",
      "\tAll data for NAME_CONTRACT_TYPE\n",
      "Cash loans         89.402923\n",
      "Revolving loans    10.597077\n",
      "Name: NAME_CONTRACT_TYPE, dtype: float64\n",
      "\n",
      "\tAcepted loan\n",
      "Cash loans         89.035434\n",
      "Revolving loans    10.964566\n",
      "Name: NAME_CONTRACT_TYPE, dtype: float64\n",
      "\n",
      "\tRejeted loan\n",
      "Cash loans         93.008951\n",
      "Revolving loans     6.991049\n",
      "Name: NAME_CONTRACT_TYPE, dtype: float64\n",
      "\n",
      "\tAll data for CODE_GENDER\n",
      "F    62.41652\n",
      "M    37.58348\n",
      "Name: CODE_GENDER, dtype: float64\n",
      "\n",
      "\tAcepted loan\n",
      "F    63.209715\n",
      "M    36.790285\n",
      "Name: CODE_GENDER, dtype: float64\n",
      "\n",
      "\tRejeted loan\n",
      "F    54.633195\n",
      "M    45.366805\n",
      "Name: CODE_GENDER, dtype: float64\n",
      "\n",
      "\tAll data for NAME_HOUSING_TYPE\n",
      "House / apartment      86.808343\n",
      "With parents            6.362039\n",
      "Municipal apartment     3.545463\n",
      "Rented apartment        1.994728\n",
      "Office apartment        0.875960\n",
      "Co-op apartment         0.413468\n",
      "Name: NAME_HOUSING_TYPE, dtype: float64\n",
      "\n",
      "\tAcepted loan\n",
      "House / apartment      87.070833\n",
      "With parents            6.176136\n",
      "Municipal apartment     3.529658\n",
      "Rented apartment        1.911601\n",
      "Office apartment        0.895410\n",
      "Co-op apartment         0.416363\n",
      "Name: NAME_HOUSING_TYPE, dtype: float64\n",
      "\n",
      "\tRejeted loan\n",
      "House / apartment      84.232635\n",
      "With parents            8.186228\n",
      "Municipal apartment     3.700555\n",
      "Rented apartment        2.810422\n",
      "Office apartment        0.685103\n",
      "Co-op apartment         0.385058\n",
      "Name: NAME_HOUSING_TYPE, dtype: float64\n",
      "\n",
      "\tAll data for OCCUPATION_TYPE\n",
      "Laborers                 27.001760\n",
      "Sales staff              16.680739\n",
      "Core staff               12.421980\n",
      "Drivers                   9.197971\n",
      "Managers                  8.070507\n",
      "High skill tech staff     5.118569\n",
      "Accountants               4.469021\n",
      "Medicine staff            3.623560\n",
      "Security staff            3.469589\n",
      "Cooking staff             3.003813\n",
      "Cleaning staff            2.387930\n",
      "Private service staff     1.277021\n",
      "Low-skill Laborers        1.115324\n",
      "Waiters/barmen staff      0.698664\n",
      "Secretaries               0.607606\n",
      "Realty agents             0.373614\n",
      "HR staff                  0.252203\n",
      "IT staff                  0.230129\n",
      "Name: OCCUPATION_TYPE, dtype: float64\n",
      "\n",
      "\tAcepted loan\n",
      "Laborers                 26.474081\n",
      "Sales staff              16.601409\n",
      "Core staff               12.762680\n",
      "Drivers                   8.954397\n",
      "Managers                  8.318059\n",
      "High skill tech staff     5.273991\n",
      "Accountants               4.680278\n",
      "Medicine staff            3.697456\n",
      "Security staff            3.405776\n",
      "Cooking staff             2.952119\n",
      "Cleaning staff            2.374849\n",
      "Private service staff     1.312865\n",
      "Low-skill Laborers        1.014487\n",
      "Waiters/barmen staff      0.682617\n",
      "Secretaries               0.619896\n",
      "Realty agents             0.378149\n",
      "HR staff                  0.261233\n",
      "IT staff                  0.235658\n",
      "Name: OCCUPATION_TYPE, dtype: float64\n",
      "\n",
      "\tRejeted loan\n",
      "Laborers                 32.104581\n",
      "Sales staff              17.447886\n",
      "Drivers                  11.553409\n",
      "Core staff                9.127311\n",
      "Managers                  5.676599\n",
      "Security staff            4.086680\n",
      "High skill tech staff     3.615593\n",
      "Cooking staff             3.503710\n",
      "Medicine staff            2.908962\n",
      "Cleaning staff            2.514427\n",
      "Accountants               2.426098\n",
      "Low-skill Laborers        2.090449\n",
      "Private service staff     0.930397\n",
      "Waiters/barmen staff      0.853845\n",
      "Secretaries               0.488753\n",
      "Realty agents             0.329761\n",
      "IT staff                  0.176658\n",
      "HR staff                  0.164880\n",
      "Name: OCCUPATION_TYPE, dtype: float64\n"
     ]
    }
   ],
   "source": [
    "for label in [\"NAME_INCOME_TYPE\", \"NAME_EDUCATION_TYPE\", \"FLAG_OWN_CAR\", \"FLAG_OWN_REALTY\",\n",
    "               \"NAME_FAMILY_STATUS\", \"NAME_CONTRACT_TYPE\", \"CODE_GENDER\", 'NAME_HOUSING_TYPE',\n",
    "               'OCCUPATION_TYPE']:\n",
    "    proportion_info(label)"
   ]
  },
  {
   "cell_type": "code",
   "execution_count": 42,
   "metadata": {},
   "outputs": [],
   "source": [
    "data_train = data_train.drop([\"NAME_INCOME_TYPE\", \"NAME_HOUSING_TYPE\",\n",
    "                              \"FLAG_OWN_CAR\", \"FLAG_OWN_REALTY\",], axis = 1)"
   ]
  },
  {
   "cell_type": "code",
   "execution_count": 43,
   "metadata": {},
   "outputs": [],
   "source": [
    "# change some labels\n",
    "ind = data_train['NAME_EDUCATION_TYPE'] == \"Lower secondary\"\n",
    "data_train.loc[ind, ['NAME_EDUCATION_TYPE']] = \"Other\"\n",
    "ind = data_train['NAME_EDUCATION_TYPE'] == \"Academic degree\"\n",
    "data_train.loc[ind, ['NAME_EDUCATION_TYPE']] = \"Other\""
   ]
  },
  {
   "cell_type": "code",
   "execution_count": 44,
   "metadata": {},
   "outputs": [],
   "source": [
    "#Remove Unknown status for family\n",
    "ind = data_train['NAME_FAMILY_STATUS'] == \"Unknown\"\n",
    "data_train = data_train[~ind]"
   ]
  },
  {
   "cell_type": "code",
   "execution_count": 45,
   "metadata": {},
   "outputs": [
    {
     "data": {
      "text/plain": [
       "Series([], Name: OCCUPATION_TYPE, dtype: object)"
      ]
     },
     "execution_count": 45,
     "metadata": {},
     "output_type": "execute_result"
    }
   ],
   "source": [
    "data_train.loc[ind, 'OCCUPATION_TYPE']"
   ]
  },
  {
   "cell_type": "code",
   "execution_count": 46,
   "metadata": {},
   "outputs": [
    {
     "name": "stdout",
     "output_type": "stream",
     "text": [
      "\n",
      "\tAll data for OCCUPATION_TYPE\n",
      "Laborers                 27.001909\n",
      "Sales staff              16.680831\n",
      "Core staff               12.422048\n",
      "Other                    11.282988\n",
      "Drivers                   9.198022\n",
      "Managers                  8.070551\n",
      "High skill tech staff     5.118597\n",
      "Accountants               4.468494\n",
      "Medicine staff            3.623580\n",
      "Private service staff     1.277028\n",
      "Realty agents             0.373616\n",
      "HR staff                  0.252205\n",
      "IT staff                  0.230130\n",
      "Name: OCCUPATION_TYPE, dtype: float64\n",
      "\n",
      "\tAcepted loan\n",
      "Laborers                 26.474242\n",
      "Sales staff              16.601510\n",
      "Core staff               12.762757\n",
      "Other                    11.049811\n",
      "Drivers                   8.954451\n",
      "Managers                  8.318110\n",
      "High skill tech staff     5.274023\n",
      "Accountants               4.679698\n",
      "Medicine staff            3.697479\n",
      "Private service staff     1.312873\n",
      "Realty agents             0.378151\n",
      "HR staff                  0.261235\n",
      "IT staff                  0.235659\n",
      "Name: OCCUPATION_TYPE, dtype: float64\n",
      "\n",
      "\tRejeted loan\n",
      "Laborers                 32.104581\n",
      "Sales staff              17.447886\n",
      "Other                    13.537864\n",
      "Drivers                  11.553409\n",
      "Core staff                9.127311\n",
      "Managers                  5.676599\n",
      "High skill tech staff     3.615593\n",
      "Medicine staff            2.908962\n",
      "Accountants               2.426098\n",
      "Private service staff     0.930397\n",
      "Realty agents             0.329761\n",
      "IT staff                  0.176658\n",
      "HR staff                  0.164880\n",
      "Name: OCCUPATION_TYPE, dtype: float64\n"
     ]
    }
   ],
   "source": [
    "for col in [\"Low-skill Laborers\", \"Waiters/barmen staff\", \"Secretaries\", \"Cooking staff\", \"Cleaning staff\", \"Security staff\"]:\n",
    "    ind = data_train[\"OCCUPATION_TYPE\"] == col\n",
    "    data_train.loc[ind, 'OCCUPATION_TYPE'] = \"Other\"\n",
    "proportion_info(\"OCCUPATION_TYPE\")"
   ]
  },
  {
   "cell_type": "code",
   "execution_count": 47,
   "metadata": {},
   "outputs": [],
   "source": [
    "data_train =pd.get_dummies(data_train, columns=[\"NAME_EDUCATION_TYPE\", \"NAME_FAMILY_STATUS\", \"NAME_CONTRACT_TYPE\", \n",
    "                                    \"CODE_GENDER\", 'OCCUPATION_TYPE'], drop_first=False)"
   ]
  },
  {
   "cell_type": "code",
   "execution_count": 48,
   "metadata": {},
   "outputs": [
    {
     "data": {
      "text/plain": [
       "(216219, 35)"
      ]
     },
     "execution_count": 48,
     "metadata": {},
     "output_type": "execute_result"
    }
   ],
   "source": [
    "data_train.shape"
   ]
  },
  {
   "cell_type": "code",
   "execution_count": 49,
   "metadata": {},
   "outputs": [
    {
     "data": {
      "text/html": [
       "<div>\n",
       "<style scoped>\n",
       "    .dataframe tbody tr th:only-of-type {\n",
       "        vertical-align: middle;\n",
       "    }\n",
       "\n",
       "    .dataframe tbody tr th {\n",
       "        vertical-align: top;\n",
       "    }\n",
       "\n",
       "    .dataframe thead th {\n",
       "        text-align: right;\n",
       "    }\n",
       "</style>\n",
       "<table border=\"1\" class=\"dataframe\">\n",
       "  <thead>\n",
       "    <tr style=\"text-align: right;\">\n",
       "      <th></th>\n",
       "      <th>SK_ID_CURR</th>\n",
       "      <th>TARGET</th>\n",
       "      <th>AMT_INCOME_TOTAL</th>\n",
       "      <th>AMT_CREDIT</th>\n",
       "      <th>AMT_ANNUITY</th>\n",
       "      <th>DAYS_BIRTH</th>\n",
       "      <th>DAYS_EMPLOYED</th>\n",
       "      <th>OWN_CAR_AGE</th>\n",
       "      <th>CNT_FAM_MEMBERS</th>\n",
       "      <th>NAME_EDUCATION_TYPE_Higher education</th>\n",
       "      <th>NAME_EDUCATION_TYPE_Incomplete higher</th>\n",
       "      <th>NAME_EDUCATION_TYPE_Other</th>\n",
       "      <th>NAME_EDUCATION_TYPE_Secondary / secondary special</th>\n",
       "      <th>NAME_FAMILY_STATUS_Civil marriage</th>\n",
       "      <th>NAME_FAMILY_STATUS_Married</th>\n",
       "      <th>NAME_FAMILY_STATUS_Separated</th>\n",
       "      <th>NAME_FAMILY_STATUS_Single / not married</th>\n",
       "      <th>NAME_FAMILY_STATUS_Widow</th>\n",
       "      <th>NAME_CONTRACT_TYPE_Cash loans</th>\n",
       "      <th>NAME_CONTRACT_TYPE_Revolving loans</th>\n",
       "      <th>CODE_GENDER_F</th>\n",
       "      <th>CODE_GENDER_M</th>\n",
       "      <th>OCCUPATION_TYPE_Accountants</th>\n",
       "      <th>OCCUPATION_TYPE_Core staff</th>\n",
       "      <th>OCCUPATION_TYPE_Drivers</th>\n",
       "      <th>OCCUPATION_TYPE_HR staff</th>\n",
       "      <th>OCCUPATION_TYPE_High skill tech staff</th>\n",
       "      <th>OCCUPATION_TYPE_IT staff</th>\n",
       "      <th>OCCUPATION_TYPE_Laborers</th>\n",
       "      <th>OCCUPATION_TYPE_Managers</th>\n",
       "      <th>OCCUPATION_TYPE_Medicine staff</th>\n",
       "      <th>OCCUPATION_TYPE_Other</th>\n",
       "      <th>OCCUPATION_TYPE_Private service staff</th>\n",
       "      <th>OCCUPATION_TYPE_Realty agents</th>\n",
       "      <th>OCCUPATION_TYPE_Sales staff</th>\n",
       "    </tr>\n",
       "  </thead>\n",
       "  <tbody>\n",
       "    <tr>\n",
       "      <th>0</th>\n",
       "      <td>100002</td>\n",
       "      <td>1</td>\n",
       "      <td>202500.0</td>\n",
       "      <td>406597.5</td>\n",
       "      <td>24700.5</td>\n",
       "      <td>-9461</td>\n",
       "      <td>-637</td>\n",
       "      <td>NaN</td>\n",
       "      <td>1.0</td>\n",
       "      <td>0</td>\n",
       "      <td>0</td>\n",
       "      <td>0</td>\n",
       "      <td>1</td>\n",
       "      <td>0</td>\n",
       "      <td>0</td>\n",
       "      <td>0</td>\n",
       "      <td>1</td>\n",
       "      <td>0</td>\n",
       "      <td>1</td>\n",
       "      <td>0</td>\n",
       "      <td>0</td>\n",
       "      <td>1</td>\n",
       "      <td>0</td>\n",
       "      <td>0</td>\n",
       "      <td>0</td>\n",
       "      <td>0</td>\n",
       "      <td>0</td>\n",
       "      <td>0</td>\n",
       "      <td>1</td>\n",
       "      <td>0</td>\n",
       "      <td>0</td>\n",
       "      <td>0</td>\n",
       "      <td>0</td>\n",
       "      <td>0</td>\n",
       "      <td>0</td>\n",
       "    </tr>\n",
       "    <tr>\n",
       "      <th>1</th>\n",
       "      <td>100003</td>\n",
       "      <td>0</td>\n",
       "      <td>270000.0</td>\n",
       "      <td>1293502.5</td>\n",
       "      <td>35698.5</td>\n",
       "      <td>-16765</td>\n",
       "      <td>-1188</td>\n",
       "      <td>NaN</td>\n",
       "      <td>2.0</td>\n",
       "      <td>1</td>\n",
       "      <td>0</td>\n",
       "      <td>0</td>\n",
       "      <td>0</td>\n",
       "      <td>0</td>\n",
       "      <td>1</td>\n",
       "      <td>0</td>\n",
       "      <td>0</td>\n",
       "      <td>0</td>\n",
       "      <td>1</td>\n",
       "      <td>0</td>\n",
       "      <td>1</td>\n",
       "      <td>0</td>\n",
       "      <td>0</td>\n",
       "      <td>1</td>\n",
       "      <td>0</td>\n",
       "      <td>0</td>\n",
       "      <td>0</td>\n",
       "      <td>0</td>\n",
       "      <td>0</td>\n",
       "      <td>0</td>\n",
       "      <td>0</td>\n",
       "      <td>0</td>\n",
       "      <td>0</td>\n",
       "      <td>0</td>\n",
       "      <td>0</td>\n",
       "    </tr>\n",
       "    <tr>\n",
       "      <th>2</th>\n",
       "      <td>100004</td>\n",
       "      <td>0</td>\n",
       "      <td>67500.0</td>\n",
       "      <td>135000.0</td>\n",
       "      <td>6750.0</td>\n",
       "      <td>-19046</td>\n",
       "      <td>-225</td>\n",
       "      <td>26.0</td>\n",
       "      <td>1.0</td>\n",
       "      <td>0</td>\n",
       "      <td>0</td>\n",
       "      <td>0</td>\n",
       "      <td>1</td>\n",
       "      <td>0</td>\n",
       "      <td>0</td>\n",
       "      <td>0</td>\n",
       "      <td>1</td>\n",
       "      <td>0</td>\n",
       "      <td>0</td>\n",
       "      <td>1</td>\n",
       "      <td>0</td>\n",
       "      <td>1</td>\n",
       "      <td>0</td>\n",
       "      <td>0</td>\n",
       "      <td>0</td>\n",
       "      <td>0</td>\n",
       "      <td>0</td>\n",
       "      <td>0</td>\n",
       "      <td>1</td>\n",
       "      <td>0</td>\n",
       "      <td>0</td>\n",
       "      <td>0</td>\n",
       "      <td>0</td>\n",
       "      <td>0</td>\n",
       "      <td>0</td>\n",
       "    </tr>\n",
       "    <tr>\n",
       "      <th>3</th>\n",
       "      <td>100006</td>\n",
       "      <td>0</td>\n",
       "      <td>135000.0</td>\n",
       "      <td>312682.5</td>\n",
       "      <td>29686.5</td>\n",
       "      <td>-19005</td>\n",
       "      <td>-3039</td>\n",
       "      <td>NaN</td>\n",
       "      <td>2.0</td>\n",
       "      <td>0</td>\n",
       "      <td>0</td>\n",
       "      <td>0</td>\n",
       "      <td>1</td>\n",
       "      <td>1</td>\n",
       "      <td>0</td>\n",
       "      <td>0</td>\n",
       "      <td>0</td>\n",
       "      <td>0</td>\n",
       "      <td>1</td>\n",
       "      <td>0</td>\n",
       "      <td>1</td>\n",
       "      <td>0</td>\n",
       "      <td>0</td>\n",
       "      <td>0</td>\n",
       "      <td>0</td>\n",
       "      <td>0</td>\n",
       "      <td>0</td>\n",
       "      <td>0</td>\n",
       "      <td>1</td>\n",
       "      <td>0</td>\n",
       "      <td>0</td>\n",
       "      <td>0</td>\n",
       "      <td>0</td>\n",
       "      <td>0</td>\n",
       "      <td>0</td>\n",
       "    </tr>\n",
       "    <tr>\n",
       "      <th>4</th>\n",
       "      <td>100007</td>\n",
       "      <td>0</td>\n",
       "      <td>121500.0</td>\n",
       "      <td>513000.0</td>\n",
       "      <td>21865.5</td>\n",
       "      <td>-19932</td>\n",
       "      <td>-3038</td>\n",
       "      <td>NaN</td>\n",
       "      <td>1.0</td>\n",
       "      <td>0</td>\n",
       "      <td>0</td>\n",
       "      <td>0</td>\n",
       "      <td>1</td>\n",
       "      <td>0</td>\n",
       "      <td>0</td>\n",
       "      <td>0</td>\n",
       "      <td>1</td>\n",
       "      <td>0</td>\n",
       "      <td>1</td>\n",
       "      <td>0</td>\n",
       "      <td>0</td>\n",
       "      <td>1</td>\n",
       "      <td>0</td>\n",
       "      <td>1</td>\n",
       "      <td>0</td>\n",
       "      <td>0</td>\n",
       "      <td>0</td>\n",
       "      <td>0</td>\n",
       "      <td>0</td>\n",
       "      <td>0</td>\n",
       "      <td>0</td>\n",
       "      <td>0</td>\n",
       "      <td>0</td>\n",
       "      <td>0</td>\n",
       "      <td>0</td>\n",
       "    </tr>\n",
       "  </tbody>\n",
       "</table>\n",
       "</div>"
      ],
      "text/plain": [
       "   SK_ID_CURR  TARGET  AMT_INCOME_TOTAL  AMT_CREDIT  AMT_ANNUITY  DAYS_BIRTH  \\\n",
       "0      100002       1          202500.0    406597.5      24700.5       -9461   \n",
       "1      100003       0          270000.0   1293502.5      35698.5      -16765   \n",
       "2      100004       0           67500.0    135000.0       6750.0      -19046   \n",
       "3      100006       0          135000.0    312682.5      29686.5      -19005   \n",
       "4      100007       0          121500.0    513000.0      21865.5      -19932   \n",
       "\n",
       "   DAYS_EMPLOYED  OWN_CAR_AGE  CNT_FAM_MEMBERS  \\\n",
       "0           -637          NaN              1.0   \n",
       "1          -1188          NaN              2.0   \n",
       "2           -225         26.0              1.0   \n",
       "3          -3039          NaN              2.0   \n",
       "4          -3038          NaN              1.0   \n",
       "\n",
       "   NAME_EDUCATION_TYPE_Higher education  \\\n",
       "0                                     0   \n",
       "1                                     1   \n",
       "2                                     0   \n",
       "3                                     0   \n",
       "4                                     0   \n",
       "\n",
       "   NAME_EDUCATION_TYPE_Incomplete higher  NAME_EDUCATION_TYPE_Other  \\\n",
       "0                                      0                          0   \n",
       "1                                      0                          0   \n",
       "2                                      0                          0   \n",
       "3                                      0                          0   \n",
       "4                                      0                          0   \n",
       "\n",
       "   NAME_EDUCATION_TYPE_Secondary / secondary special  \\\n",
       "0                                                  1   \n",
       "1                                                  0   \n",
       "2                                                  1   \n",
       "3                                                  1   \n",
       "4                                                  1   \n",
       "\n",
       "   NAME_FAMILY_STATUS_Civil marriage  NAME_FAMILY_STATUS_Married  \\\n",
       "0                                  0                           0   \n",
       "1                                  0                           1   \n",
       "2                                  0                           0   \n",
       "3                                  1                           0   \n",
       "4                                  0                           0   \n",
       "\n",
       "   NAME_FAMILY_STATUS_Separated  NAME_FAMILY_STATUS_Single / not married  \\\n",
       "0                             0                                        1   \n",
       "1                             0                                        0   \n",
       "2                             0                                        1   \n",
       "3                             0                                        0   \n",
       "4                             0                                        1   \n",
       "\n",
       "   NAME_FAMILY_STATUS_Widow  NAME_CONTRACT_TYPE_Cash loans  \\\n",
       "0                         0                              1   \n",
       "1                         0                              1   \n",
       "2                         0                              0   \n",
       "3                         0                              1   \n",
       "4                         0                              1   \n",
       "\n",
       "   NAME_CONTRACT_TYPE_Revolving loans  CODE_GENDER_F  CODE_GENDER_M  \\\n",
       "0                                   0              0              1   \n",
       "1                                   0              1              0   \n",
       "2                                   1              0              1   \n",
       "3                                   0              1              0   \n",
       "4                                   0              0              1   \n",
       "\n",
       "   OCCUPATION_TYPE_Accountants  OCCUPATION_TYPE_Core staff  \\\n",
       "0                            0                           0   \n",
       "1                            0                           1   \n",
       "2                            0                           0   \n",
       "3                            0                           0   \n",
       "4                            0                           1   \n",
       "\n",
       "   OCCUPATION_TYPE_Drivers  OCCUPATION_TYPE_HR staff  \\\n",
       "0                        0                         0   \n",
       "1                        0                         0   \n",
       "2                        0                         0   \n",
       "3                        0                         0   \n",
       "4                        0                         0   \n",
       "\n",
       "   OCCUPATION_TYPE_High skill tech staff  OCCUPATION_TYPE_IT staff  \\\n",
       "0                                      0                         0   \n",
       "1                                      0                         0   \n",
       "2                                      0                         0   \n",
       "3                                      0                         0   \n",
       "4                                      0                         0   \n",
       "\n",
       "   OCCUPATION_TYPE_Laborers  OCCUPATION_TYPE_Managers  \\\n",
       "0                         1                         0   \n",
       "1                         0                         0   \n",
       "2                         1                         0   \n",
       "3                         1                         0   \n",
       "4                         0                         0   \n",
       "\n",
       "   OCCUPATION_TYPE_Medicine staff  OCCUPATION_TYPE_Other  \\\n",
       "0                               0                      0   \n",
       "1                               0                      0   \n",
       "2                               0                      0   \n",
       "3                               0                      0   \n",
       "4                               0                      0   \n",
       "\n",
       "   OCCUPATION_TYPE_Private service staff  OCCUPATION_TYPE_Realty agents  \\\n",
       "0                                      0                              0   \n",
       "1                                      0                              0   \n",
       "2                                      0                              0   \n",
       "3                                      0                              0   \n",
       "4                                      0                              0   \n",
       "\n",
       "   OCCUPATION_TYPE_Sales staff  \n",
       "0                            0  \n",
       "1                            0  \n",
       "2                            0  \n",
       "3                            0  \n",
       "4                            0  "
      ]
     },
     "execution_count": 49,
     "metadata": {},
     "output_type": "execute_result"
    }
   ],
   "source": [
    "data_train.head()"
   ]
  },
  {
   "cell_type": "markdown",
   "metadata": {},
   "source": [
    "#### Customer age & days employed"
   ]
  },
  {
   "cell_type": "code",
   "execution_count": 50,
   "metadata": {},
   "outputs": [],
   "source": [
    "data_train[\"DAYS_BIRTH\"] = data_train[\"DAYS_BIRTH\"]/-364.5\n",
    "data_train = data_train.rename(columns={\"DAYS_BIRTH\": \"AGE\"})\n",
    "data_train[\"DAYS_EMPLOYED\"] = data_train[\"DAYS_EMPLOYED\"]/-364.5\n",
    "data_train = data_train.rename(columns={\"DAYS_EMPLOYED\": \"YEARS_EMPLOYED\"})\n"
   ]
  },
  {
   "cell_type": "markdown",
   "metadata": {},
   "source": [
    "## Bureau"
   ]
  },
  {
   "cell_type": "code",
   "execution_count": 51,
   "metadata": {
    "scrolled": true
   },
   "outputs": [
    {
     "data": {
      "text/html": [
       "<div>\n",
       "<style scoped>\n",
       "    .dataframe tbody tr th:only-of-type {\n",
       "        vertical-align: middle;\n",
       "    }\n",
       "\n",
       "    .dataframe tbody tr th {\n",
       "        vertical-align: top;\n",
       "    }\n",
       "\n",
       "    .dataframe thead th {\n",
       "        text-align: right;\n",
       "    }\n",
       "</style>\n",
       "<table border=\"1\" class=\"dataframe\">\n",
       "  <thead>\n",
       "    <tr style=\"text-align: right;\">\n",
       "      <th></th>\n",
       "      <th>SK_ID_CURR</th>\n",
       "      <th>SK_ID_BUREAU</th>\n",
       "      <th>CREDIT_ACTIVE</th>\n",
       "      <th>CREDIT_CURRENCY</th>\n",
       "      <th>DAYS_CREDIT</th>\n",
       "      <th>CREDIT_DAY_OVERDUE</th>\n",
       "      <th>DAYS_CREDIT_ENDDATE</th>\n",
       "      <th>DAYS_ENDDATE_FACT</th>\n",
       "      <th>AMT_CREDIT_MAX_OVERDUE</th>\n",
       "      <th>CNT_CREDIT_PROLONG</th>\n",
       "      <th>AMT_CREDIT_SUM</th>\n",
       "      <th>AMT_CREDIT_SUM_DEBT</th>\n",
       "      <th>AMT_CREDIT_SUM_LIMIT</th>\n",
       "      <th>AMT_CREDIT_SUM_OVERDUE</th>\n",
       "      <th>CREDIT_TYPE</th>\n",
       "      <th>DAYS_CREDIT_UPDATE</th>\n",
       "      <th>AMT_ANNUITY</th>\n",
       "    </tr>\n",
       "  </thead>\n",
       "  <tbody>\n",
       "    <tr>\n",
       "      <th>0</th>\n",
       "      <td>215354</td>\n",
       "      <td>5714462</td>\n",
       "      <td>Closed</td>\n",
       "      <td>currency 1</td>\n",
       "      <td>-497</td>\n",
       "      <td>0</td>\n",
       "      <td>-153.0</td>\n",
       "      <td>-153.0</td>\n",
       "      <td>NaN</td>\n",
       "      <td>0</td>\n",
       "      <td>91323.0</td>\n",
       "      <td>0.0</td>\n",
       "      <td>NaN</td>\n",
       "      <td>0.0</td>\n",
       "      <td>Consumer credit</td>\n",
       "      <td>-131</td>\n",
       "      <td>NaN</td>\n",
       "    </tr>\n",
       "    <tr>\n",
       "      <th>1</th>\n",
       "      <td>215354</td>\n",
       "      <td>5714463</td>\n",
       "      <td>Active</td>\n",
       "      <td>currency 1</td>\n",
       "      <td>-208</td>\n",
       "      <td>0</td>\n",
       "      <td>1075.0</td>\n",
       "      <td>NaN</td>\n",
       "      <td>NaN</td>\n",
       "      <td>0</td>\n",
       "      <td>225000.0</td>\n",
       "      <td>171342.0</td>\n",
       "      <td>NaN</td>\n",
       "      <td>0.0</td>\n",
       "      <td>Credit card</td>\n",
       "      <td>-20</td>\n",
       "      <td>NaN</td>\n",
       "    </tr>\n",
       "    <tr>\n",
       "      <th>2</th>\n",
       "      <td>215354</td>\n",
       "      <td>5714464</td>\n",
       "      <td>Active</td>\n",
       "      <td>currency 1</td>\n",
       "      <td>-203</td>\n",
       "      <td>0</td>\n",
       "      <td>528.0</td>\n",
       "      <td>NaN</td>\n",
       "      <td>NaN</td>\n",
       "      <td>0</td>\n",
       "      <td>464323.5</td>\n",
       "      <td>NaN</td>\n",
       "      <td>NaN</td>\n",
       "      <td>0.0</td>\n",
       "      <td>Consumer credit</td>\n",
       "      <td>-16</td>\n",
       "      <td>NaN</td>\n",
       "    </tr>\n",
       "  </tbody>\n",
       "</table>\n",
       "</div>"
      ],
      "text/plain": [
       "   SK_ID_CURR  SK_ID_BUREAU CREDIT_ACTIVE CREDIT_CURRENCY  DAYS_CREDIT  \\\n",
       "0      215354       5714462        Closed      currency 1         -497   \n",
       "1      215354       5714463        Active      currency 1         -208   \n",
       "2      215354       5714464        Active      currency 1         -203   \n",
       "\n",
       "   CREDIT_DAY_OVERDUE  DAYS_CREDIT_ENDDATE  DAYS_ENDDATE_FACT  \\\n",
       "0                   0               -153.0             -153.0   \n",
       "1                   0               1075.0                NaN   \n",
       "2                   0                528.0                NaN   \n",
       "\n",
       "   AMT_CREDIT_MAX_OVERDUE  CNT_CREDIT_PROLONG  AMT_CREDIT_SUM  \\\n",
       "0                     NaN                   0         91323.0   \n",
       "1                     NaN                   0        225000.0   \n",
       "2                     NaN                   0        464323.5   \n",
       "\n",
       "   AMT_CREDIT_SUM_DEBT  AMT_CREDIT_SUM_LIMIT  AMT_CREDIT_SUM_OVERDUE  \\\n",
       "0                  0.0                   NaN                     0.0   \n",
       "1             171342.0                   NaN                     0.0   \n",
       "2                  NaN                   NaN                     0.0   \n",
       "\n",
       "       CREDIT_TYPE  DAYS_CREDIT_UPDATE  AMT_ANNUITY  \n",
       "0  Consumer credit                -131          NaN  \n",
       "1      Credit card                 -20          NaN  \n",
       "2  Consumer credit                 -16          NaN  "
      ]
     },
     "execution_count": 51,
     "metadata": {},
     "output_type": "execute_result"
    }
   ],
   "source": [
    "df_bureau.head(3)\n",
    "#All client's previous credits provided by other financial institutions that were reported to Credit Bureau (for clients who have a loan in our sample).\n",
    "#For every loan in our sample, there are as many rows as number of credits the client had in Credit Bureau before the application date."
   ]
  },
  {
   "cell_type": "code",
   "execution_count": 52,
   "metadata": {},
   "outputs": [],
   "source": [
    "good_bureau = df_bureau[[\"SK_ID_CURR\", \"SK_ID_BUREAU\", \"CREDIT_ACTIVE\", \"CREDIT_CURRENCY\", \n",
    "                         \"DAYS_CREDIT\", \"CREDIT_DAY_OVERDUE\", \"DAYS_CREDIT_ENDDATE\", \n",
    "                         \"DAYS_ENDDATE_FACT\", \"AMT_CREDIT_MAX_OVERDUE\", \"CNT_CREDIT_PROLONG\", \n",
    "                         \"AMT_CREDIT_SUM\", \"AMT_CREDIT_SUM_DEBT\"]]"
   ]
  },
  {
   "cell_type": "code",
   "execution_count": 53,
   "metadata": {},
   "outputs": [
    {
     "data": {
      "text/plain": [
       "(1716428, 12)"
      ]
     },
     "execution_count": 53,
     "metadata": {},
     "output_type": "execute_result"
    }
   ],
   "source": [
    "good_bureau.shape"
   ]
  },
  {
   "cell_type": "code",
   "execution_count": 54,
   "metadata": {},
   "outputs": [
    {
     "data": {
      "text/plain": [
       "<AxesSubplot:>"
      ]
     },
     "execution_count": 54,
     "metadata": {},
     "output_type": "execute_result"
    },
    {
     "data": {
      "image/png": "[encoded data removed]",
      "text/plain": [
       "<Figure size 432x288 with 1 Axes>"
      ]
     },
     "metadata": {
      "needs_background": "light"
     },
     "output_type": "display_data"
    }
   ],
   "source": [
    "good_bureau[\"CREDIT_ACTIVE\"].value_counts(normalize = True).plot.bar()"
   ]
  },
  {
   "cell_type": "code",
   "execution_count": 55,
   "metadata": {},
   "outputs": [
    {
     "name": "stdout",
     "output_type": "stream",
     "text": [
      "['Recoded currency of the Credit Bureau credit']\n"
     ]
    }
   ],
   "source": [
    "print(df_home_credit.loc[df_home_credit[\"Row\"] == \"CREDIT_CURRENCY\", \"Description\"].values)"
   ]
  },
  {
   "cell_type": "code",
   "execution_count": 56,
   "metadata": {},
   "outputs": [
    {
     "name": "stdout",
     "output_type": "stream",
     "text": [
      "['Number of days past due on CB credit at the time of application for related loan in our sample']\n"
     ]
    }
   ],
   "source": [
    "print(df_home_credit.loc[df_home_credit[\"Row\"] == \"CREDIT_DAY_OVERDUE\", \"Description\"].values)"
   ]
  },
  {
   "cell_type": "code",
   "execution_count": 57,
   "metadata": {},
   "outputs": [
    {
     "data": {
      "text/plain": [
       "count    1.716428e+06\n",
       "mean     8.181666e-01\n",
       "std      3.654443e+01\n",
       "min      0.000000e+00\n",
       "25%      0.000000e+00\n",
       "50%      0.000000e+00\n",
       "75%      0.000000e+00\n",
       "max      2.792000e+03\n",
       "Name: CREDIT_DAY_OVERDUE, dtype: float64"
      ]
     },
     "execution_count": 57,
     "metadata": {},
     "output_type": "execute_result"
    }
   ],
   "source": [
    "good_bureau[\"CREDIT_DAY_OVERDUE\"].describe()"
   ]
  },
  {
   "cell_type": "code",
   "execution_count": 58,
   "metadata": {},
   "outputs": [
    {
     "data": {
      "text/plain": [
       "array([[<AxesSubplot:title={'center':'CREDIT_DAY_OVERDUE'}>]],\n",
       "      dtype=object)"
      ]
     },
     "execution_count": 58,
     "metadata": {},
     "output_type": "execute_result"
    },
    {
     "data": {
      "image/png": "[encoded data removed]",
      "text/plain": [
       "<Figure size 432x288 with 1 Axes>"
      ]
     },
     "metadata": {
      "needs_background": "light"
     },
     "output_type": "display_data"
    }
   ],
   "source": [
    "good_bureau.hist(\"CREDIT_DAY_OVERDUE\")"
   ]
  },
  {
   "cell_type": "code",
   "execution_count": 59,
   "metadata": {},
   "outputs": [
    {
     "data": {
      "text/plain": [
       "<AxesSubplot:>"
      ]
     },
     "execution_count": 59,
     "metadata": {},
     "output_type": "execute_result"
    },
    {
     "data": {
      "image/png": "[encoded data removed]",
      "text/plain": [
       "<Figure size 432x288 with 1 Axes>"
      ]
     },
     "metadata": {
      "needs_background": "light"
     },
     "output_type": "display_data"
    }
   ],
   "source": [
    "good_bureau.boxplot('CREDIT_DAY_OVERDUE')"
   ]
  },
  {
   "cell_type": "code",
   "execution_count": 60,
   "metadata": {},
   "outputs": [
    {
     "name": "stdout",
     "output_type": "stream",
     "text": [
      "Element 0 bellow Q1 - 1.5 * IQ (0.00)\n",
      "Element 4217 above Q3 + 1.5 * IQ (0.00)\n",
      "distance IQ = 0\n"
     ]
    }
   ],
   "source": [
    "good_bureau = clean_IQ(good_bureau, \"CREDIT_DAY_OVERDUE\")"
   ]
  },
  {
   "cell_type": "code",
   "execution_count": 61,
   "metadata": {},
   "outputs": [
    {
     "data": {
      "text/plain": [
       "<AxesSubplot:>"
      ]
     },
     "execution_count": 61,
     "metadata": {},
     "output_type": "execute_result"
    },
    {
     "data": {
      "image/png": "[encoded data removed]",
      "text/plain": [
       "<Figure size 432x288 with 1 Axes>"
      ]
     },
     "metadata": {
      "needs_background": "light"
     },
     "output_type": "display_data"
    }
   ],
   "source": [
    "good_bureau.boxplot('CREDIT_DAY_OVERDUE')"
   ]
  },
  {
   "cell_type": "markdown",
   "metadata": {},
   "source": [
    "### Moyenne des crédits et durée"
   ]
  },
  {
   "cell_type": "code",
   "execution_count": 62,
   "metadata": {},
   "outputs": [
    {
     "data": {
      "text/plain": [
       "array([[<AxesSubplot:title={'center':'DAYS_CREDIT_ENDDATE'}>]],\n",
       "      dtype=object)"
      ]
     },
     "execution_count": 62,
     "metadata": {},
     "output_type": "execute_result"
    },
    {
     "data": {
      "image/png": "[encoded data removed]",
      "text/plain": [
       "<Figure size 432x288 with 1 Axes>"
      ]
     },
     "metadata": {
      "needs_background": "light"
     },
     "output_type": "display_data"
    }
   ],
   "source": [
    "good_bureau.hist(\"DAYS_CREDIT_ENDDATE\", bins = 50)"
   ]
  },
  {
   "cell_type": "code",
   "execution_count": 63,
   "metadata": {},
   "outputs": [
    {
     "data": {
      "text/plain": [
       "count    1.610875e+06\n",
       "mean     5.105174e+02\n",
       "std      4.994220e+03\n",
       "min     -4.206000e+04\n",
       "25%     -1.138000e+03\n",
       "50%     -3.300000e+02\n",
       "75%      4.740000e+02\n",
       "max      3.119900e+04\n",
       "Name: DAYS_CREDIT_ENDDATE, dtype: float64"
      ]
     },
     "execution_count": 63,
     "metadata": {},
     "output_type": "execute_result"
    }
   ],
   "source": [
    "good_bureau[\"DAYS_CREDIT_ENDDATE\"].describe()"
   ]
  },
  {
   "cell_type": "code",
   "execution_count": 64,
   "metadata": {},
   "outputs": [
    {
     "name": "stdout",
     "output_type": "stream",
     "text": [
      "Element 149 bellow Q1 - 1.5 * IQ (-3556.00)\n",
      "Element 79191 above Q3 + 1.5 * IQ (2892.00)\n"
     ]
    }
   ],
   "source": [
    "good_bureau = clean_IQ(good_bureau, \"DAYS_CREDIT_ENDDATE\")"
   ]
  },
  {
   "cell_type": "code",
   "execution_count": 65,
   "metadata": {},
   "outputs": [
    {
     "data": {
      "text/plain": [
       "array([[<AxesSubplot:title={'center':'DAYS_CREDIT_ENDDATE'}>]],\n",
       "      dtype=object)"
      ]
     },
     "execution_count": 65,
     "metadata": {},
     "output_type": "execute_result"
    },
    {
     "data": {
      "image/png": "[encoded data removed]",
      "text/plain": [
       "<Figure size 432x288 with 1 Axes>"
      ]
     },
     "metadata": {
      "needs_background": "light"
     },
     "output_type": "display_data"
    }
   ],
   "source": [
    "good_bureau.hist(\"DAYS_CREDIT_ENDDATE\", bins = 50)"
   ]
  },
  {
   "cell_type": "code",
   "execution_count": 66,
   "metadata": {},
   "outputs": [
    {
     "data": {
      "text/plain": [
       "array([[<AxesSubplot:title={'center':'AMT_CREDIT_SUM'}>]], dtype=object)"
      ]
     },
     "execution_count": 66,
     "metadata": {},
     "output_type": "execute_result"
    },
    {
     "data": {
      "image/png": "[encoded data removed]",
      "text/plain": [
       "<Figure size 432x288 with 1 Axes>"
      ]
     },
     "metadata": {
      "needs_background": "light"
     },
     "output_type": "display_data"
    }
   ],
   "source": [
    "good_bureau.hist(\"AMT_CREDIT_SUM\", bins = 50)"
   ]
  },
  {
   "cell_type": "code",
   "execution_count": 67,
   "metadata": {},
   "outputs": [
    {
     "name": "stdout",
     "output_type": "stream",
     "text": [
      "Element 0 bellow Q1 - 1.5 * IQ (-336375.00)\n",
      "Element 168633 above Q3 + 1.5 * IQ (698625.00)\n"
     ]
    }
   ],
   "source": [
    "good_bureau = clean_IQ(good_bureau, \"AMT_CREDIT_SUM\")"
   ]
  },
  {
   "cell_type": "code",
   "execution_count": 68,
   "metadata": {},
   "outputs": [
    {
     "data": {
      "text/plain": [
       "array([[<AxesSubplot:title={'center':'AMT_CREDIT_SUM'}>]], dtype=object)"
      ]
     },
     "execution_count": 68,
     "metadata": {},
     "output_type": "execute_result"
    },
    {
     "data": {
      "image/png": "[encoded data removed]",
      "text/plain": [
       "<Figure size 432x288 with 1 Axes>"
      ]
     },
     "metadata": {
      "needs_background": "light"
     },
     "output_type": "display_data"
    }
   ],
   "source": [
    "good_bureau.hist(\"AMT_CREDIT_SUM\", bins = 50)"
   ]
  },
  {
   "cell_type": "code",
   "execution_count": 69,
   "metadata": {},
   "outputs": [
    {
     "data": {
      "text/plain": [
       "<AxesSubplot:>"
      ]
     },
     "execution_count": 69,
     "metadata": {},
     "output_type": "execute_result"
    },
    {
     "data": {
      "image/png": "[encoded data removed]",
      "text/plain": [
       "<Figure size 432x288 with 1 Axes>"
      ]
     },
     "metadata": {
      "needs_background": "light"
     },
     "output_type": "display_data"
    }
   ],
   "source": [
    "good_bureau.boxplot(\"AMT_CREDIT_SUM\")"
   ]
  },
  {
   "cell_type": "code",
   "execution_count": 70,
   "metadata": {},
   "outputs": [
    {
     "name": "stdout",
     "output_type": "stream",
     "text": [
      "Element 0 bellow Q1 - 1.5 * IQ (-223604.16)\n",
      "Element 76743 above Q3 + 1.5 * IQ (494162.49)\n"
     ]
    }
   ],
   "source": [
    "distance_IQ(good_bureau[\"AMT_CREDIT_SUM\"])"
   ]
  },
  {
   "cell_type": "code",
   "execution_count": 71,
   "metadata": {},
   "outputs": [
    {
     "data": {
      "text/plain": [
       "<matplotlib.collections.PathCollection at 0x255297adb80>"
      ]
     },
     "execution_count": 71,
     "metadata": {},
     "output_type": "execute_result"
    },
    {
     "data": {
      "image/png": "[encoded data removed]",
      "text/plain": [
       "<Figure size 432x288 with 1 Axes>"
      ]
     },
     "metadata": {
      "needs_background": "light"
     },
     "output_type": "display_data"
    }
   ],
   "source": [
    "y = good_bureau[\"AMT_CREDIT_SUM\"].to_numpy()\n",
    "x = good_bureau[\"DAYS_CREDIT_ENDDATE\"].to_numpy()\n",
    "plt.scatter(x, y, alpha = 0.2)"
   ]
  },
  {
   "cell_type": "code",
   "execution_count": 72,
   "metadata": {
    "scrolled": true
   },
   "outputs": [
    {
     "name": "stdout",
     "output_type": "stream",
     "text": [
      "['Status of the Credit Bureau (CB) reported credits']\n"
     ]
    }
   ],
   "source": [
    "print(df_home_credit.loc[df_home_credit[\"Row\"] == \"CREDIT_ACTIVE\", \"Description\"].values)"
   ]
  },
  {
   "cell_type": "code",
   "execution_count": 73,
   "metadata": {
    "scrolled": true
   },
   "outputs": [
    {
     "data": {
      "text/plain": [
       "Closed      955455\n",
       "Active      403089\n",
       "Sold          4328\n",
       "Bad debt        20\n",
       "Name: CREDIT_ACTIVE, dtype: int64"
      ]
     },
     "execution_count": 73,
     "metadata": {},
     "output_type": "execute_result"
    }
   ],
   "source": [
    "good_bureau[\"CREDIT_ACTIVE\"].value_counts()\n",
    "#keep only row whith recent update"
   ]
  },
  {
   "cell_type": "code",
   "execution_count": 74,
   "metadata": {
    "scrolled": true
   },
   "outputs": [
    {
     "name": "stdout",
     "output_type": "stream",
     "text": [
      "['Recoded currency of the Credit Bureau credit']\n"
     ]
    }
   ],
   "source": [
    "print(df_home_credit.loc[df_home_credit[\"Row\"] == \"CREDIT_CURRENCY\", \"Description\"].values)"
   ]
  },
  {
   "cell_type": "code",
   "execution_count": 75,
   "metadata": {
    "scrolled": true
   },
   "outputs": [
    {
     "data": {
      "text/plain": [
       "currency 1    1362544\n",
       "currency 2        265\n",
       "currency 3         81\n",
       "currency 4          2\n",
       "Name: CREDIT_CURRENCY, dtype: int64"
      ]
     },
     "execution_count": 75,
     "metadata": {},
     "output_type": "execute_result"
    }
   ],
   "source": [
    "good_bureau[\"CREDIT_CURRENCY\"].value_counts()\n",
    "#keep only row whith recent update"
   ]
  },
  {
   "cell_type": "code",
   "execution_count": 76,
   "metadata": {
    "scrolled": true
   },
   "outputs": [
    {
     "name": "stdout",
     "output_type": "stream",
     "text": [
      "['How many days before current application did client apply for Credit Bureau credit']\n"
     ]
    }
   ],
   "source": [
    "print(df_home_credit.loc[df_home_credit[\"Row\"] == \"DAYS_CREDIT\", \"Description\"].values)"
   ]
  },
  {
   "cell_type": "code",
   "execution_count": 77,
   "metadata": {},
   "outputs": [
    {
     "data": {
      "text/plain": [
       "array([[<AxesSubplot:title={'center':'DAYS_CREDIT'}>]], dtype=object)"
      ]
     },
     "execution_count": 77,
     "metadata": {},
     "output_type": "execute_result"
    },
    {
     "data": {
      "image/png": "[encoded data removed]",
      "text/plain": [
       "<Figure size 432x288 with 1 Axes>"
      ]
     },
     "metadata": {
      "needs_background": "light"
     },
     "output_type": "display_data"
    }
   ],
   "source": [
    "df_bureau.hist(\"DAYS_CREDIT\", bins = 50)\n",
    "#keep only row whith recent update"
   ]
  },
  {
   "cell_type": "code",
   "execution_count": 78,
   "metadata": {},
   "outputs": [
    {
     "name": "stdout",
     "output_type": "stream",
     "text": [
      "['Remaining duration of CB credit (in days) at the time of application in Home Credit']\n"
     ]
    }
   ],
   "source": [
    "print(df_home_credit.loc[df_home_credit[\"Row\"] == \"DAYS_CREDIT_ENDDATE\", \"Description\"].values)"
   ]
  },
  {
   "cell_type": "code",
   "execution_count": 79,
   "metadata": {},
   "outputs": [
    {
     "data": {
      "text/plain": [
       "array([[<AxesSubplot:title={'center':'DAYS_CREDIT_ENDDATE'}>]],\n",
       "      dtype=object)"
      ]
     },
     "execution_count": 79,
     "metadata": {},
     "output_type": "execute_result"
    },
    {
     "data": {
      "image/png": "[encoded data removed]",
      "text/plain": [
       "<Figure size 432x288 with 1 Axes>"
      ]
     },
     "metadata": {
      "needs_background": "light"
     },
     "output_type": "display_data"
    }
   ],
   "source": [
    "good_bureau.hist(\"DAYS_CREDIT_ENDDATE\", bins = 50)"
   ]
  },
  {
   "cell_type": "code",
   "execution_count": 80,
   "metadata": {},
   "outputs": [
    {
     "name": "stdout",
     "output_type": "stream",
     "text": [
      "['Days since CB credit ended at the time of application in Home Credit (only for closed credit)']\n"
     ]
    }
   ],
   "source": [
    "print(df_home_credit.loc[df_home_credit[\"Row\"] == \"DAYS_ENDDATE_FACT\", \"Description\"].values)"
   ]
  },
  {
   "cell_type": "code",
   "execution_count": 81,
   "metadata": {},
   "outputs": [
    {
     "data": {
      "text/plain": [
       "array([[<AxesSubplot:title={'center':'DAYS_ENDDATE_FACT'}>]], dtype=object)"
      ]
     },
     "execution_count": 81,
     "metadata": {},
     "output_type": "execute_result"
    },
    {
     "data": {
      "image/png": "[encoded data removed]",
      "text/plain": [
       "<Figure size 432x288 with 1 Axes>"
      ]
     },
     "metadata": {
      "needs_background": "light"
     },
     "output_type": "display_data"
    }
   ],
   "source": [
    "good_bureau.hist(\"DAYS_ENDDATE_FACT\", bins = 50)"
   ]
  },
  {
   "cell_type": "code",
   "execution_count": 82,
   "metadata": {},
   "outputs": [
    {
     "name": "stdout",
     "output_type": "stream",
     "text": [
      "['Current debt on Credit Bureau credit']\n"
     ]
    }
   ],
   "source": [
    "print(df_home_credit.loc[df_home_credit[\"Row\"] == \"AMT_CREDIT_SUM_DEBT\", \"Description\"].values)"
   ]
  },
  {
   "cell_type": "code",
   "execution_count": 83,
   "metadata": {},
   "outputs": [
    {
     "data": {
      "text/plain": [
       "array([[<AxesSubplot:title={'center':'AMT_CREDIT_SUM_DEBT'}>]],\n",
       "      dtype=object)"
      ]
     },
     "execution_count": 83,
     "metadata": {},
     "output_type": "execute_result"
    },
    {
     "data": {
      "image/png": "[encoded data removed]",
      "text/plain": [
       "<Figure size 432x288 with 1 Axes>"
      ]
     },
     "metadata": {
      "needs_background": "light"
     },
     "output_type": "display_data"
    }
   ],
   "source": [
    "good_bureau.hist(\"AMT_CREDIT_SUM_DEBT\", bins = 50)"
   ]
  },
  {
   "cell_type": "code",
   "execution_count": 84,
   "metadata": {},
   "outputs": [
    {
     "data": {
      "text/plain": [
       "(1362892, 12)"
      ]
     },
     "execution_count": 84,
     "metadata": {},
     "output_type": "execute_result"
    }
   ],
   "source": [
    "good_bureau.shape"
   ]
  },
  {
   "cell_type": "code",
   "execution_count": 85,
   "metadata": {},
   "outputs": [
    {
     "data": {
      "text/html": [
       "<div>\n",
       "<style scoped>\n",
       "    .dataframe tbody tr th:only-of-type {\n",
       "        vertical-align: middle;\n",
       "    }\n",
       "\n",
       "    .dataframe tbody tr th {\n",
       "        vertical-align: top;\n",
       "    }\n",
       "\n",
       "    .dataframe thead th {\n",
       "        text-align: right;\n",
       "    }\n",
       "</style>\n",
       "<table border=\"1\" class=\"dataframe\">\n",
       "  <thead>\n",
       "    <tr style=\"text-align: right;\">\n",
       "      <th></th>\n",
       "      <th>SK_ID_CURR</th>\n",
       "      <th>SK_ID_BUREAU</th>\n",
       "      <th>CREDIT_ACTIVE</th>\n",
       "      <th>CREDIT_CURRENCY</th>\n",
       "      <th>DAYS_CREDIT</th>\n",
       "      <th>CREDIT_DAY_OVERDUE</th>\n",
       "      <th>DAYS_CREDIT_ENDDATE</th>\n",
       "      <th>DAYS_ENDDATE_FACT</th>\n",
       "      <th>AMT_CREDIT_MAX_OVERDUE</th>\n",
       "      <th>CNT_CREDIT_PROLONG</th>\n",
       "      <th>AMT_CREDIT_SUM</th>\n",
       "      <th>AMT_CREDIT_SUM_DEBT</th>\n",
       "    </tr>\n",
       "  </thead>\n",
       "  <tbody>\n",
       "    <tr>\n",
       "      <th>0</th>\n",
       "      <td>215354</td>\n",
       "      <td>5714462</td>\n",
       "      <td>Closed</td>\n",
       "      <td>currency 1</td>\n",
       "      <td>-497</td>\n",
       "      <td>0</td>\n",
       "      <td>-153.0</td>\n",
       "      <td>-153.0</td>\n",
       "      <td>NaN</td>\n",
       "      <td>0</td>\n",
       "      <td>91323.00</td>\n",
       "      <td>0.0</td>\n",
       "    </tr>\n",
       "    <tr>\n",
       "      <th>1</th>\n",
       "      <td>215354</td>\n",
       "      <td>5714463</td>\n",
       "      <td>Active</td>\n",
       "      <td>currency 1</td>\n",
       "      <td>-208</td>\n",
       "      <td>0</td>\n",
       "      <td>1075.0</td>\n",
       "      <td>NaN</td>\n",
       "      <td>NaN</td>\n",
       "      <td>0</td>\n",
       "      <td>225000.00</td>\n",
       "      <td>171342.0</td>\n",
       "    </tr>\n",
       "    <tr>\n",
       "      <th>2</th>\n",
       "      <td>215354</td>\n",
       "      <td>5714464</td>\n",
       "      <td>Active</td>\n",
       "      <td>currency 1</td>\n",
       "      <td>-203</td>\n",
       "      <td>0</td>\n",
       "      <td>528.0</td>\n",
       "      <td>NaN</td>\n",
       "      <td>NaN</td>\n",
       "      <td>0</td>\n",
       "      <td>464323.50</td>\n",
       "      <td>NaN</td>\n",
       "    </tr>\n",
       "    <tr>\n",
       "      <th>6</th>\n",
       "      <td>215354</td>\n",
       "      <td>5714468</td>\n",
       "      <td>Active</td>\n",
       "      <td>currency 1</td>\n",
       "      <td>-43</td>\n",
       "      <td>0</td>\n",
       "      <td>79.0</td>\n",
       "      <td>NaN</td>\n",
       "      <td>0.0</td>\n",
       "      <td>0</td>\n",
       "      <td>42103.80</td>\n",
       "      <td>42103.8</td>\n",
       "    </tr>\n",
       "    <tr>\n",
       "      <th>7</th>\n",
       "      <td>162297</td>\n",
       "      <td>5714469</td>\n",
       "      <td>Closed</td>\n",
       "      <td>currency 1</td>\n",
       "      <td>-1896</td>\n",
       "      <td>0</td>\n",
       "      <td>-1684.0</td>\n",
       "      <td>-1710.0</td>\n",
       "      <td>14985.0</td>\n",
       "      <td>0</td>\n",
       "      <td>76878.45</td>\n",
       "      <td>0.0</td>\n",
       "    </tr>\n",
       "  </tbody>\n",
       "</table>\n",
       "</div>"
      ],
      "text/plain": [
       "   SK_ID_CURR  SK_ID_BUREAU CREDIT_ACTIVE CREDIT_CURRENCY  DAYS_CREDIT  \\\n",
       "0      215354       5714462        Closed      currency 1         -497   \n",
       "1      215354       5714463        Active      currency 1         -208   \n",
       "2      215354       5714464        Active      currency 1         -203   \n",
       "6      215354       5714468        Active      currency 1          -43   \n",
       "7      162297       5714469        Closed      currency 1        -1896   \n",
       "\n",
       "   CREDIT_DAY_OVERDUE  DAYS_CREDIT_ENDDATE  DAYS_ENDDATE_FACT  \\\n",
       "0                   0               -153.0             -153.0   \n",
       "1                   0               1075.0                NaN   \n",
       "2                   0                528.0                NaN   \n",
       "6                   0                 79.0                NaN   \n",
       "7                   0              -1684.0            -1710.0   \n",
       "\n",
       "   AMT_CREDIT_MAX_OVERDUE  CNT_CREDIT_PROLONG  AMT_CREDIT_SUM  \\\n",
       "0                     NaN                   0        91323.00   \n",
       "1                     NaN                   0       225000.00   \n",
       "2                     NaN                   0       464323.50   \n",
       "6                     0.0                   0        42103.80   \n",
       "7                 14985.0                   0        76878.45   \n",
       "\n",
       "   AMT_CREDIT_SUM_DEBT  \n",
       "0                  0.0  \n",
       "1             171342.0  \n",
       "2                  NaN  \n",
       "6              42103.8  \n",
       "7                  0.0  "
      ]
     },
     "execution_count": 85,
     "metadata": {},
     "output_type": "execute_result"
    }
   ],
   "source": [
    "good_bureau.head()"
   ]
  },
  {
   "cell_type": "code",
   "execution_count": 86,
   "metadata": {},
   "outputs": [],
   "source": [
    "good_bureau = pd.get_dummies(good_bureau, columns=[\"CREDIT_ACTIVE\", \"CREDIT_CURRENCY\"])"
   ]
  },
  {
   "cell_type": "code",
   "execution_count": 87,
   "metadata": {},
   "outputs": [
    {
     "data": {
      "text/html": [
       "<div>\n",
       "<style scoped>\n",
       "    .dataframe tbody tr th:only-of-type {\n",
       "        vertical-align: middle;\n",
       "    }\n",
       "\n",
       "    .dataframe tbody tr th {\n",
       "        vertical-align: top;\n",
       "    }\n",
       "\n",
       "    .dataframe thead th {\n",
       "        text-align: right;\n",
       "    }\n",
       "</style>\n",
       "<table border=\"1\" class=\"dataframe\">\n",
       "  <thead>\n",
       "    <tr style=\"text-align: right;\">\n",
       "      <th></th>\n",
       "      <th>SK_ID_CURR</th>\n",
       "      <th>SK_ID_BUREAU</th>\n",
       "      <th>DAYS_CREDIT</th>\n",
       "      <th>CREDIT_DAY_OVERDUE</th>\n",
       "      <th>DAYS_CREDIT_ENDDATE</th>\n",
       "      <th>DAYS_ENDDATE_FACT</th>\n",
       "      <th>AMT_CREDIT_MAX_OVERDUE</th>\n",
       "      <th>CNT_CREDIT_PROLONG</th>\n",
       "      <th>AMT_CREDIT_SUM</th>\n",
       "      <th>AMT_CREDIT_SUM_DEBT</th>\n",
       "      <th>CREDIT_ACTIVE_Active</th>\n",
       "      <th>CREDIT_ACTIVE_Bad debt</th>\n",
       "      <th>CREDIT_ACTIVE_Closed</th>\n",
       "      <th>CREDIT_ACTIVE_Sold</th>\n",
       "      <th>CREDIT_CURRENCY_currency 1</th>\n",
       "      <th>CREDIT_CURRENCY_currency 2</th>\n",
       "      <th>CREDIT_CURRENCY_currency 3</th>\n",
       "      <th>CREDIT_CURRENCY_currency 4</th>\n",
       "    </tr>\n",
       "  </thead>\n",
       "  <tbody>\n",
       "    <tr>\n",
       "      <th>0</th>\n",
       "      <td>215354</td>\n",
       "      <td>5714462</td>\n",
       "      <td>-497</td>\n",
       "      <td>0</td>\n",
       "      <td>-153.0</td>\n",
       "      <td>-153.0</td>\n",
       "      <td>NaN</td>\n",
       "      <td>0</td>\n",
       "      <td>91323.00</td>\n",
       "      <td>0.0</td>\n",
       "      <td>0</td>\n",
       "      <td>0</td>\n",
       "      <td>1</td>\n",
       "      <td>0</td>\n",
       "      <td>1</td>\n",
       "      <td>0</td>\n",
       "      <td>0</td>\n",
       "      <td>0</td>\n",
       "    </tr>\n",
       "    <tr>\n",
       "      <th>1</th>\n",
       "      <td>215354</td>\n",
       "      <td>5714463</td>\n",
       "      <td>-208</td>\n",
       "      <td>0</td>\n",
       "      <td>1075.0</td>\n",
       "      <td>NaN</td>\n",
       "      <td>NaN</td>\n",
       "      <td>0</td>\n",
       "      <td>225000.00</td>\n",
       "      <td>171342.0</td>\n",
       "      <td>1</td>\n",
       "      <td>0</td>\n",
       "      <td>0</td>\n",
       "      <td>0</td>\n",
       "      <td>1</td>\n",
       "      <td>0</td>\n",
       "      <td>0</td>\n",
       "      <td>0</td>\n",
       "    </tr>\n",
       "    <tr>\n",
       "      <th>2</th>\n",
       "      <td>215354</td>\n",
       "      <td>5714464</td>\n",
       "      <td>-203</td>\n",
       "      <td>0</td>\n",
       "      <td>528.0</td>\n",
       "      <td>NaN</td>\n",
       "      <td>NaN</td>\n",
       "      <td>0</td>\n",
       "      <td>464323.50</td>\n",
       "      <td>NaN</td>\n",
       "      <td>1</td>\n",
       "      <td>0</td>\n",
       "      <td>0</td>\n",
       "      <td>0</td>\n",
       "      <td>1</td>\n",
       "      <td>0</td>\n",
       "      <td>0</td>\n",
       "      <td>0</td>\n",
       "    </tr>\n",
       "    <tr>\n",
       "      <th>6</th>\n",
       "      <td>215354</td>\n",
       "      <td>5714468</td>\n",
       "      <td>-43</td>\n",
       "      <td>0</td>\n",
       "      <td>79.0</td>\n",
       "      <td>NaN</td>\n",
       "      <td>0.0</td>\n",
       "      <td>0</td>\n",
       "      <td>42103.80</td>\n",
       "      <td>42103.8</td>\n",
       "      <td>1</td>\n",
       "      <td>0</td>\n",
       "      <td>0</td>\n",
       "      <td>0</td>\n",
       "      <td>1</td>\n",
       "      <td>0</td>\n",
       "      <td>0</td>\n",
       "      <td>0</td>\n",
       "    </tr>\n",
       "    <tr>\n",
       "      <th>7</th>\n",
       "      <td>162297</td>\n",
       "      <td>5714469</td>\n",
       "      <td>-1896</td>\n",
       "      <td>0</td>\n",
       "      <td>-1684.0</td>\n",
       "      <td>-1710.0</td>\n",
       "      <td>14985.0</td>\n",
       "      <td>0</td>\n",
       "      <td>76878.45</td>\n",
       "      <td>0.0</td>\n",
       "      <td>0</td>\n",
       "      <td>0</td>\n",
       "      <td>1</td>\n",
       "      <td>0</td>\n",
       "      <td>1</td>\n",
       "      <td>0</td>\n",
       "      <td>0</td>\n",
       "      <td>0</td>\n",
       "    </tr>\n",
       "  </tbody>\n",
       "</table>\n",
       "</div>"
      ],
      "text/plain": [
       "   SK_ID_CURR  SK_ID_BUREAU  DAYS_CREDIT  CREDIT_DAY_OVERDUE  \\\n",
       "0      215354       5714462         -497                   0   \n",
       "1      215354       5714463         -208                   0   \n",
       "2      215354       5714464         -203                   0   \n",
       "6      215354       5714468          -43                   0   \n",
       "7      162297       5714469        -1896                   0   \n",
       "\n",
       "   DAYS_CREDIT_ENDDATE  DAYS_ENDDATE_FACT  AMT_CREDIT_MAX_OVERDUE  \\\n",
       "0               -153.0             -153.0                     NaN   \n",
       "1               1075.0                NaN                     NaN   \n",
       "2                528.0                NaN                     NaN   \n",
       "6                 79.0                NaN                     0.0   \n",
       "7              -1684.0            -1710.0                 14985.0   \n",
       "\n",
       "   CNT_CREDIT_PROLONG  AMT_CREDIT_SUM  AMT_CREDIT_SUM_DEBT  \\\n",
       "0                   0        91323.00                  0.0   \n",
       "1                   0       225000.00             171342.0   \n",
       "2                   0       464323.50                  NaN   \n",
       "6                   0        42103.80              42103.8   \n",
       "7                   0        76878.45                  0.0   \n",
       "\n",
       "   CREDIT_ACTIVE_Active  CREDIT_ACTIVE_Bad debt  CREDIT_ACTIVE_Closed  \\\n",
       "0                     0                       0                     1   \n",
       "1                     1                       0                     0   \n",
       "2                     1                       0                     0   \n",
       "6                     1                       0                     0   \n",
       "7                     0                       0                     1   \n",
       "\n",
       "   CREDIT_ACTIVE_Sold  CREDIT_CURRENCY_currency 1  CREDIT_CURRENCY_currency 2  \\\n",
       "0                   0                           1                           0   \n",
       "1                   0                           1                           0   \n",
       "2                   0                           1                           0   \n",
       "6                   0                           1                           0   \n",
       "7                   0                           1                           0   \n",
       "\n",
       "   CREDIT_CURRENCY_currency 3  CREDIT_CURRENCY_currency 4  \n",
       "0                           0                           0  \n",
       "1                           0                           0  \n",
       "2                           0                           0  \n",
       "6                           0                           0  \n",
       "7                           0                           0  "
      ]
     },
     "execution_count": 87,
     "metadata": {},
     "output_type": "execute_result"
    }
   ],
   "source": [
    "good_bureau.head()"
   ]
  },
  {
   "cell_type": "code",
   "execution_count": 88,
   "metadata": {},
   "outputs": [
    {
     "name": "stdout",
     "output_type": "stream",
     "text": [
      "['Current debt on Credit Bureau credit']\n"
     ]
    }
   ],
   "source": [
    "print(df_home_credit.loc[df_home_credit[\"Row\"] == \"AMT_CREDIT_SUM_DEBT\", \"Description\"].values)"
   ]
  },
  {
   "cell_type": "markdown",
   "metadata": {},
   "source": [
    "### Sous tableau informations des crédits en cours"
   ]
  },
  {
   "cell_type": "code",
   "execution_count": 89,
   "metadata": {},
   "outputs": [],
   "source": [
    "bureau_credit_active = good_bureau[good_bureau[\"CREDIT_ACTIVE_Active\"] == 1]\n",
    "tmp = bureau_credit_active[[\"SK_ID_CURR\", \"CREDIT_ACTIVE_Active\"]].groupby([\"SK_ID_CURR\"]).sum()\n",
    "tmp2 = bureau_credit_active[[\"SK_ID_CURR\", \"AMT_CREDIT_MAX_OVERDUE\", \"AMT_CREDIT_SUM\", ]].groupby([\"SK_ID_CURR\"]).mean()\n",
    "bureau_credit_active = tmp.merge(tmp2, how = \"left\", on = \"SK_ID_CURR\")\n",
    "bureau_credit_active[\"AMT_CREDIT_MAX_OVERDUE\"] = bureau_credit_active[\"AMT_CREDIT_MAX_OVERDUE\"].fillna(0)"
   ]
  },
  {
   "cell_type": "code",
   "execution_count": 90,
   "metadata": {},
   "outputs": [],
   "source": [
    "#rename columns\n",
    "tmp = bureau_credit_active[\"AMT_CREDIT_MAX_OVERDUE\"]/bureau_credit_active[\"AMT_CREDIT_SUM\"]\n",
    "tmp = tmp.reset_index().rename(columns={0 : \"proportion_OVERDUE_active\"})\n",
    "bureau_credit_active = bureau_credit_active.rename(columns={\"AMT_CREDIT_MAX_OVERDUE\": \"CREDIT_MEAN_OVERDUE_active\",\n",
    "                                                            \"CREDIT_ACTIVE_Active\" : \"CREDIT_active\",\n",
    "                                                            \"AMT_CREDIT_SUM\": \"CREDIT_MEAN_active\"})\n",
    "bureau_credit_active = bureau_credit_active.reset_index()\n",
    "bureau_credit_active = bureau_credit_active.merge(tmp, on =\"SK_ID_CURR\", how = \"left\")"
   ]
  },
  {
   "cell_type": "markdown",
   "metadata": {},
   "source": [
    "### Sous tableau informations des crédits fermés"
   ]
  },
  {
   "cell_type": "code",
   "execution_count": 91,
   "metadata": {},
   "outputs": [],
   "source": [
    "bureau_credit_closed = good_bureau[good_bureau[\"CREDIT_ACTIVE_Closed\"] == 1]\n",
    "tmp = bureau_credit_closed[[\"SK_ID_CURR\", \"CREDIT_ACTIVE_Closed\"]].groupby([\"SK_ID_CURR\"]).sum()\n",
    "tmp2 = bureau_credit_closed[[\"SK_ID_CURR\", \"AMT_CREDIT_MAX_OVERDUE\", \"AMT_CREDIT_SUM\", ]].groupby([\"SK_ID_CURR\"]).mean()\n",
    "bureau_credit_closed = tmp.merge(tmp2, how = \"left\", on = \"SK_ID_CURR\")\n",
    "bureau_credit_closed[\"AMT_CREDIT_MAX_OVERDUE\"] = bureau_credit_closed[\"AMT_CREDIT_MAX_OVERDUE\"].fillna(0)"
   ]
  },
  {
   "cell_type": "code",
   "execution_count": 92,
   "metadata": {},
   "outputs": [],
   "source": [
    "#rename columns\n",
    "tmp = bureau_credit_closed[\"AMT_CREDIT_MAX_OVERDUE\"]/bureau_credit_closed[\"AMT_CREDIT_SUM\"]\n",
    "tmp = tmp.reset_index().rename(columns={0 : \"proportion_OVERDUE_closed\"})\n",
    "bureau_credit_closed = bureau_credit_closed.rename(columns={\"AMT_CREDIT_MAX_OVERDUE\": \"CREDIT_MEAN_OVERDUE_closed\",\n",
    "                                                            \"CREDIT_ACTIVE_Closed\" : \"CREDIT_closed\",\n",
    "                                                            \"AMT_CREDIT_SUM\": \"CREDIT_MEAN_closed\"})\n",
    "bureau_credit_closed = bureau_credit_closed.reset_index()\n",
    "bureau_credit_closed = bureau_credit_closed.merge(tmp, on =\"SK_ID_CURR\", how = \"left\")"
   ]
  },
  {
   "cell_type": "code",
   "execution_count": 93,
   "metadata": {},
   "outputs": [
    {
     "data": {
      "text/html": [
       "<div>\n",
       "<style scoped>\n",
       "    .dataframe tbody tr th:only-of-type {\n",
       "        vertical-align: middle;\n",
       "    }\n",
       "\n",
       "    .dataframe tbody tr th {\n",
       "        vertical-align: top;\n",
       "    }\n",
       "\n",
       "    .dataframe thead th {\n",
       "        text-align: right;\n",
       "    }\n",
       "</style>\n",
       "<table border=\"1\" class=\"dataframe\">\n",
       "  <thead>\n",
       "    <tr style=\"text-align: right;\">\n",
       "      <th></th>\n",
       "      <th>SK_ID_CURR</th>\n",
       "      <th>CREDIT_closed</th>\n",
       "      <th>CREDIT_MEAN_OVERDUE_closed</th>\n",
       "      <th>CREDIT_MEAN_closed</th>\n",
       "      <th>proportion_OVERDUE_closed</th>\n",
       "    </tr>\n",
       "  </thead>\n",
       "  <tbody>\n",
       "    <tr>\n",
       "      <th>0</th>\n",
       "      <td>100001</td>\n",
       "      <td>4</td>\n",
       "      <td>0.00000</td>\n",
       "      <td>142335.000</td>\n",
       "      <td>0.000000</td>\n",
       "    </tr>\n",
       "    <tr>\n",
       "      <th>1</th>\n",
       "      <td>100002</td>\n",
       "      <td>5</td>\n",
       "      <td>2091.16125</td>\n",
       "      <td>76613.400</td>\n",
       "      <td>0.027295</td>\n",
       "    </tr>\n",
       "    <tr>\n",
       "      <th>2</th>\n",
       "      <td>100003</td>\n",
       "      <td>3</td>\n",
       "      <td>0.00000</td>\n",
       "      <td>69133.500</td>\n",
       "      <td>0.000000</td>\n",
       "    </tr>\n",
       "    <tr>\n",
       "      <th>3</th>\n",
       "      <td>100004</td>\n",
       "      <td>2</td>\n",
       "      <td>0.00000</td>\n",
       "      <td>94518.900</td>\n",
       "      <td>0.000000</td>\n",
       "    </tr>\n",
       "    <tr>\n",
       "      <th>4</th>\n",
       "      <td>100005</td>\n",
       "      <td>1</td>\n",
       "      <td>0.00000</td>\n",
       "      <td>58500.000</td>\n",
       "      <td>0.000000</td>\n",
       "    </tr>\n",
       "    <tr>\n",
       "      <th>...</th>\n",
       "      <td>...</td>\n",
       "      <td>...</td>\n",
       "      <td>...</td>\n",
       "      <td>...</td>\n",
       "      <td>...</td>\n",
       "    </tr>\n",
       "    <tr>\n",
       "      <th>257878</th>\n",
       "      <td>456249</td>\n",
       "      <td>9</td>\n",
       "      <td>15367.50000</td>\n",
       "      <td>245428.740</td>\n",
       "      <td>0.062615</td>\n",
       "    </tr>\n",
       "    <tr>\n",
       "      <th>257879</th>\n",
       "      <td>456250</td>\n",
       "      <td>1</td>\n",
       "      <td>0.00000</td>\n",
       "      <td>483349.500</td>\n",
       "      <td>0.000000</td>\n",
       "    </tr>\n",
       "    <tr>\n",
       "      <th>257880</th>\n",
       "      <td>456253</td>\n",
       "      <td>2</td>\n",
       "      <td>0.00000</td>\n",
       "      <td>675000.000</td>\n",
       "      <td>0.000000</td>\n",
       "    </tr>\n",
       "    <tr>\n",
       "      <th>257881</th>\n",
       "      <td>456254</td>\n",
       "      <td>1</td>\n",
       "      <td>0.00000</td>\n",
       "      <td>45000.000</td>\n",
       "      <td>0.000000</td>\n",
       "    </tr>\n",
       "    <tr>\n",
       "      <th>257882</th>\n",
       "      <td>456255</td>\n",
       "      <td>4</td>\n",
       "      <td>16618.50000</td>\n",
       "      <td>130865.625</td>\n",
       "      <td>0.126989</td>\n",
       "    </tr>\n",
       "  </tbody>\n",
       "</table>\n",
       "<p>257883 rows × 5 columns</p>\n",
       "</div>"
      ],
      "text/plain": [
       "        SK_ID_CURR  CREDIT_closed  CREDIT_MEAN_OVERDUE_closed  \\\n",
       "0           100001              4                     0.00000   \n",
       "1           100002              5                  2091.16125   \n",
       "2           100003              3                     0.00000   \n",
       "3           100004              2                     0.00000   \n",
       "4           100005              1                     0.00000   \n",
       "...            ...            ...                         ...   \n",
       "257878      456249              9                 15367.50000   \n",
       "257879      456250              1                     0.00000   \n",
       "257880      456253              2                     0.00000   \n",
       "257881      456254              1                     0.00000   \n",
       "257882      456255              4                 16618.50000   \n",
       "\n",
       "        CREDIT_MEAN_closed  proportion_OVERDUE_closed  \n",
       "0               142335.000                   0.000000  \n",
       "1                76613.400                   0.027295  \n",
       "2                69133.500                   0.000000  \n",
       "3                94518.900                   0.000000  \n",
       "4                58500.000                   0.000000  \n",
       "...                    ...                        ...  \n",
       "257878          245428.740                   0.062615  \n",
       "257879          483349.500                   0.000000  \n",
       "257880          675000.000                   0.000000  \n",
       "257881           45000.000                   0.000000  \n",
       "257882          130865.625                   0.126989  \n",
       "\n",
       "[257883 rows x 5 columns]"
      ]
     },
     "execution_count": 93,
     "metadata": {},
     "output_type": "execute_result"
    }
   ],
   "source": [
    "bureau_credit_closed"
   ]
  },
  {
   "cell_type": "markdown",
   "metadata": {},
   "source": [
    "### Sous tableau informations des crédits vendus"
   ]
  },
  {
   "cell_type": "code",
   "execution_count": 94,
   "metadata": {},
   "outputs": [],
   "source": [
    "bureau_credit_sold = good_bureau[good_bureau[\"CREDIT_ACTIVE_Sold\"] == 1]\n",
    "tmp = bureau_credit_sold[[\"SK_ID_CURR\", \"CREDIT_ACTIVE_Sold\"]].groupby([\"SK_ID_CURR\"]).sum()\n",
    "tmp2 = bureau_credit_sold[[\"SK_ID_CURR\", \"AMT_CREDIT_MAX_OVERDUE\", \"AMT_CREDIT_SUM\", ]].groupby([\"SK_ID_CURR\"]).mean()\n",
    "bureau_credit_sold = tmp.merge(tmp2, how = \"left\", on = \"SK_ID_CURR\")\n",
    "bureau_credit_sold[\"AMT_CREDIT_MAX_OVERDUE\"] = bureau_credit_sold[\"AMT_CREDIT_MAX_OVERDUE\"].fillna(0)"
   ]
  },
  {
   "cell_type": "code",
   "execution_count": 95,
   "metadata": {},
   "outputs": [],
   "source": [
    "#rename columns\n",
    "tmp = bureau_credit_sold[\"AMT_CREDIT_MAX_OVERDUE\"]/bureau_credit_sold[\"AMT_CREDIT_SUM\"]\n",
    "tmp = tmp.reset_index().rename(columns={0 : \"proportion_OVERDUE_sold\"})\n",
    "bureau_credit_sold = bureau_credit_sold.rename(columns={\"AMT_CREDIT_MAX_OVERDUE\": \"CREDIT_MEAN_OVERDUE_sold\",\n",
    "                                                            \"CREDIT_ACTIVE_Sold\" : \"CREDIT_sold\",\n",
    "                                                            \"AMT_CREDIT_SUM\": \"CREDIT_MEAN_sold\"})\n",
    "bureau_credit_sold = bureau_credit_sold.reset_index()\n",
    "bureau_credit_sold = bureau_credit_sold.merge(tmp, on =\"SK_ID_CURR\", how = \"left\")"
   ]
  },
  {
   "cell_type": "markdown",
   "metadata": {},
   "source": [
    "### Sous tableau informations des mauvais crédits"
   ]
  },
  {
   "cell_type": "code",
   "execution_count": 96,
   "metadata": {},
   "outputs": [],
   "source": [
    "bureau_credit_bad_debt = good_bureau[good_bureau[\"CREDIT_ACTIVE_Bad debt\"] == 1]\n",
    "tmp = bureau_credit_bad_debt[[\"SK_ID_CURR\", \"CREDIT_ACTIVE_Bad debt\"]].groupby([\"SK_ID_CURR\"]).sum()\n",
    "tmp2 = bureau_credit_bad_debt[[\"SK_ID_CURR\", \"AMT_CREDIT_MAX_OVERDUE\", \"AMT_CREDIT_SUM\", ]].groupby([\"SK_ID_CURR\"]).mean()\n",
    "bureau_credit_bad_debt = tmp.merge(tmp2, how = \"left\", on = \"SK_ID_CURR\")\n",
    "bureau_credit_bad_debt[\"AMT_CREDIT_MAX_OVERDUE\"] = bureau_credit_bad_debt[\"AMT_CREDIT_MAX_OVERDUE\"].fillna(0)"
   ]
  },
  {
   "cell_type": "code",
   "execution_count": 97,
   "metadata": {},
   "outputs": [],
   "source": [
    "#rename columns\n",
    "tmp = bureau_credit_bad_debt[\"AMT_CREDIT_MAX_OVERDUE\"]/bureau_credit_bad_debt[\"AMT_CREDIT_SUM\"]\n",
    "tmp = tmp.reset_index().rename(columns={0 : \"proportion_OVERDUE_bad\"})\n",
    "bureau_credit_bad_debt = bureau_credit_bad_debt.rename(columns={\"AMT_CREDIT_MAX_OVERDUE\": \"CREDIT_MEAN_OVERDUE_bad\",\n",
    "                                                            \"CREDIT_ACTIVE_Bad debt\" : \"CREDIT_bad\",\n",
    "                                                            \"AMT_CREDIT_SUM\": \"CREDIT_MEAN_bad\"})\n",
    "bureau_credit_bad_debt = bureau_credit_bad_debt.reset_index()\n",
    "bureau_credit_bad_debt = bureau_credit_bad_debt.merge(tmp, on =\"SK_ID_CURR\", how = \"left\")"
   ]
  },
  {
   "cell_type": "markdown",
   "metadata": {},
   "source": [
    "### Merge tableau"
   ]
  },
  {
   "cell_type": "code",
   "execution_count": 98,
   "metadata": {},
   "outputs": [],
   "source": [
    "data_train = data_train.merge(bureau_credit_active, on='SK_ID_CURR', how='left')\n",
    "data_train = data_train.merge(bureau_credit_sold, on='SK_ID_CURR', how='left')\n",
    "data_train = data_train.merge(bureau_credit_closed, on='SK_ID_CURR', how='left')\n",
    "data_train = data_train.merge(bureau_credit_bad_debt, on='SK_ID_CURR', how='left')"
   ]
  },
  {
   "cell_type": "code",
   "execution_count": 99,
   "metadata": {},
   "outputs": [],
   "source": [
    "for col in data_train.columns[36:]:\n",
    "    data_train[col] = data_train[col].fillna(0)"
   ]
  },
  {
   "cell_type": "raw",
   "metadata": {},
   "source": [
    "Proportion des crédits qui sont arrivés à terme, mauvais et vendu"
   ]
  },
  {
   "cell_type": "code",
   "execution_count": 100,
   "metadata": {},
   "outputs": [],
   "source": [
    "data_train.CREDIT_sold = data_train.CREDIT_sold / (data_train.CREDIT_sold +  data_train.CREDIT_closed + data_train.CREDIT_bad)\n",
    "data_train.CREDIT_closed = data_train.CREDIT_closed / (data_train.CREDIT_sold +  data_train.CREDIT_closed + data_train.CREDIT_bad)\n",
    "data_train.CREDIT_bad = data_train.CREDIT_bad / (data_train.CREDIT_sold +  data_train.CREDIT_closed + data_train.CREDIT_bad)"
   ]
  },
  {
   "cell_type": "code",
   "execution_count": 101,
   "metadata": {},
   "outputs": [
    {
     "name": "stdout",
     "output_type": "stream",
     "text": [
      "['Maximal amount overdue on the Credit Bureau credit so far (at application date of loan in our sample)']\n"
     ]
    }
   ],
   "source": [
    "print(df_home_credit.loc[df_home_credit[\"Row\"] == \"AMT_CREDIT_MAX_OVERDUE\", \"Description\"].values)"
   ]
  },
  {
   "cell_type": "code",
   "execution_count": 102,
   "metadata": {},
   "outputs": [
    {
     "name": "stdout",
     "output_type": "stream",
     "text": [
      "['Current credit amount for the Credit Bureau credit']\n"
     ]
    }
   ],
   "source": [
    "print(df_home_credit.loc[df_home_credit[\"Row\"] == \"AMT_CREDIT_SUM\", \"Description\"].values)"
   ]
  },
  {
   "cell_type": "code",
   "execution_count": 103,
   "metadata": {},
   "outputs": [
    {
     "name": "stdout",
     "output_type": "stream",
     "text": [
      "['Current debt on Credit Bureau credit']\n"
     ]
    }
   ],
   "source": [
    "print(df_home_credit.loc[df_home_credit[\"Row\"] == \"AMT_CREDIT_SUM_DEBT\", \"Description\"].values)"
   ]
  },
  {
   "cell_type": "code",
   "execution_count": 104,
   "metadata": {},
   "outputs": [],
   "source": [
    "bureau_credit_detail = good_bureau[[\"SK_ID_CURR\", \"CREDIT_DAY_OVERDUE\", \"DAYS_CREDIT_ENDDATE\",\n",
    "                \"AMT_CREDIT_MAX_OVERDUE\"]]"
   ]
  },
  {
   "cell_type": "markdown",
   "metadata": {},
   "source": [
    "## Bureau balance"
   ]
  },
  {
   "cell_type": "code",
   "execution_count": 105,
   "metadata": {},
   "outputs": [
    {
     "data": {
      "text/html": [
       "<div>\n",
       "<style scoped>\n",
       "    .dataframe tbody tr th:only-of-type {\n",
       "        vertical-align: middle;\n",
       "    }\n",
       "\n",
       "    .dataframe tbody tr th {\n",
       "        vertical-align: top;\n",
       "    }\n",
       "\n",
       "    .dataframe thead th {\n",
       "        text-align: right;\n",
       "    }\n",
       "</style>\n",
       "<table border=\"1\" class=\"dataframe\">\n",
       "  <thead>\n",
       "    <tr style=\"text-align: right;\">\n",
       "      <th></th>\n",
       "      <th>SK_ID_BUREAU</th>\n",
       "      <th>MONTHS_BALANCE</th>\n",
       "      <th>STATUS</th>\n",
       "    </tr>\n",
       "  </thead>\n",
       "  <tbody>\n",
       "    <tr>\n",
       "      <th>0</th>\n",
       "      <td>5715448</td>\n",
       "      <td>0</td>\n",
       "      <td>C</td>\n",
       "    </tr>\n",
       "    <tr>\n",
       "      <th>1</th>\n",
       "      <td>5715448</td>\n",
       "      <td>-1</td>\n",
       "      <td>C</td>\n",
       "    </tr>\n",
       "    <tr>\n",
       "      <th>2</th>\n",
       "      <td>5715448</td>\n",
       "      <td>-2</td>\n",
       "      <td>C</td>\n",
       "    </tr>\n",
       "  </tbody>\n",
       "</table>\n",
       "</div>"
      ],
      "text/plain": [
       "   SK_ID_BUREAU  MONTHS_BALANCE STATUS\n",
       "0       5715448               0      C\n",
       "1       5715448              -1      C\n",
       "2       5715448              -2      C"
      ]
     },
     "execution_count": 105,
     "metadata": {},
     "output_type": "execute_result"
    }
   ],
   "source": [
    "df_bureau_balance.head(3)\n",
    "#Monthly balances of previous credits in Credit Bureau.\n",
    "#This table has one row for each month of history of every previous credit reported to Credit Bureau – i.e the table has \n",
    "#(#loans in sample * # of relative previous credits * # of months where we have some history observable for the previous credits) rows."
   ]
  },
  {
   "cell_type": "code",
   "execution_count": 106,
   "metadata": {},
   "outputs": [
    {
     "name": "stdout",
     "output_type": "stream",
     "text": [
      "['Month of balance relative to application date (-1 means the freshest balance date)'\n",
      " 'Month of balance relative to application date (-1 means the information to the freshest monthly snapshot, 0 means the information at application - often it will be the same as -1 as many banks are not updating the information to Credit Bureau regularly )'\n",
      " 'Month of balance relative to application date (-1 means the freshest balance date)']\n"
     ]
    }
   ],
   "source": [
    "print(df_home_credit.loc[df_home_credit[\"Row\"] == \"MONTHS_BALANCE\", \"Description\"].values)"
   ]
  },
  {
   "cell_type": "code",
   "execution_count": 107,
   "metadata": {},
   "outputs": [
    {
     "name": "stdout",
     "output_type": "stream",
     "text": [
      "['Status of Credit Bureau loan during the month (active, closed, DPD0-30,\\x85 [C means closed, X means status unknown, 0 means no DPD, 1 means maximal did during month between 1-30, 2 means DPD 31-60,\\x85 5 means DPD 120+ or sold or written off ] )']\n"
     ]
    }
   ],
   "source": [
    "print(df_home_credit.loc[df_home_credit[\"Row\"] == \"STATUS\", \"Description\"].values)"
   ]
  },
  {
   "cell_type": "markdown",
   "metadata": {},
   "source": [
    "## Crédit balance"
   ]
  },
  {
   "cell_type": "code",
   "execution_count": 108,
   "metadata": {},
   "outputs": [
    {
     "name": "stdout",
     "output_type": "stream",
     "text": [
      "['Balance during the month of previous credit']\n"
     ]
    }
   ],
   "source": [
    "print(df_home_credit.loc[df_home_credit[\"Row\"] == \"AMT_BALANCE\", \"Description\"].values)"
   ]
  },
  {
   "cell_type": "code",
   "execution_count": 109,
   "metadata": {},
   "outputs": [
    {
     "data": {
      "text/html": [
       "<div>\n",
       "<style scoped>\n",
       "    .dataframe tbody tr th:only-of-type {\n",
       "        vertical-align: middle;\n",
       "    }\n",
       "\n",
       "    .dataframe tbody tr th {\n",
       "        vertical-align: top;\n",
       "    }\n",
       "\n",
       "    .dataframe thead th {\n",
       "        text-align: right;\n",
       "    }\n",
       "</style>\n",
       "<table border=\"1\" class=\"dataframe\">\n",
       "  <thead>\n",
       "    <tr style=\"text-align: right;\">\n",
       "      <th></th>\n",
       "      <th>SK_ID_PREV</th>\n",
       "      <th>SK_ID_CURR</th>\n",
       "      <th>MONTHS_BALANCE</th>\n",
       "      <th>AMT_BALANCE</th>\n",
       "      <th>AMT_CREDIT_LIMIT_ACTUAL</th>\n",
       "      <th>AMT_DRAWINGS_ATM_CURRENT</th>\n",
       "      <th>AMT_DRAWINGS_CURRENT</th>\n",
       "      <th>AMT_DRAWINGS_OTHER_CURRENT</th>\n",
       "      <th>AMT_DRAWINGS_POS_CURRENT</th>\n",
       "      <th>AMT_INST_MIN_REGULARITY</th>\n",
       "      <th>AMT_PAYMENT_CURRENT</th>\n",
       "      <th>AMT_PAYMENT_TOTAL_CURRENT</th>\n",
       "      <th>AMT_RECEIVABLE_PRINCIPAL</th>\n",
       "      <th>AMT_RECIVABLE</th>\n",
       "      <th>AMT_TOTAL_RECEIVABLE</th>\n",
       "      <th>CNT_DRAWINGS_ATM_CURRENT</th>\n",
       "      <th>CNT_DRAWINGS_CURRENT</th>\n",
       "      <th>CNT_DRAWINGS_OTHER_CURRENT</th>\n",
       "      <th>CNT_DRAWINGS_POS_CURRENT</th>\n",
       "      <th>CNT_INSTALMENT_MATURE_CUM</th>\n",
       "      <th>NAME_CONTRACT_STATUS</th>\n",
       "      <th>SK_DPD</th>\n",
       "      <th>SK_DPD_DEF</th>\n",
       "    </tr>\n",
       "  </thead>\n",
       "  <tbody>\n",
       "    <tr>\n",
       "      <th>0</th>\n",
       "      <td>2562384</td>\n",
       "      <td>378907</td>\n",
       "      <td>-6</td>\n",
       "      <td>56.970</td>\n",
       "      <td>135000</td>\n",
       "      <td>0.0</td>\n",
       "      <td>877.5</td>\n",
       "      <td>0.0</td>\n",
       "      <td>877.5</td>\n",
       "      <td>1700.325</td>\n",
       "      <td>1800.0</td>\n",
       "      <td>1800.0</td>\n",
       "      <td>0.000</td>\n",
       "      <td>0.000</td>\n",
       "      <td>0.000</td>\n",
       "      <td>0.0</td>\n",
       "      <td>1</td>\n",
       "      <td>0.0</td>\n",
       "      <td>1.0</td>\n",
       "      <td>35.0</td>\n",
       "      <td>Active</td>\n",
       "      <td>0</td>\n",
       "      <td>0</td>\n",
       "    </tr>\n",
       "    <tr>\n",
       "      <th>1</th>\n",
       "      <td>2582071</td>\n",
       "      <td>363914</td>\n",
       "      <td>-1</td>\n",
       "      <td>63975.555</td>\n",
       "      <td>45000</td>\n",
       "      <td>2250.0</td>\n",
       "      <td>2250.0</td>\n",
       "      <td>0.0</td>\n",
       "      <td>0.0</td>\n",
       "      <td>2250.000</td>\n",
       "      <td>2250.0</td>\n",
       "      <td>2250.0</td>\n",
       "      <td>60175.080</td>\n",
       "      <td>64875.555</td>\n",
       "      <td>64875.555</td>\n",
       "      <td>1.0</td>\n",
       "      <td>1</td>\n",
       "      <td>0.0</td>\n",
       "      <td>0.0</td>\n",
       "      <td>69.0</td>\n",
       "      <td>Active</td>\n",
       "      <td>0</td>\n",
       "      <td>0</td>\n",
       "    </tr>\n",
       "    <tr>\n",
       "      <th>2</th>\n",
       "      <td>1740877</td>\n",
       "      <td>371185</td>\n",
       "      <td>-7</td>\n",
       "      <td>31815.225</td>\n",
       "      <td>450000</td>\n",
       "      <td>0.0</td>\n",
       "      <td>0.0</td>\n",
       "      <td>0.0</td>\n",
       "      <td>0.0</td>\n",
       "      <td>2250.000</td>\n",
       "      <td>2250.0</td>\n",
       "      <td>2250.0</td>\n",
       "      <td>26926.425</td>\n",
       "      <td>31460.085</td>\n",
       "      <td>31460.085</td>\n",
       "      <td>0.0</td>\n",
       "      <td>0</td>\n",
       "      <td>0.0</td>\n",
       "      <td>0.0</td>\n",
       "      <td>30.0</td>\n",
       "      <td>Active</td>\n",
       "      <td>0</td>\n",
       "      <td>0</td>\n",
       "    </tr>\n",
       "  </tbody>\n",
       "</table>\n",
       "</div>"
      ],
      "text/plain": [
       "   SK_ID_PREV  SK_ID_CURR  MONTHS_BALANCE  AMT_BALANCE  \\\n",
       "0     2562384      378907              -6       56.970   \n",
       "1     2582071      363914              -1    63975.555   \n",
       "2     1740877      371185              -7    31815.225   \n",
       "\n",
       "   AMT_CREDIT_LIMIT_ACTUAL  AMT_DRAWINGS_ATM_CURRENT  AMT_DRAWINGS_CURRENT  \\\n",
       "0                   135000                       0.0                 877.5   \n",
       "1                    45000                    2250.0                2250.0   \n",
       "2                   450000                       0.0                   0.0   \n",
       "\n",
       "   AMT_DRAWINGS_OTHER_CURRENT  AMT_DRAWINGS_POS_CURRENT  \\\n",
       "0                         0.0                     877.5   \n",
       "1                         0.0                       0.0   \n",
       "2                         0.0                       0.0   \n",
       "\n",
       "   AMT_INST_MIN_REGULARITY  AMT_PAYMENT_CURRENT  AMT_PAYMENT_TOTAL_CURRENT  \\\n",
       "0                 1700.325               1800.0                     1800.0   \n",
       "1                 2250.000               2250.0                     2250.0   \n",
       "2                 2250.000               2250.0                     2250.0   \n",
       "\n",
       "   AMT_RECEIVABLE_PRINCIPAL  AMT_RECIVABLE  AMT_TOTAL_RECEIVABLE  \\\n",
       "0                     0.000          0.000                 0.000   \n",
       "1                 60175.080      64875.555             64875.555   \n",
       "2                 26926.425      31460.085             31460.085   \n",
       "\n",
       "   CNT_DRAWINGS_ATM_CURRENT  CNT_DRAWINGS_CURRENT  CNT_DRAWINGS_OTHER_CURRENT  \\\n",
       "0                       0.0                     1                         0.0   \n",
       "1                       1.0                     1                         0.0   \n",
       "2                       0.0                     0                         0.0   \n",
       "\n",
       "   CNT_DRAWINGS_POS_CURRENT  CNT_INSTALMENT_MATURE_CUM NAME_CONTRACT_STATUS  \\\n",
       "0                       1.0                       35.0               Active   \n",
       "1                       0.0                       69.0               Active   \n",
       "2                       0.0                       30.0               Active   \n",
       "\n",
       "   SK_DPD  SK_DPD_DEF  \n",
       "0       0           0  \n",
       "1       0           0  \n",
       "2       0           0  "
      ]
     },
     "execution_count": 109,
     "metadata": {},
     "output_type": "execute_result"
    }
   ],
   "source": [
    "df_credit_balance.head(3)\n",
    "#Monthly balance snapshots of previous credit cards that the applicant has with Home Credit.\n",
    "#This table has one row for each month of history of every previous credit in Home Credit (consumer credit and cash loans) related to loans in our sample – i.e. the table has (#loans in sample * # of relative previous credit cards * # of months where we have some history observable for the previous credit card) rows."
   ]
  },
  {
   "cell_type": "code",
   "execution_count": 110,
   "metadata": {},
   "outputs": [
    {
     "data": {
      "text/plain": [
       "array([[<AxesSubplot:title={'center':'AMT_BALANCE'}>]], dtype=object)"
      ]
     },
     "execution_count": 110,
     "metadata": {},
     "output_type": "execute_result"
    },
    {
     "data": {
      "image/png": "[encoded data removed]",
      "text/plain": [
       "<Figure size 432x288 with 1 Axes>"
      ]
     },
     "metadata": {
      "needs_background": "light"
     },
     "output_type": "display_data"
    }
   ],
   "source": [
    "df_credit_balance.hist(\"AMT_BALANCE\", bins = 50)"
   ]
  },
  {
   "cell_type": "code",
   "execution_count": 111,
   "metadata": {},
   "outputs": [
    {
     "name": "stdout",
     "output_type": "stream",
     "text": [
      "Element 9 bellow Q1 - 1.5 * IQ (-133570.03)\n",
      "Element 248137 above Q3 + 1.5 * IQ (222616.72)\n"
     ]
    }
   ],
   "source": [
    "distance_IQ(df_credit_balance[\"AMT_BALANCE\"])"
   ]
  },
  {
   "cell_type": "code",
   "execution_count": 112,
   "metadata": {},
   "outputs": [
    {
     "name": "stdout",
     "output_type": "stream",
     "text": [
      "['Credit card limit during the month of the previous credit']\n"
     ]
    }
   ],
   "source": [
    "print(df_home_credit.loc[df_home_credit[\"Row\"] == \"AMT_CREDIT_LIMIT_ACTUAL\", \"Description\"].values)"
   ]
  },
  {
   "cell_type": "code",
   "execution_count": 113,
   "metadata": {},
   "outputs": [
    {
     "name": "stdout",
     "output_type": "stream",
     "text": [
      "['Amount drawing at ATM during the month of the previous credit']\n"
     ]
    }
   ],
   "source": [
    "print(df_home_credit.loc[df_home_credit[\"Row\"] == \"AMT_DRAWINGS_ATM_CURRENT\", \"Description\"].values)"
   ]
  },
  {
   "cell_type": "code",
   "execution_count": 114,
   "metadata": {},
   "outputs": [
    {
     "name": "stdout",
     "output_type": "stream",
     "text": [
      "['Contract status during the month'\n",
      " 'Contract status (active signed,...) on the previous credit'\n",
      " 'Contract status (approved, cancelled, ...) of previous application']\n"
     ]
    }
   ],
   "source": [
    "print(df_home_credit.loc[df_home_credit[\"Row\"] == \"NAME_CONTRACT_STATUS\", \"Description\"].values)"
   ]
  },
  {
   "cell_type": "code",
   "execution_count": 115,
   "metadata": {},
   "outputs": [
    {
     "data": {
      "text/plain": [
       "<AxesSubplot:>"
      ]
     },
     "execution_count": 115,
     "metadata": {},
     "output_type": "execute_result"
    },
    {
     "data": {
      "image/png": "[encoded data removed]",
      "text/plain": [
       "<Figure size 432x288 with 1 Axes>"
      ]
     },
     "metadata": {
      "needs_background": "light"
     },
     "output_type": "display_data"
    }
   ],
   "source": [
    "df_credit_balance[\"NAME_CONTRACT_STATUS\"].value_counts(normalize = True).plot.bar()"
   ]
  },
  {
   "cell_type": "code",
   "execution_count": 116,
   "metadata": {},
   "outputs": [
    {
     "name": "stdout",
     "output_type": "stream",
     "text": [
      "['How much did the client pay during the month in total on the previous credit']\n"
     ]
    }
   ],
   "source": [
    "print(df_home_credit.loc[df_home_credit[\"Row\"] == \"AMT_PAYMENT_TOTAL_CURRENT\", \"Description\"].values)"
   ]
  },
  {
   "cell_type": "code",
   "execution_count": 117,
   "metadata": {},
   "outputs": [
    {
     "name": "stdout",
     "output_type": "stream",
     "text": [
      "['Total amount receivable on the previous credit']\n"
     ]
    }
   ],
   "source": [
    "print(df_home_credit.loc[df_home_credit[\"Row\"] == \"AMT_TOTAL_RECEIVABLE\", \"Description\"].values)"
   ]
  },
  {
   "cell_type": "code",
   "execution_count": 118,
   "metadata": {},
   "outputs": [
    {
     "name": "stdout",
     "output_type": "stream",
     "text": [
      "['Month of balance relative to application date (-1 means the freshest balance date)'\n",
      " 'Month of balance relative to application date (-1 means the information to the freshest monthly snapshot, 0 means the information at application - often it will be the same as -1 as many banks are not updating the information to Credit Bureau regularly )'\n",
      " 'Month of balance relative to application date (-1 means the freshest balance date)']\n"
     ]
    }
   ],
   "source": [
    "print(df_home_credit.loc[df_home_credit[\"Row\"] == \"MONTHS_BALANCE\", \"Description\"].values)"
   ]
  },
  {
   "cell_type": "code",
   "execution_count": 119,
   "metadata": {},
   "outputs": [
    {
     "data": {
      "text/plain": [
       "array([[<AxesSubplot:title={'center':'MONTHS_BALANCE'}>]], dtype=object)"
      ]
     },
     "execution_count": 119,
     "metadata": {},
     "output_type": "execute_result"
    },
    {
     "data": {
      "image/png": "[encoded data removed]",
      "text/plain": [
       "<Figure size 432x288 with 1 Axes>"
      ]
     },
     "metadata": {
      "needs_background": "light"
     },
     "output_type": "display_data"
    }
   ],
   "source": [
    "df_credit_balance.hist(\"MONTHS_BALANCE\", bins = 50)"
   ]
  },
  {
   "cell_type": "markdown",
   "metadata": {},
   "source": [
    "Data are not update every month. Most are older than 1 year."
   ]
  },
  {
   "cell_type": "code",
   "execution_count": 120,
   "metadata": {},
   "outputs": [
    {
     "name": "stdout",
     "output_type": "stream",
     "text": [
      "['Balance during the month of previous credit']\n"
     ]
    }
   ],
   "source": [
    "print(df_home_credit.loc[df_home_credit[\"Row\"] == \"AMT_BALANCE\", \"Description\"].values)"
   ]
  },
  {
   "cell_type": "code",
   "execution_count": 121,
   "metadata": {},
   "outputs": [
    {
     "name": "stdout",
     "output_type": "stream",
     "text": [
      "['Credit card limit during the month of the previous credit']\n"
     ]
    }
   ],
   "source": [
    "print(df_home_credit.loc[df_home_credit[\"Row\"] == \"AMT_CREDIT_LIMIT_ACTUAL\", \"Description\"].values)"
   ]
  },
  {
   "cell_type": "code",
   "execution_count": 122,
   "metadata": {},
   "outputs": [
    {
     "name": "stdout",
     "output_type": "stream",
     "text": [
      "['Amount drawing during the month of the previous credit']\n"
     ]
    }
   ],
   "source": [
    "print(df_home_credit.loc[df_home_credit[\"Row\"] == \"AMT_DRAWINGS_CURRENT\", \"Description\"].values)"
   ]
  },
  {
   "cell_type": "code",
   "execution_count": 123,
   "metadata": {},
   "outputs": [
    {
     "name": "stdout",
     "output_type": "stream",
     "text": [
      "['Amount drawing at ATM during the month of the previous credit']\n"
     ]
    }
   ],
   "source": [
    "print(df_home_credit.loc[df_home_credit[\"Row\"] == \"AMT_DRAWINGS_ATM_CURRENT\", \"Description\"].values)"
   ]
  },
  {
   "cell_type": "code",
   "execution_count": 124,
   "metadata": {},
   "outputs": [
    {
     "data": {
      "text/plain": [
       "array([[<AxesSubplot:title={'center':'AMT_BALANCE'}>]], dtype=object)"
      ]
     },
     "execution_count": 124,
     "metadata": {},
     "output_type": "execute_result"
    },
    {
     "data": {
      "image/png": "[encoded data removed]",
      "text/plain": [
       "<Figure size 432x288 with 1 Axes>"
      ]
     },
     "metadata": {
      "needs_background": "light"
     },
     "output_type": "display_data"
    }
   ],
   "source": [
    "df_credit_balance[df_credit_balance[\"AMT_BALANCE\"] < 600000].hist(\"AMT_BALANCE\", bins = 50)\n",
    "#df_credit_balance.hist(\"AMT_BALANCE\", bins = 50)"
   ]
  },
  {
   "cell_type": "code",
   "execution_count": 125,
   "metadata": {},
   "outputs": [
    {
     "name": "stdout",
     "output_type": "stream",
     "text": [
      "['Number of paid installments on the previous credit']\n"
     ]
    }
   ],
   "source": [
    "print(df_home_credit.loc[df_home_credit[\"Row\"] == \"CNT_INSTALMENT_MATURE_CUM\", \"Description\"].values)"
   ]
  },
  {
   "cell_type": "code",
   "execution_count": 126,
   "metadata": {},
   "outputs": [
    {
     "data": {
      "text/plain": [
       "array([[<AxesSubplot:title={'center':'AMT_BALANCE'}>]], dtype=object)"
      ]
     },
     "execution_count": 126,
     "metadata": {},
     "output_type": "execute_result"
    },
    {
     "data": {
      "image/png": "[encoded data removed]",
      "text/plain": [
       "<Figure size 432x288 with 1 Axes>"
      ]
     },
     "metadata": {
      "needs_background": "light"
     },
     "output_type": "display_data"
    }
   ],
   "source": [
    "df_credit_balance.hist(\"AMT_BALANCE\", bins = 50)"
   ]
  },
  {
   "cell_type": "code",
   "execution_count": 127,
   "metadata": {},
   "outputs": [
    {
     "name": "stdout",
     "output_type": "stream",
     "text": [
      "['Credit card limit during the month of the previous credit']\n"
     ]
    }
   ],
   "source": [
    "print(df_home_credit.loc[df_home_credit[\"Row\"] == \"AMT_CREDIT_LIMIT_ACTUAL\", \"Description\"].values)"
   ]
  },
  {
   "cell_type": "code",
   "execution_count": 128,
   "metadata": {},
   "outputs": [
    {
     "name": "stdout",
     "output_type": "stream",
     "text": [
      "['Amount drawing at ATM during the month of the previous credit']\n"
     ]
    }
   ],
   "source": [
    "print(df_home_credit.loc[df_home_credit[\"Row\"] == \"AMT_DRAWINGS_ATM_CURRENT\", \"Description\"].values)"
   ]
  },
  {
   "cell_type": "code",
   "execution_count": 129,
   "metadata": {},
   "outputs": [
    {
     "name": "stdout",
     "output_type": "stream",
     "text": [
      "['Amount drawing during the month of the previous credit']\n"
     ]
    }
   ],
   "source": [
    "print(df_home_credit.loc[df_home_credit[\"Row\"] == \"AMT_DRAWINGS_CURRENT\", \"Description\"].values)"
   ]
  },
  {
   "cell_type": "code",
   "execution_count": 130,
   "metadata": {},
   "outputs": [
    {
     "name": "stdout",
     "output_type": "stream",
     "text": [
      "['Amount of other drawings during the month of the previous credit']\n"
     ]
    }
   ],
   "source": [
    "print(df_home_credit.loc[df_home_credit[\"Row\"] == \"AMT_DRAWINGS_OTHER_CURRENT\", \"Description\"].values)"
   ]
  },
  {
   "cell_type": "code",
   "execution_count": 131,
   "metadata": {},
   "outputs": [
    {
     "data": {
      "text/html": [
       "<div>\n",
       "<style scoped>\n",
       "    .dataframe tbody tr th:only-of-type {\n",
       "        vertical-align: middle;\n",
       "    }\n",
       "\n",
       "    .dataframe tbody tr th {\n",
       "        vertical-align: top;\n",
       "    }\n",
       "\n",
       "    .dataframe thead th {\n",
       "        text-align: right;\n",
       "    }\n",
       "</style>\n",
       "<table border=\"1\" class=\"dataframe\">\n",
       "  <thead>\n",
       "    <tr style=\"text-align: right;\">\n",
       "      <th></th>\n",
       "      <th>SK_ID_PREV</th>\n",
       "      <th>SK_ID_CURR</th>\n",
       "      <th>MONTHS_BALANCE</th>\n",
       "      <th>AMT_BALANCE</th>\n",
       "      <th>AMT_CREDIT_LIMIT_ACTUAL</th>\n",
       "      <th>AMT_DRAWINGS_ATM_CURRENT</th>\n",
       "      <th>AMT_DRAWINGS_CURRENT</th>\n",
       "      <th>AMT_DRAWINGS_OTHER_CURRENT</th>\n",
       "      <th>AMT_DRAWINGS_POS_CURRENT</th>\n",
       "      <th>AMT_INST_MIN_REGULARITY</th>\n",
       "      <th>AMT_PAYMENT_CURRENT</th>\n",
       "      <th>AMT_PAYMENT_TOTAL_CURRENT</th>\n",
       "      <th>AMT_RECEIVABLE_PRINCIPAL</th>\n",
       "      <th>AMT_RECIVABLE</th>\n",
       "      <th>AMT_TOTAL_RECEIVABLE</th>\n",
       "      <th>CNT_DRAWINGS_ATM_CURRENT</th>\n",
       "      <th>CNT_DRAWINGS_CURRENT</th>\n",
       "      <th>CNT_DRAWINGS_OTHER_CURRENT</th>\n",
       "      <th>CNT_DRAWINGS_POS_CURRENT</th>\n",
       "      <th>CNT_INSTALMENT_MATURE_CUM</th>\n",
       "      <th>SK_DPD</th>\n",
       "      <th>SK_DPD_DEF</th>\n",
       "    </tr>\n",
       "  </thead>\n",
       "  <tbody>\n",
       "    <tr>\n",
       "      <th>count</th>\n",
       "      <td>3.840312e+06</td>\n",
       "      <td>3.840312e+06</td>\n",
       "      <td>3.840312e+06</td>\n",
       "      <td>3.840312e+06</td>\n",
       "      <td>3.840312e+06</td>\n",
       "      <td>3.090496e+06</td>\n",
       "      <td>3.840312e+06</td>\n",
       "      <td>3.090496e+06</td>\n",
       "      <td>3.090496e+06</td>\n",
       "      <td>3.535076e+06</td>\n",
       "      <td>3.072324e+06</td>\n",
       "      <td>3.840312e+06</td>\n",
       "      <td>3.840312e+06</td>\n",
       "      <td>3.840312e+06</td>\n",
       "      <td>3.840312e+06</td>\n",
       "      <td>3.090496e+06</td>\n",
       "      <td>3.840312e+06</td>\n",
       "      <td>3.090496e+06</td>\n",
       "      <td>3.090496e+06</td>\n",
       "      <td>3.535076e+06</td>\n",
       "      <td>3.840312e+06</td>\n",
       "      <td>3.840312e+06</td>\n",
       "    </tr>\n",
       "    <tr>\n",
       "      <th>mean</th>\n",
       "      <td>1.904504e+06</td>\n",
       "      <td>2.783242e+05</td>\n",
       "      <td>-3.452192e+01</td>\n",
       "      <td>5.830016e+04</td>\n",
       "      <td>1.538080e+05</td>\n",
       "      <td>5.961325e+03</td>\n",
       "      <td>7.433388e+03</td>\n",
       "      <td>2.881696e+02</td>\n",
       "      <td>2.968805e+03</td>\n",
       "      <td>3.540204e+03</td>\n",
       "      <td>1.028054e+04</td>\n",
       "      <td>7.588857e+03</td>\n",
       "      <td>5.596588e+04</td>\n",
       "      <td>5.808881e+04</td>\n",
       "      <td>5.809829e+04</td>\n",
       "      <td>3.094490e-01</td>\n",
       "      <td>7.031439e-01</td>\n",
       "      <td>4.812496e-03</td>\n",
       "      <td>5.594791e-01</td>\n",
       "      <td>2.082508e+01</td>\n",
       "      <td>9.283667e+00</td>\n",
       "      <td>3.316220e-01</td>\n",
       "    </tr>\n",
       "    <tr>\n",
       "      <th>std</th>\n",
       "      <td>5.364695e+05</td>\n",
       "      <td>1.027045e+05</td>\n",
       "      <td>2.666775e+01</td>\n",
       "      <td>1.063070e+05</td>\n",
       "      <td>1.651457e+05</td>\n",
       "      <td>2.822569e+04</td>\n",
       "      <td>3.384608e+04</td>\n",
       "      <td>8.201989e+03</td>\n",
       "      <td>2.079689e+04</td>\n",
       "      <td>5.600154e+03</td>\n",
       "      <td>3.607808e+04</td>\n",
       "      <td>3.200599e+04</td>\n",
       "      <td>1.025336e+05</td>\n",
       "      <td>1.059654e+05</td>\n",
       "      <td>1.059718e+05</td>\n",
       "      <td>1.100401e+00</td>\n",
       "      <td>3.190347e+00</td>\n",
       "      <td>8.263861e-02</td>\n",
       "      <td>3.240649e+00</td>\n",
       "      <td>2.005149e+01</td>\n",
       "      <td>9.751570e+01</td>\n",
       "      <td>2.147923e+01</td>\n",
       "    </tr>\n",
       "    <tr>\n",
       "      <th>min</th>\n",
       "      <td>1.000018e+06</td>\n",
       "      <td>1.000060e+05</td>\n",
       "      <td>-9.600000e+01</td>\n",
       "      <td>-4.202502e+05</td>\n",
       "      <td>0.000000e+00</td>\n",
       "      <td>-6.827310e+03</td>\n",
       "      <td>-6.211620e+03</td>\n",
       "      <td>0.000000e+00</td>\n",
       "      <td>0.000000e+00</td>\n",
       "      <td>0.000000e+00</td>\n",
       "      <td>0.000000e+00</td>\n",
       "      <td>0.000000e+00</td>\n",
       "      <td>-4.233058e+05</td>\n",
       "      <td>-4.202502e+05</td>\n",
       "      <td>-4.202502e+05</td>\n",
       "      <td>0.000000e+00</td>\n",
       "      <td>0.000000e+00</td>\n",
       "      <td>0.000000e+00</td>\n",
       "      <td>0.000000e+00</td>\n",
       "      <td>0.000000e+00</td>\n",
       "      <td>0.000000e+00</td>\n",
       "      <td>0.000000e+00</td>\n",
       "    </tr>\n",
       "    <tr>\n",
       "      <th>25%</th>\n",
       "      <td>1.434385e+06</td>\n",
       "      <td>1.895170e+05</td>\n",
       "      <td>-5.500000e+01</td>\n",
       "      <td>0.000000e+00</td>\n",
       "      <td>4.500000e+04</td>\n",
       "      <td>0.000000e+00</td>\n",
       "      <td>0.000000e+00</td>\n",
       "      <td>0.000000e+00</td>\n",
       "      <td>0.000000e+00</td>\n",
       "      <td>0.000000e+00</td>\n",
       "      <td>1.523700e+02</td>\n",
       "      <td>0.000000e+00</td>\n",
       "      <td>0.000000e+00</td>\n",
       "      <td>0.000000e+00</td>\n",
       "      <td>0.000000e+00</td>\n",
       "      <td>0.000000e+00</td>\n",
       "      <td>0.000000e+00</td>\n",
       "      <td>0.000000e+00</td>\n",
       "      <td>0.000000e+00</td>\n",
       "      <td>4.000000e+00</td>\n",
       "      <td>0.000000e+00</td>\n",
       "      <td>0.000000e+00</td>\n",
       "    </tr>\n",
       "    <tr>\n",
       "      <th>50%</th>\n",
       "      <td>1.897122e+06</td>\n",
       "      <td>2.783960e+05</td>\n",
       "      <td>-2.800000e+01</td>\n",
       "      <td>0.000000e+00</td>\n",
       "      <td>1.125000e+05</td>\n",
       "      <td>0.000000e+00</td>\n",
       "      <td>0.000000e+00</td>\n",
       "      <td>0.000000e+00</td>\n",
       "      <td>0.000000e+00</td>\n",
       "      <td>0.000000e+00</td>\n",
       "      <td>2.702700e+03</td>\n",
       "      <td>0.000000e+00</td>\n",
       "      <td>0.000000e+00</td>\n",
       "      <td>0.000000e+00</td>\n",
       "      <td>0.000000e+00</td>\n",
       "      <td>0.000000e+00</td>\n",
       "      <td>0.000000e+00</td>\n",
       "      <td>0.000000e+00</td>\n",
       "      <td>0.000000e+00</td>\n",
       "      <td>1.500000e+01</td>\n",
       "      <td>0.000000e+00</td>\n",
       "      <td>0.000000e+00</td>\n",
       "    </tr>\n",
       "    <tr>\n",
       "      <th>75%</th>\n",
       "      <td>2.369328e+06</td>\n",
       "      <td>3.675800e+05</td>\n",
       "      <td>-1.100000e+01</td>\n",
       "      <td>8.904669e+04</td>\n",
       "      <td>1.800000e+05</td>\n",
       "      <td>0.000000e+00</td>\n",
       "      <td>0.000000e+00</td>\n",
       "      <td>0.000000e+00</td>\n",
       "      <td>0.000000e+00</td>\n",
       "      <td>6.633911e+03</td>\n",
       "      <td>9.000000e+03</td>\n",
       "      <td>6.750000e+03</td>\n",
       "      <td>8.535924e+04</td>\n",
       "      <td>8.889949e+04</td>\n",
       "      <td>8.891451e+04</td>\n",
       "      <td>0.000000e+00</td>\n",
       "      <td>0.000000e+00</td>\n",
       "      <td>0.000000e+00</td>\n",
       "      <td>0.000000e+00</td>\n",
       "      <td>3.200000e+01</td>\n",
       "      <td>0.000000e+00</td>\n",
       "      <td>0.000000e+00</td>\n",
       "    </tr>\n",
       "    <tr>\n",
       "      <th>max</th>\n",
       "      <td>2.843496e+06</td>\n",
       "      <td>4.562500e+05</td>\n",
       "      <td>-1.000000e+00</td>\n",
       "      <td>1.505902e+06</td>\n",
       "      <td>1.350000e+06</td>\n",
       "      <td>2.115000e+06</td>\n",
       "      <td>2.287098e+06</td>\n",
       "      <td>1.529847e+06</td>\n",
       "      <td>2.239274e+06</td>\n",
       "      <td>2.028820e+05</td>\n",
       "      <td>4.289207e+06</td>\n",
       "      <td>4.278316e+06</td>\n",
       "      <td>1.472317e+06</td>\n",
       "      <td>1.493338e+06</td>\n",
       "      <td>1.493338e+06</td>\n",
       "      <td>5.100000e+01</td>\n",
       "      <td>1.650000e+02</td>\n",
       "      <td>1.200000e+01</td>\n",
       "      <td>1.650000e+02</td>\n",
       "      <td>1.200000e+02</td>\n",
       "      <td>3.260000e+03</td>\n",
       "      <td>3.260000e+03</td>\n",
       "    </tr>\n",
       "  </tbody>\n",
       "</table>\n",
       "</div>"
      ],
      "text/plain": [
       "         SK_ID_PREV    SK_ID_CURR  MONTHS_BALANCE   AMT_BALANCE  \\\n",
       "count  3.840312e+06  3.840312e+06    3.840312e+06  3.840312e+06   \n",
       "mean   1.904504e+06  2.783242e+05   -3.452192e+01  5.830016e+04   \n",
       "std    5.364695e+05  1.027045e+05    2.666775e+01  1.063070e+05   \n",
       "min    1.000018e+06  1.000060e+05   -9.600000e+01 -4.202502e+05   \n",
       "25%    1.434385e+06  1.895170e+05   -5.500000e+01  0.000000e+00   \n",
       "50%    1.897122e+06  2.783960e+05   -2.800000e+01  0.000000e+00   \n",
       "75%    2.369328e+06  3.675800e+05   -1.100000e+01  8.904669e+04   \n",
       "max    2.843496e+06  4.562500e+05   -1.000000e+00  1.505902e+06   \n",
       "\n",
       "       AMT_CREDIT_LIMIT_ACTUAL  AMT_DRAWINGS_ATM_CURRENT  \\\n",
       "count             3.840312e+06              3.090496e+06   \n",
       "mean              1.538080e+05              5.961325e+03   \n",
       "std               1.651457e+05              2.822569e+04   \n",
       "min               0.000000e+00             -6.827310e+03   \n",
       "25%               4.500000e+04              0.000000e+00   \n",
       "50%               1.125000e+05              0.000000e+00   \n",
       "75%               1.800000e+05              0.000000e+00   \n",
       "max               1.350000e+06              2.115000e+06   \n",
       "\n",
       "       AMT_DRAWINGS_CURRENT  AMT_DRAWINGS_OTHER_CURRENT  \\\n",
       "count          3.840312e+06                3.090496e+06   \n",
       "mean           7.433388e+03                2.881696e+02   \n",
       "std            3.384608e+04                8.201989e+03   \n",
       "min           -6.211620e+03                0.000000e+00   \n",
       "25%            0.000000e+00                0.000000e+00   \n",
       "50%            0.000000e+00                0.000000e+00   \n",
       "75%            0.000000e+00                0.000000e+00   \n",
       "max            2.287098e+06                1.529847e+06   \n",
       "\n",
       "       AMT_DRAWINGS_POS_CURRENT  AMT_INST_MIN_REGULARITY  AMT_PAYMENT_CURRENT  \\\n",
       "count              3.090496e+06             3.535076e+06         3.072324e+06   \n",
       "mean               2.968805e+03             3.540204e+03         1.028054e+04   \n",
       "std                2.079689e+04             5.600154e+03         3.607808e+04   \n",
       "min                0.000000e+00             0.000000e+00         0.000000e+00   \n",
       "25%                0.000000e+00             0.000000e+00         1.523700e+02   \n",
       "50%                0.000000e+00             0.000000e+00         2.702700e+03   \n",
       "75%                0.000000e+00             6.633911e+03         9.000000e+03   \n",
       "max                2.239274e+06             2.028820e+05         4.289207e+06   \n",
       "\n",
       "       AMT_PAYMENT_TOTAL_CURRENT  AMT_RECEIVABLE_PRINCIPAL  AMT_RECIVABLE  \\\n",
       "count               3.840312e+06              3.840312e+06   3.840312e+06   \n",
       "mean                7.588857e+03              5.596588e+04   5.808881e+04   \n",
       "std                 3.200599e+04              1.025336e+05   1.059654e+05   \n",
       "min                 0.000000e+00             -4.233058e+05  -4.202502e+05   \n",
       "25%                 0.000000e+00              0.000000e+00   0.000000e+00   \n",
       "50%                 0.000000e+00              0.000000e+00   0.000000e+00   \n",
       "75%                 6.750000e+03              8.535924e+04   8.889949e+04   \n",
       "max                 4.278316e+06              1.472317e+06   1.493338e+06   \n",
       "\n",
       "       AMT_TOTAL_RECEIVABLE  CNT_DRAWINGS_ATM_CURRENT  CNT_DRAWINGS_CURRENT  \\\n",
       "count          3.840312e+06              3.090496e+06          3.840312e+06   \n",
       "mean           5.809829e+04              3.094490e-01          7.031439e-01   \n",
       "std            1.059718e+05              1.100401e+00          3.190347e+00   \n",
       "min           -4.202502e+05              0.000000e+00          0.000000e+00   \n",
       "25%            0.000000e+00              0.000000e+00          0.000000e+00   \n",
       "50%            0.000000e+00              0.000000e+00          0.000000e+00   \n",
       "75%            8.891451e+04              0.000000e+00          0.000000e+00   \n",
       "max            1.493338e+06              5.100000e+01          1.650000e+02   \n",
       "\n",
       "       CNT_DRAWINGS_OTHER_CURRENT  CNT_DRAWINGS_POS_CURRENT  \\\n",
       "count                3.090496e+06              3.090496e+06   \n",
       "mean                 4.812496e-03              5.594791e-01   \n",
       "std                  8.263861e-02              3.240649e+00   \n",
       "min                  0.000000e+00              0.000000e+00   \n",
       "25%                  0.000000e+00              0.000000e+00   \n",
       "50%                  0.000000e+00              0.000000e+00   \n",
       "75%                  0.000000e+00              0.000000e+00   \n",
       "max                  1.200000e+01              1.650000e+02   \n",
       "\n",
       "       CNT_INSTALMENT_MATURE_CUM        SK_DPD    SK_DPD_DEF  \n",
       "count               3.535076e+06  3.840312e+06  3.840312e+06  \n",
       "mean                2.082508e+01  9.283667e+00  3.316220e-01  \n",
       "std                 2.005149e+01  9.751570e+01  2.147923e+01  \n",
       "min                 0.000000e+00  0.000000e+00  0.000000e+00  \n",
       "25%                 4.000000e+00  0.000000e+00  0.000000e+00  \n",
       "50%                 1.500000e+01  0.000000e+00  0.000000e+00  \n",
       "75%                 3.200000e+01  0.000000e+00  0.000000e+00  \n",
       "max                 1.200000e+02  3.260000e+03  3.260000e+03  "
      ]
     },
     "execution_count": 131,
     "metadata": {},
     "output_type": "execute_result"
    }
   ],
   "source": [
    "df_credit_balance.describe()"
   ]
  },
  {
   "cell_type": "code",
   "execution_count": 132,
   "metadata": {
    "scrolled": true
   },
   "outputs": [
    {
     "name": "stdout",
     "output_type": "stream",
     "text": [
      "Element 9 bellow Q1 - 1.5 * IQ (-133570.03)\n",
      "Element 248137 above Q3 + 1.5 * IQ (222616.72)\n"
     ]
    },
    {
     "data": {
      "text/plain": [
       "array([[<AxesSubplot:title={'center':'AMT_BALANCE'}>]], dtype=object)"
      ]
     },
     "execution_count": 132,
     "metadata": {},
     "output_type": "execute_result"
    },
    {
     "data": {
      "image/png": "[encoded data removed]",
      "text/plain": [
       "<Figure size 432x288 with 1 Axes>"
      ]
     },
     "metadata": {
      "needs_background": "light"
     },
     "output_type": "display_data"
    }
   ],
   "source": [
    "df_credit_balance = clean_IQ(df_credit_balance, \"AMT_BALANCE\")\n",
    "df_credit_balance.hist(\"AMT_BALANCE\", bins = 50)"
   ]
  },
  {
   "cell_type": "code",
   "execution_count": 133,
   "metadata": {},
   "outputs": [
    {
     "name": "stdout",
     "output_type": "stream",
     "text": [
      "Element 0 bellow Q1 - 1.5 * IQ (-157500.00)\n",
      "Element 259147 above Q3 + 1.5 * IQ (382500.00)\n"
     ]
    },
    {
     "data": {
      "text/plain": [
       "array([[<AxesSubplot:title={'center':'AMT_CREDIT_LIMIT_ACTUAL'}>]],\n",
       "      dtype=object)"
      ]
     },
     "execution_count": 133,
     "metadata": {},
     "output_type": "execute_result"
    },
    {
     "data": {
      "image/png": "[encoded data removed]",
      "text/plain": [
       "<Figure size 432x288 with 1 Axes>"
      ]
     },
     "metadata": {
      "needs_background": "light"
     },
     "output_type": "display_data"
    }
   ],
   "source": [
    "df_credit_balance = clean_IQ(df_credit_balance, \"AMT_CREDIT_LIMIT_ACTUAL\")\n",
    "df_credit_balance.hist(\"AMT_CREDIT_LIMIT_ACTUAL\", bins = 50)"
   ]
  },
  {
   "cell_type": "code",
   "execution_count": 134,
   "metadata": {},
   "outputs": [],
   "source": [
    "tmp = df_credit_balance.groupby(['SK_ID_CURR','NAME_CONTRACT_STATUS']).mean().reset_index()[\n",
    "    [\"SK_ID_CURR\", \"NAME_CONTRACT_STATUS\", \"AMT_BALANCE\", \"AMT_CREDIT_LIMIT_ACTUAL\"]\n",
    "    ]\n",
    "tmp2 = pd.DataFrame({\"Ratio_Credit_limit\" : tmp[\"AMT_BALANCE\"]/tmp[\"AMT_CREDIT_LIMIT_ACTUAL\"]})\n",
    "good_balance = pd.concat([tmp[['SK_ID_CURR', \"AMT_BALANCE\", \"AMT_CREDIT_LIMIT_ACTUAL\"]], tmp2], axis=1)"
   ]
  },
  {
   "cell_type": "code",
   "execution_count": 135,
   "metadata": {},
   "outputs": [],
   "source": [
    "good_balance['Ratio_Credit_limit'] = good_balance['Ratio_Credit_limit'].fillna(0)"
   ]
  },
  {
   "cell_type": "code",
   "execution_count": 136,
   "metadata": {},
   "outputs": [],
   "source": [
    "good_balance.replace([np.inf, -np.inf], 0, inplace=True)\n",
    "good_balance = good_balance.groupby(\"SK_ID_CURR\").max().reset_index()"
   ]
  },
  {
   "cell_type": "code",
   "execution_count": 137,
   "metadata": {},
   "outputs": [
    {
     "data": {
      "text/plain": [
       "(216219, 51)"
      ]
     },
     "execution_count": 137,
     "metadata": {},
     "output_type": "execute_result"
    }
   ],
   "source": [
    "data_train.shape"
   ]
  },
  {
   "cell_type": "code",
   "execution_count": 138,
   "metadata": {},
   "outputs": [],
   "source": [
    "data_train = data_train.merge(good_balance, on =\"SK_ID_CURR\", how = \"left\")"
   ]
  },
  {
   "cell_type": "code",
   "execution_count": 139,
   "metadata": {},
   "outputs": [
    {
     "name": "stdout",
     "output_type": "stream",
     "text": [
      "['Balance during the month of previous credit']\n"
     ]
    }
   ],
   "source": [
    "print(df_home_credit.loc[df_home_credit[\"Row\"] == \"AMT_BALANCE\", \"Description\"].values)"
   ]
  },
  {
   "cell_type": "markdown",
   "metadata": {},
   "source": [
    "## Home crédit"
   ]
  },
  {
   "cell_type": "code",
   "execution_count": 140,
   "metadata": {},
   "outputs": [
    {
     "data": {
      "text/html": [
       "<div>\n",
       "<style scoped>\n",
       "    .dataframe tbody tr th:only-of-type {\n",
       "        vertical-align: middle;\n",
       "    }\n",
       "\n",
       "    .dataframe tbody tr th {\n",
       "        vertical-align: top;\n",
       "    }\n",
       "\n",
       "    .dataframe thead th {\n",
       "        text-align: right;\n",
       "    }\n",
       "</style>\n",
       "<table border=\"1\" class=\"dataframe\">\n",
       "  <thead>\n",
       "    <tr style=\"text-align: right;\">\n",
       "      <th></th>\n",
       "      <th>Unnamed: 0</th>\n",
       "      <th>Table</th>\n",
       "      <th>Row</th>\n",
       "      <th>Description</th>\n",
       "      <th>Special</th>\n",
       "    </tr>\n",
       "  </thead>\n",
       "  <tbody>\n",
       "    <tr>\n",
       "      <th>0</th>\n",
       "      <td>1</td>\n",
       "      <td>application_{train|test}.csv</td>\n",
       "      <td>SK_ID_CURR</td>\n",
       "      <td>ID of loan in our sample</td>\n",
       "      <td>NaN</td>\n",
       "    </tr>\n",
       "    <tr>\n",
       "      <th>1</th>\n",
       "      <td>2</td>\n",
       "      <td>application_{train|test}.csv</td>\n",
       "      <td>TARGET</td>\n",
       "      <td>Target variable (1 - client with payment diffi...</td>\n",
       "      <td>NaN</td>\n",
       "    </tr>\n",
       "    <tr>\n",
       "      <th>2</th>\n",
       "      <td>5</td>\n",
       "      <td>application_{train|test}.csv</td>\n",
       "      <td>NAME_CONTRACT_TYPE</td>\n",
       "      <td>Identification if loan is cash or revolving</td>\n",
       "      <td>NaN</td>\n",
       "    </tr>\n",
       "    <tr>\n",
       "      <th>3</th>\n",
       "      <td>6</td>\n",
       "      <td>application_{train|test}.csv</td>\n",
       "      <td>CODE_GENDER</td>\n",
       "      <td>Gender of the client</td>\n",
       "      <td>NaN</td>\n",
       "    </tr>\n",
       "    <tr>\n",
       "      <th>4</th>\n",
       "      <td>7</td>\n",
       "      <td>application_{train|test}.csv</td>\n",
       "      <td>FLAG_OWN_CAR</td>\n",
       "      <td>Flag if the client owns a car</td>\n",
       "      <td>NaN</td>\n",
       "    </tr>\n",
       "    <tr>\n",
       "      <th>5</th>\n",
       "      <td>8</td>\n",
       "      <td>application_{train|test}.csv</td>\n",
       "      <td>FLAG_OWN_REALTY</td>\n",
       "      <td>Flag if client owns a house or flat</td>\n",
       "      <td>NaN</td>\n",
       "    </tr>\n",
       "    <tr>\n",
       "      <th>6</th>\n",
       "      <td>9</td>\n",
       "      <td>application_{train|test}.csv</td>\n",
       "      <td>CNT_CHILDREN</td>\n",
       "      <td>Number of children the client has</td>\n",
       "      <td>NaN</td>\n",
       "    </tr>\n",
       "    <tr>\n",
       "      <th>7</th>\n",
       "      <td>10</td>\n",
       "      <td>application_{train|test}.csv</td>\n",
       "      <td>AMT_INCOME_TOTAL</td>\n",
       "      <td>Income of the client</td>\n",
       "      <td>NaN</td>\n",
       "    </tr>\n",
       "    <tr>\n",
       "      <th>8</th>\n",
       "      <td>11</td>\n",
       "      <td>application_{train|test}.csv</td>\n",
       "      <td>AMT_CREDIT</td>\n",
       "      <td>Credit amount of the loan</td>\n",
       "      <td>NaN</td>\n",
       "    </tr>\n",
       "    <tr>\n",
       "      <th>9</th>\n",
       "      <td>12</td>\n",
       "      <td>application_{train|test}.csv</td>\n",
       "      <td>AMT_ANNUITY</td>\n",
       "      <td>Loan annuity</td>\n",
       "      <td>NaN</td>\n",
       "    </tr>\n",
       "  </tbody>\n",
       "</table>\n",
       "</div>"
      ],
      "text/plain": [
       "   Unnamed: 0                         Table                 Row  \\\n",
       "0           1  application_{train|test}.csv          SK_ID_CURR   \n",
       "1           2  application_{train|test}.csv              TARGET   \n",
       "2           5  application_{train|test}.csv  NAME_CONTRACT_TYPE   \n",
       "3           6  application_{train|test}.csv         CODE_GENDER   \n",
       "4           7  application_{train|test}.csv        FLAG_OWN_CAR   \n",
       "5           8  application_{train|test}.csv     FLAG_OWN_REALTY   \n",
       "6           9  application_{train|test}.csv        CNT_CHILDREN   \n",
       "7          10  application_{train|test}.csv    AMT_INCOME_TOTAL   \n",
       "8          11  application_{train|test}.csv          AMT_CREDIT   \n",
       "9          12  application_{train|test}.csv         AMT_ANNUITY   \n",
       "\n",
       "                                         Description Special  \n",
       "0                           ID of loan in our sample     NaN  \n",
       "1  Target variable (1 - client with payment diffi...     NaN  \n",
       "2        Identification if loan is cash or revolving     NaN  \n",
       "3                               Gender of the client     NaN  \n",
       "4                      Flag if the client owns a car     NaN  \n",
       "5                Flag if client owns a house or flat     NaN  \n",
       "6                  Number of children the client has     NaN  \n",
       "7                               Income of the client     NaN  \n",
       "8                          Credit amount of the loan     NaN  \n",
       "9                                       Loan annuity     NaN  "
      ]
     },
     "execution_count": 140,
     "metadata": {},
     "output_type": "execute_result"
    }
   ],
   "source": [
    "df_home_credit.head(10)\n",
    "#explain label"
   ]
  },
  {
   "cell_type": "markdown",
   "metadata": {},
   "source": [
    "## Installments payments"
   ]
  },
  {
   "cell_type": "code",
   "execution_count": 141,
   "metadata": {},
   "outputs": [
    {
     "data": {
      "text/html": [
       "<div>\n",
       "<style scoped>\n",
       "    .dataframe tbody tr th:only-of-type {\n",
       "        vertical-align: middle;\n",
       "    }\n",
       "\n",
       "    .dataframe tbody tr th {\n",
       "        vertical-align: top;\n",
       "    }\n",
       "\n",
       "    .dataframe thead th {\n",
       "        text-align: right;\n",
       "    }\n",
       "</style>\n",
       "<table border=\"1\" class=\"dataframe\">\n",
       "  <thead>\n",
       "    <tr style=\"text-align: right;\">\n",
       "      <th></th>\n",
       "      <th>SK_ID_PREV</th>\n",
       "      <th>SK_ID_CURR</th>\n",
       "      <th>NUM_INSTALMENT_VERSION</th>\n",
       "      <th>NUM_INSTALMENT_NUMBER</th>\n",
       "      <th>DAYS_INSTALMENT</th>\n",
       "      <th>DAYS_ENTRY_PAYMENT</th>\n",
       "      <th>AMT_INSTALMENT</th>\n",
       "      <th>AMT_PAYMENT</th>\n",
       "    </tr>\n",
       "  </thead>\n",
       "  <tbody>\n",
       "    <tr>\n",
       "      <th>0</th>\n",
       "      <td>1054186</td>\n",
       "      <td>161674</td>\n",
       "      <td>1.0</td>\n",
       "      <td>6</td>\n",
       "      <td>-1180.0</td>\n",
       "      <td>-1187.0</td>\n",
       "      <td>6948.360</td>\n",
       "      <td>6948.360</td>\n",
       "    </tr>\n",
       "    <tr>\n",
       "      <th>1</th>\n",
       "      <td>1330831</td>\n",
       "      <td>151639</td>\n",
       "      <td>0.0</td>\n",
       "      <td>34</td>\n",
       "      <td>-2156.0</td>\n",
       "      <td>-2156.0</td>\n",
       "      <td>1716.525</td>\n",
       "      <td>1716.525</td>\n",
       "    </tr>\n",
       "    <tr>\n",
       "      <th>2</th>\n",
       "      <td>2085231</td>\n",
       "      <td>193053</td>\n",
       "      <td>2.0</td>\n",
       "      <td>1</td>\n",
       "      <td>-63.0</td>\n",
       "      <td>-63.0</td>\n",
       "      <td>25425.000</td>\n",
       "      <td>25425.000</td>\n",
       "    </tr>\n",
       "  </tbody>\n",
       "</table>\n",
       "</div>"
      ],
      "text/plain": [
       "   SK_ID_PREV  SK_ID_CURR  NUM_INSTALMENT_VERSION  NUM_INSTALMENT_NUMBER  \\\n",
       "0     1054186      161674                     1.0                      6   \n",
       "1     1330831      151639                     0.0                     34   \n",
       "2     2085231      193053                     2.0                      1   \n",
       "\n",
       "   DAYS_INSTALMENT  DAYS_ENTRY_PAYMENT  AMT_INSTALMENT  AMT_PAYMENT  \n",
       "0          -1180.0             -1187.0        6948.360     6948.360  \n",
       "1          -2156.0             -2156.0        1716.525     1716.525  \n",
       "2            -63.0               -63.0       25425.000    25425.000  "
      ]
     },
     "execution_count": 141,
     "metadata": {},
     "output_type": "execute_result"
    }
   ],
   "source": [
    "df_installments_payments.head(3)\n",
    "#Repayment history for the previously disbursed credits in Home Credit related to the loans in our sample.\n",
    "#There is a) one row for every payment that was made plus b) one row each for missed payment.\n",
    "#One row is equivalent to one payment of one installment OR one installment corresponding to one payment \n",
    "#of one previous Home Credit credit related to loans in our sample."
   ]
  },
  {
   "cell_type": "code",
   "execution_count": 142,
   "metadata": {},
   "outputs": [
    {
     "data": {
      "text/plain": [
       "(13605401, 8)"
      ]
     },
     "execution_count": 142,
     "metadata": {},
     "output_type": "execute_result"
    }
   ],
   "source": [
    "df_installments_payments.shape"
   ]
  },
  {
   "cell_type": "markdown",
   "metadata": {},
   "source": [
    "## POS CASH balance"
   ]
  },
  {
   "cell_type": "code",
   "execution_count": 143,
   "metadata": {},
   "outputs": [
    {
     "data": {
      "text/html": [
       "<div>\n",
       "<style scoped>\n",
       "    .dataframe tbody tr th:only-of-type {\n",
       "        vertical-align: middle;\n",
       "    }\n",
       "\n",
       "    .dataframe tbody tr th {\n",
       "        vertical-align: top;\n",
       "    }\n",
       "\n",
       "    .dataframe thead th {\n",
       "        text-align: right;\n",
       "    }\n",
       "</style>\n",
       "<table border=\"1\" class=\"dataframe\">\n",
       "  <thead>\n",
       "    <tr style=\"text-align: right;\">\n",
       "      <th></th>\n",
       "      <th>SK_ID_PREV</th>\n",
       "      <th>SK_ID_CURR</th>\n",
       "      <th>MONTHS_BALANCE</th>\n",
       "      <th>CNT_INSTALMENT</th>\n",
       "      <th>CNT_INSTALMENT_FUTURE</th>\n",
       "      <th>NAME_CONTRACT_STATUS</th>\n",
       "      <th>SK_DPD</th>\n",
       "      <th>SK_DPD_DEF</th>\n",
       "    </tr>\n",
       "  </thead>\n",
       "  <tbody>\n",
       "    <tr>\n",
       "      <th>0</th>\n",
       "      <td>1803195</td>\n",
       "      <td>182943</td>\n",
       "      <td>-31</td>\n",
       "      <td>48.0</td>\n",
       "      <td>45.0</td>\n",
       "      <td>Active</td>\n",
       "      <td>0</td>\n",
       "      <td>0</td>\n",
       "    </tr>\n",
       "    <tr>\n",
       "      <th>1</th>\n",
       "      <td>1715348</td>\n",
       "      <td>367990</td>\n",
       "      <td>-33</td>\n",
       "      <td>36.0</td>\n",
       "      <td>35.0</td>\n",
       "      <td>Active</td>\n",
       "      <td>0</td>\n",
       "      <td>0</td>\n",
       "    </tr>\n",
       "    <tr>\n",
       "      <th>2</th>\n",
       "      <td>1784872</td>\n",
       "      <td>397406</td>\n",
       "      <td>-32</td>\n",
       "      <td>12.0</td>\n",
       "      <td>9.0</td>\n",
       "      <td>Active</td>\n",
       "      <td>0</td>\n",
       "      <td>0</td>\n",
       "    </tr>\n",
       "  </tbody>\n",
       "</table>\n",
       "</div>"
      ],
      "text/plain": [
       "   SK_ID_PREV  SK_ID_CURR  MONTHS_BALANCE  CNT_INSTALMENT  \\\n",
       "0     1803195      182943             -31            48.0   \n",
       "1     1715348      367990             -33            36.0   \n",
       "2     1784872      397406             -32            12.0   \n",
       "\n",
       "   CNT_INSTALMENT_FUTURE NAME_CONTRACT_STATUS  SK_DPD  SK_DPD_DEF  \n",
       "0                   45.0               Active       0           0  \n",
       "1                   35.0               Active       0           0  \n",
       "2                    9.0               Active       0           0  "
      ]
     },
     "execution_count": 143,
     "metadata": {},
     "output_type": "execute_result"
    }
   ],
   "source": [
    "df_POS_CASH_balance.head(3)\n",
    "#Monthly balance snapshots of previous POS (point of sales) and cash loans that the applicant had with Home Credit.\n",
    "#This table has one row for each month of history of every previous credit in Home Credit (consumer credit and cash loans)\n",
    "#related to loans in our sample – i.e. the table has \n",
    "#(#loans in sample * # of relative previous credits * # of months in which we have some history observable for the previous credits) rows."
   ]
  },
  {
   "cell_type": "code",
   "execution_count": 144,
   "metadata": {},
   "outputs": [
    {
     "data": {
      "text/plain": [
       "(10001358, 8)"
      ]
     },
     "execution_count": 144,
     "metadata": {},
     "output_type": "execute_result"
    }
   ],
   "source": [
    "df_POS_CASH_balance.shape"
   ]
  },
  {
   "cell_type": "code",
   "execution_count": 145,
   "metadata": {},
   "outputs": [
    {
     "data": {
      "text/html": [
       "<div>\n",
       "<style scoped>\n",
       "    .dataframe tbody tr th:only-of-type {\n",
       "        vertical-align: middle;\n",
       "    }\n",
       "\n",
       "    .dataframe tbody tr th {\n",
       "        vertical-align: top;\n",
       "    }\n",
       "\n",
       "    .dataframe thead th {\n",
       "        text-align: right;\n",
       "    }\n",
       "</style>\n",
       "<table border=\"1\" class=\"dataframe\">\n",
       "  <thead>\n",
       "    <tr style=\"text-align: right;\">\n",
       "      <th></th>\n",
       "      <th>Unnamed: 0</th>\n",
       "      <th>Table</th>\n",
       "      <th>Row</th>\n",
       "      <th>Description</th>\n",
       "      <th>Special</th>\n",
       "    </tr>\n",
       "  </thead>\n",
       "  <tbody>\n",
       "    <tr>\n",
       "      <th>142</th>\n",
       "      <td>145</td>\n",
       "      <td>POS_CASH_balance.csv</td>\n",
       "      <td>SK_ID_PREV</td>\n",
       "      <td>ID of previous credit in Home Credit related t...</td>\n",
       "      <td>NaN</td>\n",
       "    </tr>\n",
       "    <tr>\n",
       "      <th>143</th>\n",
       "      <td>146</td>\n",
       "      <td>POS_CASH_balance.csv</td>\n",
       "      <td>SK_ID_CURR</td>\n",
       "      <td>ID of loan in our sample</td>\n",
       "      <td>NaN</td>\n",
       "    </tr>\n",
       "    <tr>\n",
       "      <th>144</th>\n",
       "      <td>147</td>\n",
       "      <td>POS_CASH_balance.csv</td>\n",
       "      <td>MONTHS_BALANCE</td>\n",
       "      <td>Month of balance relative to application date ...</td>\n",
       "      <td>time only relative to the application</td>\n",
       "    </tr>\n",
       "    <tr>\n",
       "      <th>145</th>\n",
       "      <td>148</td>\n",
       "      <td>POS_CASH_balance.csv</td>\n",
       "      <td>CNT_INSTALMENT</td>\n",
       "      <td>Term of previous credit (can change over time)</td>\n",
       "      <td>NaN</td>\n",
       "    </tr>\n",
       "    <tr>\n",
       "      <th>146</th>\n",
       "      <td>149</td>\n",
       "      <td>POS_CASH_balance.csv</td>\n",
       "      <td>CNT_INSTALMENT_FUTURE</td>\n",
       "      <td>Installments left to pay on the previous credit</td>\n",
       "      <td>NaN</td>\n",
       "    </tr>\n",
       "    <tr>\n",
       "      <th>147</th>\n",
       "      <td>150</td>\n",
       "      <td>POS_CASH_balance.csv</td>\n",
       "      <td>NAME_CONTRACT_STATUS</td>\n",
       "      <td>Contract status during the month</td>\n",
       "      <td>NaN</td>\n",
       "    </tr>\n",
       "    <tr>\n",
       "      <th>148</th>\n",
       "      <td>151</td>\n",
       "      <td>POS_CASH_balance.csv</td>\n",
       "      <td>SK_DPD</td>\n",
       "      <td>DPD (days past due) during the month of previo...</td>\n",
       "      <td>NaN</td>\n",
       "    </tr>\n",
       "    <tr>\n",
       "      <th>149</th>\n",
       "      <td>152</td>\n",
       "      <td>POS_CASH_balance.csv</td>\n",
       "      <td>SK_DPD_DEF</td>\n",
       "      <td>DPD during the month with tolerance (debts wit...</td>\n",
       "      <td>NaN</td>\n",
       "    </tr>\n",
       "  </tbody>\n",
       "</table>\n",
       "</div>"
      ],
      "text/plain": [
       "     Unnamed: 0                 Table                    Row  \\\n",
       "142         145  POS_CASH_balance.csv            SK_ID_PREV    \n",
       "143         146  POS_CASH_balance.csv             SK_ID_CURR   \n",
       "144         147  POS_CASH_balance.csv         MONTHS_BALANCE   \n",
       "145         148  POS_CASH_balance.csv         CNT_INSTALMENT   \n",
       "146         149  POS_CASH_balance.csv  CNT_INSTALMENT_FUTURE   \n",
       "147         150  POS_CASH_balance.csv   NAME_CONTRACT_STATUS   \n",
       "148         151  POS_CASH_balance.csv                 SK_DPD   \n",
       "149         152  POS_CASH_balance.csv             SK_DPD_DEF   \n",
       "\n",
       "                                           Description  \\\n",
       "142  ID of previous credit in Home Credit related t...   \n",
       "143                           ID of loan in our sample   \n",
       "144  Month of balance relative to application date ...   \n",
       "145     Term of previous credit (can change over time)   \n",
       "146    Installments left to pay on the previous credit   \n",
       "147                   Contract status during the month   \n",
       "148  DPD (days past due) during the month of previo...   \n",
       "149  DPD during the month with tolerance (debts wit...   \n",
       "\n",
       "                                   Special  \n",
       "142                                    NaN  \n",
       "143                                    NaN  \n",
       "144  time only relative to the application  \n",
       "145                                    NaN  \n",
       "146                                    NaN  \n",
       "147                                    NaN  \n",
       "148                                    NaN  \n",
       "149                                    NaN  "
      ]
     },
     "execution_count": 145,
     "metadata": {},
     "output_type": "execute_result"
    }
   ],
   "source": [
    "df_home_credit[142:150]"
   ]
  },
  {
   "cell_type": "markdown",
   "metadata": {},
   "source": [
    "## previous_application"
   ]
  },
  {
   "cell_type": "code",
   "execution_count": 146,
   "metadata": {},
   "outputs": [
    {
     "data": {
      "text/html": [
       "<div>\n",
       "<style scoped>\n",
       "    .dataframe tbody tr th:only-of-type {\n",
       "        vertical-align: middle;\n",
       "    }\n",
       "\n",
       "    .dataframe tbody tr th {\n",
       "        vertical-align: top;\n",
       "    }\n",
       "\n",
       "    .dataframe thead th {\n",
       "        text-align: right;\n",
       "    }\n",
       "</style>\n",
       "<table border=\"1\" class=\"dataframe\">\n",
       "  <thead>\n",
       "    <tr style=\"text-align: right;\">\n",
       "      <th></th>\n",
       "      <th>SK_ID_PREV</th>\n",
       "      <th>SK_ID_CURR</th>\n",
       "      <th>NAME_CONTRACT_TYPE</th>\n",
       "      <th>AMT_ANNUITY</th>\n",
       "      <th>AMT_APPLICATION</th>\n",
       "      <th>AMT_CREDIT</th>\n",
       "      <th>AMT_DOWN_PAYMENT</th>\n",
       "      <th>AMT_GOODS_PRICE</th>\n",
       "      <th>WEEKDAY_APPR_PROCESS_START</th>\n",
       "      <th>HOUR_APPR_PROCESS_START</th>\n",
       "      <th>FLAG_LAST_APPL_PER_CONTRACT</th>\n",
       "      <th>NFLAG_LAST_APPL_IN_DAY</th>\n",
       "      <th>RATE_DOWN_PAYMENT</th>\n",
       "      <th>RATE_INTEREST_PRIMARY</th>\n",
       "      <th>RATE_INTEREST_PRIVILEGED</th>\n",
       "      <th>NAME_CASH_LOAN_PURPOSE</th>\n",
       "      <th>NAME_CONTRACT_STATUS</th>\n",
       "      <th>DAYS_DECISION</th>\n",
       "      <th>NAME_PAYMENT_TYPE</th>\n",
       "      <th>CODE_REJECT_REASON</th>\n",
       "      <th>NAME_TYPE_SUITE</th>\n",
       "      <th>NAME_CLIENT_TYPE</th>\n",
       "      <th>NAME_GOODS_CATEGORY</th>\n",
       "      <th>NAME_PORTFOLIO</th>\n",
       "      <th>NAME_PRODUCT_TYPE</th>\n",
       "      <th>CHANNEL_TYPE</th>\n",
       "      <th>SELLERPLACE_AREA</th>\n",
       "      <th>NAME_SELLER_INDUSTRY</th>\n",
       "      <th>CNT_PAYMENT</th>\n",
       "      <th>NAME_YIELD_GROUP</th>\n",
       "      <th>PRODUCT_COMBINATION</th>\n",
       "      <th>DAYS_FIRST_DRAWING</th>\n",
       "      <th>DAYS_FIRST_DUE</th>\n",
       "      <th>DAYS_LAST_DUE_1ST_VERSION</th>\n",
       "      <th>DAYS_LAST_DUE</th>\n",
       "      <th>DAYS_TERMINATION</th>\n",
       "      <th>NFLAG_INSURED_ON_APPROVAL</th>\n",
       "    </tr>\n",
       "  </thead>\n",
       "  <tbody>\n",
       "    <tr>\n",
       "      <th>0</th>\n",
       "      <td>2030495</td>\n",
       "      <td>271877</td>\n",
       "      <td>Consumer loans</td>\n",
       "      <td>1730.430</td>\n",
       "      <td>17145.0</td>\n",
       "      <td>17145.0</td>\n",
       "      <td>0.0</td>\n",
       "      <td>17145.0</td>\n",
       "      <td>SATURDAY</td>\n",
       "      <td>15</td>\n",
       "      <td>Y</td>\n",
       "      <td>1</td>\n",
       "      <td>0.0</td>\n",
       "      <td>0.182832</td>\n",
       "      <td>0.867336</td>\n",
       "      <td>XAP</td>\n",
       "      <td>Approved</td>\n",
       "      <td>-73</td>\n",
       "      <td>Cash through the bank</td>\n",
       "      <td>XAP</td>\n",
       "      <td>NaN</td>\n",
       "      <td>Repeater</td>\n",
       "      <td>Mobile</td>\n",
       "      <td>POS</td>\n",
       "      <td>XNA</td>\n",
       "      <td>Country-wide</td>\n",
       "      <td>35</td>\n",
       "      <td>Connectivity</td>\n",
       "      <td>12.0</td>\n",
       "      <td>middle</td>\n",
       "      <td>POS mobile with interest</td>\n",
       "      <td>365243.0</td>\n",
       "      <td>-42.0</td>\n",
       "      <td>300.0</td>\n",
       "      <td>-42.0</td>\n",
       "      <td>-37.0</td>\n",
       "      <td>0.0</td>\n",
       "    </tr>\n",
       "    <tr>\n",
       "      <th>1</th>\n",
       "      <td>2802425</td>\n",
       "      <td>108129</td>\n",
       "      <td>Cash loans</td>\n",
       "      <td>25188.615</td>\n",
       "      <td>607500.0</td>\n",
       "      <td>679671.0</td>\n",
       "      <td>NaN</td>\n",
       "      <td>607500.0</td>\n",
       "      <td>THURSDAY</td>\n",
       "      <td>11</td>\n",
       "      <td>Y</td>\n",
       "      <td>1</td>\n",
       "      <td>NaN</td>\n",
       "      <td>NaN</td>\n",
       "      <td>NaN</td>\n",
       "      <td>XNA</td>\n",
       "      <td>Approved</td>\n",
       "      <td>-164</td>\n",
       "      <td>XNA</td>\n",
       "      <td>XAP</td>\n",
       "      <td>Unaccompanied</td>\n",
       "      <td>Repeater</td>\n",
       "      <td>XNA</td>\n",
       "      <td>Cash</td>\n",
       "      <td>x-sell</td>\n",
       "      <td>Contact center</td>\n",
       "      <td>-1</td>\n",
       "      <td>XNA</td>\n",
       "      <td>36.0</td>\n",
       "      <td>low_action</td>\n",
       "      <td>Cash X-Sell: low</td>\n",
       "      <td>365243.0</td>\n",
       "      <td>-134.0</td>\n",
       "      <td>916.0</td>\n",
       "      <td>365243.0</td>\n",
       "      <td>365243.0</td>\n",
       "      <td>1.0</td>\n",
       "    </tr>\n",
       "    <tr>\n",
       "      <th>2</th>\n",
       "      <td>2523466</td>\n",
       "      <td>122040</td>\n",
       "      <td>Cash loans</td>\n",
       "      <td>15060.735</td>\n",
       "      <td>112500.0</td>\n",
       "      <td>136444.5</td>\n",
       "      <td>NaN</td>\n",
       "      <td>112500.0</td>\n",
       "      <td>TUESDAY</td>\n",
       "      <td>11</td>\n",
       "      <td>Y</td>\n",
       "      <td>1</td>\n",
       "      <td>NaN</td>\n",
       "      <td>NaN</td>\n",
       "      <td>NaN</td>\n",
       "      <td>XNA</td>\n",
       "      <td>Approved</td>\n",
       "      <td>-301</td>\n",
       "      <td>Cash through the bank</td>\n",
       "      <td>XAP</td>\n",
       "      <td>Spouse, partner</td>\n",
       "      <td>Repeater</td>\n",
       "      <td>XNA</td>\n",
       "      <td>Cash</td>\n",
       "      <td>x-sell</td>\n",
       "      <td>Credit and cash offices</td>\n",
       "      <td>-1</td>\n",
       "      <td>XNA</td>\n",
       "      <td>12.0</td>\n",
       "      <td>high</td>\n",
       "      <td>Cash X-Sell: high</td>\n",
       "      <td>365243.0</td>\n",
       "      <td>-271.0</td>\n",
       "      <td>59.0</td>\n",
       "      <td>365243.0</td>\n",
       "      <td>365243.0</td>\n",
       "      <td>1.0</td>\n",
       "    </tr>\n",
       "  </tbody>\n",
       "</table>\n",
       "</div>"
      ],
      "text/plain": [
       "   SK_ID_PREV  SK_ID_CURR NAME_CONTRACT_TYPE  AMT_ANNUITY  AMT_APPLICATION  \\\n",
       "0     2030495      271877     Consumer loans     1730.430          17145.0   \n",
       "1     2802425      108129         Cash loans    25188.615         607500.0   \n",
       "2     2523466      122040         Cash loans    15060.735         112500.0   \n",
       "\n",
       "   AMT_CREDIT  AMT_DOWN_PAYMENT  AMT_GOODS_PRICE WEEKDAY_APPR_PROCESS_START  \\\n",
       "0     17145.0               0.0          17145.0                   SATURDAY   \n",
       "1    679671.0               NaN         607500.0                   THURSDAY   \n",
       "2    136444.5               NaN         112500.0                    TUESDAY   \n",
       "\n",
       "   HOUR_APPR_PROCESS_START FLAG_LAST_APPL_PER_CONTRACT  \\\n",
       "0                       15                           Y   \n",
       "1                       11                           Y   \n",
       "2                       11                           Y   \n",
       "\n",
       "   NFLAG_LAST_APPL_IN_DAY  RATE_DOWN_PAYMENT  RATE_INTEREST_PRIMARY  \\\n",
       "0                       1                0.0               0.182832   \n",
       "1                       1                NaN                    NaN   \n",
       "2                       1                NaN                    NaN   \n",
       "\n",
       "   RATE_INTEREST_PRIVILEGED NAME_CASH_LOAN_PURPOSE NAME_CONTRACT_STATUS  \\\n",
       "0                  0.867336                    XAP             Approved   \n",
       "1                       NaN                    XNA             Approved   \n",
       "2                       NaN                    XNA             Approved   \n",
       "\n",
       "   DAYS_DECISION      NAME_PAYMENT_TYPE CODE_REJECT_REASON  NAME_TYPE_SUITE  \\\n",
       "0            -73  Cash through the bank                XAP              NaN   \n",
       "1           -164                    XNA                XAP    Unaccompanied   \n",
       "2           -301  Cash through the bank                XAP  Spouse, partner   \n",
       "\n",
       "  NAME_CLIENT_TYPE NAME_GOODS_CATEGORY NAME_PORTFOLIO NAME_PRODUCT_TYPE  \\\n",
       "0         Repeater              Mobile            POS               XNA   \n",
       "1         Repeater                 XNA           Cash            x-sell   \n",
       "2         Repeater                 XNA           Cash            x-sell   \n",
       "\n",
       "              CHANNEL_TYPE  SELLERPLACE_AREA NAME_SELLER_INDUSTRY  \\\n",
       "0             Country-wide                35         Connectivity   \n",
       "1           Contact center                -1                  XNA   \n",
       "2  Credit and cash offices                -1                  XNA   \n",
       "\n",
       "   CNT_PAYMENT NAME_YIELD_GROUP       PRODUCT_COMBINATION  DAYS_FIRST_DRAWING  \\\n",
       "0         12.0           middle  POS mobile with interest            365243.0   \n",
       "1         36.0       low_action          Cash X-Sell: low            365243.0   \n",
       "2         12.0             high         Cash X-Sell: high            365243.0   \n",
       "\n",
       "   DAYS_FIRST_DUE  DAYS_LAST_DUE_1ST_VERSION  DAYS_LAST_DUE  DAYS_TERMINATION  \\\n",
       "0           -42.0                      300.0          -42.0             -37.0   \n",
       "1          -134.0                      916.0       365243.0          365243.0   \n",
       "2          -271.0                       59.0       365243.0          365243.0   \n",
       "\n",
       "   NFLAG_INSURED_ON_APPROVAL  \n",
       "0                        0.0  \n",
       "1                        1.0  \n",
       "2                        1.0  "
      ]
     },
     "execution_count": 146,
     "metadata": {},
     "output_type": "execute_result"
    }
   ],
   "source": [
    "df_previous_application.head(3)\n",
    "#All previous applications for Home Credit loans of clients who have loans in our sample.\n",
    "#There is one row for each previous application related to loans in our data sample."
   ]
  },
  {
   "cell_type": "code",
   "execution_count": 147,
   "metadata": {},
   "outputs": [
    {
     "data": {
      "text/plain": [
       "(1670214, 37)"
      ]
     },
     "execution_count": 147,
     "metadata": {},
     "output_type": "execute_result"
    }
   ],
   "source": [
    "df_previous_application.shape"
   ]
  },
  {
   "cell_type": "code",
   "execution_count": 148,
   "metadata": {},
   "outputs": [
    {
     "name": "stdout",
     "output_type": "stream",
     "text": [
      "['Loan annuity' 'Annuity of the Credit Bureau credit'\n",
      " 'Annuity of previous application']\n"
     ]
    }
   ],
   "source": [
    "print(df_home_credit.loc[df_home_credit[\"Row\"] == \"AMT_ANNUITY\", \"Description\"].values)"
   ]
  },
  {
   "cell_type": "code",
   "execution_count": 149,
   "metadata": {},
   "outputs": [
    {
     "name": "stdout",
     "output_type": "stream",
     "text": [
      "['For how much credit did client ask on the previous application']\n"
     ]
    }
   ],
   "source": [
    "print(df_home_credit.loc[df_home_credit[\"Row\"] == \"AMT_APPLICATION\", \"Description\"].values)"
   ]
  },
  {
   "cell_type": "code",
   "execution_count": 150,
   "metadata": {},
   "outputs": [
    {
     "name": "stdout",
     "output_type": "stream",
     "text": [
      "['Credit amount of the loan'\n",
      " 'Final credit amount on the previous application. This differs from AMT_APPLICATION in a way that the AMT_APPLICATION is the amount for which the client initially applied for, but during our approval process he could have received different amount - AMT_CREDIT']\n"
     ]
    }
   ],
   "source": [
    "print(df_home_credit.loc[df_home_credit[\"Row\"] == \"AMT_CREDIT\", \"Description\"].values)"
   ]
  },
  {
   "cell_type": "code",
   "execution_count": 151,
   "metadata": {},
   "outputs": [
    {
     "name": "stdout",
     "output_type": "stream",
     "text": [
      "['Income of the client']\n"
     ]
    }
   ],
   "source": [
    "print(df_home_credit.loc[df_home_credit[\"Row\"] == \"AMT_INCOME_TOTAL\", \"Description\"].values)"
   ]
  },
  {
   "cell_type": "code",
   "execution_count": 152,
   "metadata": {},
   "outputs": [
    {
     "name": "stdout",
     "output_type": "stream",
     "text": [
      "Element 0 bellow Q1 - 1.5 * IQ (-156076.88)\n",
      "Element 21636 above Q3 + 1.5 * IQ (439906.12)\n"
     ]
    }
   ],
   "source": [
    "AMT_appli = df_previous_application[[\"SK_ID_CURR\", \"AMT_APPLICATION\", \"AMT_CREDIT\"]].groupby(\"SK_ID_CURR\").mean().reset_index()\n",
    "AMT_appli = clean_IQ(AMT_appli, \"AMT_CREDIT\")"
   ]
  },
  {
   "cell_type": "code",
   "execution_count": 153,
   "metadata": {},
   "outputs": [],
   "source": [
    "AMT_appli = AMT_appli.rename(columns = {\"AMT_APPLICATION\": \"previous_APPLICATION\", \"AMT_CREDIT\" : \"previous_CREDIT\"})\n",
    "tmp = pd.DataFrame(data = AMT_appli[\"previous_CREDIT\"]/AMT_appli[\"previous_APPLICATION\"], columns=[\"ratio_ask_get\"])\n",
    "AMT_appli = pd.concat([AMT_appli, tmp] , axis = 1)\n",
    "AMT_appli = AMT_appli.drop([\"previous_APPLICATION\"], axis = 1)\n",
    "#replace NaN by 0\n",
    "AMT_appli = AMT_appli.fillna(0)"
   ]
  },
  {
   "cell_type": "code",
   "execution_count": 154,
   "metadata": {},
   "outputs": [],
   "source": [
    "data_train = data_train.merge(AMT_appli, on =\"SK_ID_CURR\", how = \"left\")"
   ]
  },
  {
   "cell_type": "code",
   "execution_count": 155,
   "metadata": {},
   "outputs": [
    {
     "data": {
      "text/html": [
       "<div>\n",
       "<style scoped>\n",
       "    .dataframe tbody tr th:only-of-type {\n",
       "        vertical-align: middle;\n",
       "    }\n",
       "\n",
       "    .dataframe tbody tr th {\n",
       "        vertical-align: top;\n",
       "    }\n",
       "\n",
       "    .dataframe thead th {\n",
       "        text-align: right;\n",
       "    }\n",
       "</style>\n",
       "<table border=\"1\" class=\"dataframe\">\n",
       "  <thead>\n",
       "    <tr style=\"text-align: right;\">\n",
       "      <th></th>\n",
       "      <th>SK_ID_CURR</th>\n",
       "      <th>TARGET</th>\n",
       "      <th>AMT_INCOME_TOTAL</th>\n",
       "      <th>AMT_CREDIT</th>\n",
       "      <th>AMT_ANNUITY</th>\n",
       "      <th>AGE</th>\n",
       "      <th>YEARS_EMPLOYED</th>\n",
       "      <th>OWN_CAR_AGE</th>\n",
       "      <th>CNT_FAM_MEMBERS</th>\n",
       "      <th>NAME_EDUCATION_TYPE_Higher education</th>\n",
       "      <th>NAME_EDUCATION_TYPE_Incomplete higher</th>\n",
       "      <th>NAME_EDUCATION_TYPE_Other</th>\n",
       "      <th>NAME_EDUCATION_TYPE_Secondary / secondary special</th>\n",
       "      <th>NAME_FAMILY_STATUS_Civil marriage</th>\n",
       "      <th>NAME_FAMILY_STATUS_Married</th>\n",
       "      <th>NAME_FAMILY_STATUS_Separated</th>\n",
       "      <th>NAME_FAMILY_STATUS_Single / not married</th>\n",
       "      <th>NAME_FAMILY_STATUS_Widow</th>\n",
       "      <th>NAME_CONTRACT_TYPE_Cash loans</th>\n",
       "      <th>NAME_CONTRACT_TYPE_Revolving loans</th>\n",
       "      <th>CODE_GENDER_F</th>\n",
       "      <th>CODE_GENDER_M</th>\n",
       "      <th>OCCUPATION_TYPE_Accountants</th>\n",
       "      <th>OCCUPATION_TYPE_Core staff</th>\n",
       "      <th>OCCUPATION_TYPE_Drivers</th>\n",
       "      <th>OCCUPATION_TYPE_HR staff</th>\n",
       "      <th>OCCUPATION_TYPE_High skill tech staff</th>\n",
       "      <th>OCCUPATION_TYPE_IT staff</th>\n",
       "      <th>OCCUPATION_TYPE_Laborers</th>\n",
       "      <th>OCCUPATION_TYPE_Managers</th>\n",
       "      <th>OCCUPATION_TYPE_Medicine staff</th>\n",
       "      <th>OCCUPATION_TYPE_Other</th>\n",
       "      <th>OCCUPATION_TYPE_Private service staff</th>\n",
       "      <th>OCCUPATION_TYPE_Realty agents</th>\n",
       "      <th>OCCUPATION_TYPE_Sales staff</th>\n",
       "      <th>CREDIT_active</th>\n",
       "      <th>CREDIT_MEAN_OVERDUE_active</th>\n",
       "      <th>CREDIT_MEAN_active</th>\n",
       "      <th>proportion_OVERDUE_active</th>\n",
       "      <th>CREDIT_sold</th>\n",
       "      <th>CREDIT_MEAN_OVERDUE_sold</th>\n",
       "      <th>CREDIT_MEAN_sold</th>\n",
       "      <th>proportion_OVERDUE_sold</th>\n",
       "      <th>CREDIT_closed</th>\n",
       "      <th>CREDIT_MEAN_OVERDUE_closed</th>\n",
       "      <th>CREDIT_MEAN_closed</th>\n",
       "      <th>proportion_OVERDUE_closed</th>\n",
       "      <th>CREDIT_bad</th>\n",
       "      <th>CREDIT_MEAN_OVERDUE_bad</th>\n",
       "      <th>CREDIT_MEAN_bad</th>\n",
       "      <th>proportion_OVERDUE_bad</th>\n",
       "      <th>AMT_BALANCE</th>\n",
       "      <th>AMT_CREDIT_LIMIT_ACTUAL</th>\n",
       "      <th>Ratio_Credit_limit</th>\n",
       "      <th>previous_CREDIT</th>\n",
       "      <th>ratio_ask_get</th>\n",
       "    </tr>\n",
       "  </thead>\n",
       "  <tbody>\n",
       "    <tr>\n",
       "      <th>0</th>\n",
       "      <td>100002</td>\n",
       "      <td>1</td>\n",
       "      <td>202500.0</td>\n",
       "      <td>406597.5</td>\n",
       "      <td>24700.5</td>\n",
       "      <td>25.956104</td>\n",
       "      <td>1.747599</td>\n",
       "      <td>NaN</td>\n",
       "      <td>1.0</td>\n",
       "      <td>0</td>\n",
       "      <td>0</td>\n",
       "      <td>0</td>\n",
       "      <td>1</td>\n",
       "      <td>0</td>\n",
       "      <td>0</td>\n",
       "      <td>0</td>\n",
       "      <td>1</td>\n",
       "      <td>0</td>\n",
       "      <td>1</td>\n",
       "      <td>0</td>\n",
       "      <td>0</td>\n",
       "      <td>1</td>\n",
       "      <td>0</td>\n",
       "      <td>0</td>\n",
       "      <td>0</td>\n",
       "      <td>0</td>\n",
       "      <td>0</td>\n",
       "      <td>0</td>\n",
       "      <td>1</td>\n",
       "      <td>0</td>\n",
       "      <td>0</td>\n",
       "      <td>0</td>\n",
       "      <td>0</td>\n",
       "      <td>0</td>\n",
       "      <td>0</td>\n",
       "      <td>1.0</td>\n",
       "      <td>0.0</td>\n",
       "      <td>450000.0</td>\n",
       "      <td>0.0</td>\n",
       "      <td>0.0</td>\n",
       "      <td>0.0</td>\n",
       "      <td>0.0</td>\n",
       "      <td>0.0</td>\n",
       "      <td>1.0</td>\n",
       "      <td>2091.16125</td>\n",
       "      <td>76613.4</td>\n",
       "      <td>0.027295</td>\n",
       "      <td>0.0</td>\n",
       "      <td>0.0</td>\n",
       "      <td>0.0</td>\n",
       "      <td>0.0</td>\n",
       "      <td>NaN</td>\n",
       "      <td>NaN</td>\n",
       "      <td>NaN</td>\n",
       "      <td>179055.00</td>\n",
       "      <td>1.000000</td>\n",
       "    </tr>\n",
       "    <tr>\n",
       "      <th>1</th>\n",
       "      <td>100003</td>\n",
       "      <td>0</td>\n",
       "      <td>270000.0</td>\n",
       "      <td>1293502.5</td>\n",
       "      <td>35698.5</td>\n",
       "      <td>45.994513</td>\n",
       "      <td>3.259259</td>\n",
       "      <td>NaN</td>\n",
       "      <td>2.0</td>\n",
       "      <td>1</td>\n",
       "      <td>0</td>\n",
       "      <td>0</td>\n",
       "      <td>0</td>\n",
       "      <td>0</td>\n",
       "      <td>1</td>\n",
       "      <td>0</td>\n",
       "      <td>0</td>\n",
       "      <td>0</td>\n",
       "      <td>1</td>\n",
       "      <td>0</td>\n",
       "      <td>1</td>\n",
       "      <td>0</td>\n",
       "      <td>0</td>\n",
       "      <td>1</td>\n",
       "      <td>0</td>\n",
       "      <td>0</td>\n",
       "      <td>0</td>\n",
       "      <td>0</td>\n",
       "      <td>0</td>\n",
       "      <td>0</td>\n",
       "      <td>0</td>\n",
       "      <td>0</td>\n",
       "      <td>0</td>\n",
       "      <td>0</td>\n",
       "      <td>0</td>\n",
       "      <td>NaN</td>\n",
       "      <td>0.0</td>\n",
       "      <td>0.0</td>\n",
       "      <td>0.0</td>\n",
       "      <td>0.0</td>\n",
       "      <td>0.0</td>\n",
       "      <td>0.0</td>\n",
       "      <td>0.0</td>\n",
       "      <td>1.0</td>\n",
       "      <td>0.00000</td>\n",
       "      <td>69133.5</td>\n",
       "      <td>0.000000</td>\n",
       "      <td>0.0</td>\n",
       "      <td>0.0</td>\n",
       "      <td>0.0</td>\n",
       "      <td>0.0</td>\n",
       "      <td>NaN</td>\n",
       "      <td>NaN</td>\n",
       "      <td>NaN</td>\n",
       "      <td>NaN</td>\n",
       "      <td>NaN</td>\n",
       "    </tr>\n",
       "    <tr>\n",
       "      <th>2</th>\n",
       "      <td>100004</td>\n",
       "      <td>0</td>\n",
       "      <td>67500.0</td>\n",
       "      <td>135000.0</td>\n",
       "      <td>6750.0</td>\n",
       "      <td>52.252401</td>\n",
       "      <td>0.617284</td>\n",
       "      <td>26.0</td>\n",
       "      <td>1.0</td>\n",
       "      <td>0</td>\n",
       "      <td>0</td>\n",
       "      <td>0</td>\n",
       "      <td>1</td>\n",
       "      <td>0</td>\n",
       "      <td>0</td>\n",
       "      <td>0</td>\n",
       "      <td>1</td>\n",
       "      <td>0</td>\n",
       "      <td>0</td>\n",
       "      <td>1</td>\n",
       "      <td>0</td>\n",
       "      <td>1</td>\n",
       "      <td>0</td>\n",
       "      <td>0</td>\n",
       "      <td>0</td>\n",
       "      <td>0</td>\n",
       "      <td>0</td>\n",
       "      <td>0</td>\n",
       "      <td>1</td>\n",
       "      <td>0</td>\n",
       "      <td>0</td>\n",
       "      <td>0</td>\n",
       "      <td>0</td>\n",
       "      <td>0</td>\n",
       "      <td>0</td>\n",
       "      <td>NaN</td>\n",
       "      <td>0.0</td>\n",
       "      <td>0.0</td>\n",
       "      <td>0.0</td>\n",
       "      <td>0.0</td>\n",
       "      <td>0.0</td>\n",
       "      <td>0.0</td>\n",
       "      <td>0.0</td>\n",
       "      <td>1.0</td>\n",
       "      <td>0.00000</td>\n",
       "      <td>94518.9</td>\n",
       "      <td>0.000000</td>\n",
       "      <td>0.0</td>\n",
       "      <td>0.0</td>\n",
       "      <td>0.0</td>\n",
       "      <td>0.0</td>\n",
       "      <td>NaN</td>\n",
       "      <td>NaN</td>\n",
       "      <td>NaN</td>\n",
       "      <td>20106.00</td>\n",
       "      <td>0.828021</td>\n",
       "    </tr>\n",
       "    <tr>\n",
       "      <th>3</th>\n",
       "      <td>100006</td>\n",
       "      <td>0</td>\n",
       "      <td>135000.0</td>\n",
       "      <td>312682.5</td>\n",
       "      <td>29686.5</td>\n",
       "      <td>52.139918</td>\n",
       "      <td>8.337449</td>\n",
       "      <td>NaN</td>\n",
       "      <td>2.0</td>\n",
       "      <td>0</td>\n",
       "      <td>0</td>\n",
       "      <td>0</td>\n",
       "      <td>1</td>\n",
       "      <td>1</td>\n",
       "      <td>0</td>\n",
       "      <td>0</td>\n",
       "      <td>0</td>\n",
       "      <td>0</td>\n",
       "      <td>1</td>\n",
       "      <td>0</td>\n",
       "      <td>1</td>\n",
       "      <td>0</td>\n",
       "      <td>0</td>\n",
       "      <td>0</td>\n",
       "      <td>0</td>\n",
       "      <td>0</td>\n",
       "      <td>0</td>\n",
       "      <td>0</td>\n",
       "      <td>1</td>\n",
       "      <td>0</td>\n",
       "      <td>0</td>\n",
       "      <td>0</td>\n",
       "      <td>0</td>\n",
       "      <td>0</td>\n",
       "      <td>0</td>\n",
       "      <td>NaN</td>\n",
       "      <td>0.0</td>\n",
       "      <td>0.0</td>\n",
       "      <td>0.0</td>\n",
       "      <td>NaN</td>\n",
       "      <td>0.0</td>\n",
       "      <td>0.0</td>\n",
       "      <td>0.0</td>\n",
       "      <td>NaN</td>\n",
       "      <td>0.00000</td>\n",
       "      <td>0.0</td>\n",
       "      <td>0.000000</td>\n",
       "      <td>NaN</td>\n",
       "      <td>0.0</td>\n",
       "      <td>0.0</td>\n",
       "      <td>0.0</td>\n",
       "      <td>0.0</td>\n",
       "      <td>270000.0</td>\n",
       "      <td>0.0</td>\n",
       "      <td>291695.50</td>\n",
       "      <td>1.071609</td>\n",
       "    </tr>\n",
       "    <tr>\n",
       "      <th>4</th>\n",
       "      <td>100007</td>\n",
       "      <td>0</td>\n",
       "      <td>121500.0</td>\n",
       "      <td>513000.0</td>\n",
       "      <td>21865.5</td>\n",
       "      <td>54.683128</td>\n",
       "      <td>8.334705</td>\n",
       "      <td>NaN</td>\n",
       "      <td>1.0</td>\n",
       "      <td>0</td>\n",
       "      <td>0</td>\n",
       "      <td>0</td>\n",
       "      <td>1</td>\n",
       "      <td>0</td>\n",
       "      <td>0</td>\n",
       "      <td>0</td>\n",
       "      <td>1</td>\n",
       "      <td>0</td>\n",
       "      <td>1</td>\n",
       "      <td>0</td>\n",
       "      <td>0</td>\n",
       "      <td>1</td>\n",
       "      <td>0</td>\n",
       "      <td>1</td>\n",
       "      <td>0</td>\n",
       "      <td>0</td>\n",
       "      <td>0</td>\n",
       "      <td>0</td>\n",
       "      <td>0</td>\n",
       "      <td>0</td>\n",
       "      <td>0</td>\n",
       "      <td>0</td>\n",
       "      <td>0</td>\n",
       "      <td>0</td>\n",
       "      <td>0</td>\n",
       "      <td>NaN</td>\n",
       "      <td>0.0</td>\n",
       "      <td>0.0</td>\n",
       "      <td>0.0</td>\n",
       "      <td>0.0</td>\n",
       "      <td>0.0</td>\n",
       "      <td>0.0</td>\n",
       "      <td>0.0</td>\n",
       "      <td>1.0</td>\n",
       "      <td>0.00000</td>\n",
       "      <td>146250.0</td>\n",
       "      <td>0.000000</td>\n",
       "      <td>0.0</td>\n",
       "      <td>0.0</td>\n",
       "      <td>0.0</td>\n",
       "      <td>0.0</td>\n",
       "      <td>NaN</td>\n",
       "      <td>NaN</td>\n",
       "      <td>NaN</td>\n",
       "      <td>166638.75</td>\n",
       "      <td>1.107012</td>\n",
       "    </tr>\n",
       "  </tbody>\n",
       "</table>\n",
       "</div>"
      ],
      "text/plain": [
       "   SK_ID_CURR  TARGET  AMT_INCOME_TOTAL  AMT_CREDIT  AMT_ANNUITY        AGE  \\\n",
       "0      100002       1          202500.0    406597.5      24700.5  25.956104   \n",
       "1      100003       0          270000.0   1293502.5      35698.5  45.994513   \n",
       "2      100004       0           67500.0    135000.0       6750.0  52.252401   \n",
       "3      100006       0          135000.0    312682.5      29686.5  52.139918   \n",
       "4      100007       0          121500.0    513000.0      21865.5  54.683128   \n",
       "\n",
       "   YEARS_EMPLOYED  OWN_CAR_AGE  CNT_FAM_MEMBERS  \\\n",
       "0        1.747599          NaN              1.0   \n",
       "1        3.259259          NaN              2.0   \n",
       "2        0.617284         26.0              1.0   \n",
       "3        8.337449          NaN              2.0   \n",
       "4        8.334705          NaN              1.0   \n",
       "\n",
       "   NAME_EDUCATION_TYPE_Higher education  \\\n",
       "0                                     0   \n",
       "1                                     1   \n",
       "2                                     0   \n",
       "3                                     0   \n",
       "4                                     0   \n",
       "\n",
       "   NAME_EDUCATION_TYPE_Incomplete higher  NAME_EDUCATION_TYPE_Other  \\\n",
       "0                                      0                          0   \n",
       "1                                      0                          0   \n",
       "2                                      0                          0   \n",
       "3                                      0                          0   \n",
       "4                                      0                          0   \n",
       "\n",
       "   NAME_EDUCATION_TYPE_Secondary / secondary special  \\\n",
       "0                                                  1   \n",
       "1                                                  0   \n",
       "2                                                  1   \n",
       "3                                                  1   \n",
       "4                                                  1   \n",
       "\n",
       "   NAME_FAMILY_STATUS_Civil marriage  NAME_FAMILY_STATUS_Married  \\\n",
       "0                                  0                           0   \n",
       "1                                  0                           1   \n",
       "2                                  0                           0   \n",
       "3                                  1                           0   \n",
       "4                                  0                           0   \n",
       "\n",
       "   NAME_FAMILY_STATUS_Separated  NAME_FAMILY_STATUS_Single / not married  \\\n",
       "0                             0                                        1   \n",
       "1                             0                                        0   \n",
       "2                             0                                        1   \n",
       "3                             0                                        0   \n",
       "4                             0                                        1   \n",
       "\n",
       "   NAME_FAMILY_STATUS_Widow  NAME_CONTRACT_TYPE_Cash loans  \\\n",
       "0                         0                              1   \n",
       "1                         0                              1   \n",
       "2                         0                              0   \n",
       "3                         0                              1   \n",
       "4                         0                              1   \n",
       "\n",
       "   NAME_CONTRACT_TYPE_Revolving loans  CODE_GENDER_F  CODE_GENDER_M  \\\n",
       "0                                   0              0              1   \n",
       "1                                   0              1              0   \n",
       "2                                   1              0              1   \n",
       "3                                   0              1              0   \n",
       "4                                   0              0              1   \n",
       "\n",
       "   OCCUPATION_TYPE_Accountants  OCCUPATION_TYPE_Core staff  \\\n",
       "0                            0                           0   \n",
       "1                            0                           1   \n",
       "2                            0                           0   \n",
       "3                            0                           0   \n",
       "4                            0                           1   \n",
       "\n",
       "   OCCUPATION_TYPE_Drivers  OCCUPATION_TYPE_HR staff  \\\n",
       "0                        0                         0   \n",
       "1                        0                         0   \n",
       "2                        0                         0   \n",
       "3                        0                         0   \n",
       "4                        0                         0   \n",
       "\n",
       "   OCCUPATION_TYPE_High skill tech staff  OCCUPATION_TYPE_IT staff  \\\n",
       "0                                      0                         0   \n",
       "1                                      0                         0   \n",
       "2                                      0                         0   \n",
       "3                                      0                         0   \n",
       "4                                      0                         0   \n",
       "\n",
       "   OCCUPATION_TYPE_Laborers  OCCUPATION_TYPE_Managers  \\\n",
       "0                         1                         0   \n",
       "1                         0                         0   \n",
       "2                         1                         0   \n",
       "3                         1                         0   \n",
       "4                         0                         0   \n",
       "\n",
       "   OCCUPATION_TYPE_Medicine staff  OCCUPATION_TYPE_Other  \\\n",
       "0                               0                      0   \n",
       "1                               0                      0   \n",
       "2                               0                      0   \n",
       "3                               0                      0   \n",
       "4                               0                      0   \n",
       "\n",
       "   OCCUPATION_TYPE_Private service staff  OCCUPATION_TYPE_Realty agents  \\\n",
       "0                                      0                              0   \n",
       "1                                      0                              0   \n",
       "2                                      0                              0   \n",
       "3                                      0                              0   \n",
       "4                                      0                              0   \n",
       "\n",
       "   OCCUPATION_TYPE_Sales staff  CREDIT_active  CREDIT_MEAN_OVERDUE_active  \\\n",
       "0                            0            1.0                         0.0   \n",
       "1                            0            NaN                         0.0   \n",
       "2                            0            NaN                         0.0   \n",
       "3                            0            NaN                         0.0   \n",
       "4                            0            NaN                         0.0   \n",
       "\n",
       "   CREDIT_MEAN_active  proportion_OVERDUE_active  CREDIT_sold  \\\n",
       "0            450000.0                        0.0          0.0   \n",
       "1                 0.0                        0.0          0.0   \n",
       "2                 0.0                        0.0          0.0   \n",
       "3                 0.0                        0.0          NaN   \n",
       "4                 0.0                        0.0          0.0   \n",
       "\n",
       "   CREDIT_MEAN_OVERDUE_sold  CREDIT_MEAN_sold  proportion_OVERDUE_sold  \\\n",
       "0                       0.0               0.0                      0.0   \n",
       "1                       0.0               0.0                      0.0   \n",
       "2                       0.0               0.0                      0.0   \n",
       "3                       0.0               0.0                      0.0   \n",
       "4                       0.0               0.0                      0.0   \n",
       "\n",
       "   CREDIT_closed  CREDIT_MEAN_OVERDUE_closed  CREDIT_MEAN_closed  \\\n",
       "0            1.0                  2091.16125             76613.4   \n",
       "1            1.0                     0.00000             69133.5   \n",
       "2            1.0                     0.00000             94518.9   \n",
       "3            NaN                     0.00000                 0.0   \n",
       "4            1.0                     0.00000            146250.0   \n",
       "\n",
       "   proportion_OVERDUE_closed  CREDIT_bad  CREDIT_MEAN_OVERDUE_bad  \\\n",
       "0                   0.027295         0.0                      0.0   \n",
       "1                   0.000000         0.0                      0.0   \n",
       "2                   0.000000         0.0                      0.0   \n",
       "3                   0.000000         NaN                      0.0   \n",
       "4                   0.000000         0.0                      0.0   \n",
       "\n",
       "   CREDIT_MEAN_bad  proportion_OVERDUE_bad  AMT_BALANCE  \\\n",
       "0              0.0                     0.0          NaN   \n",
       "1              0.0                     0.0          NaN   \n",
       "2              0.0                     0.0          NaN   \n",
       "3              0.0                     0.0          0.0   \n",
       "4              0.0                     0.0          NaN   \n",
       "\n",
       "   AMT_CREDIT_LIMIT_ACTUAL  Ratio_Credit_limit  previous_CREDIT  ratio_ask_get  \n",
       "0                      NaN                 NaN        179055.00       1.000000  \n",
       "1                      NaN                 NaN              NaN            NaN  \n",
       "2                      NaN                 NaN         20106.00       0.828021  \n",
       "3                 270000.0                 0.0        291695.50       1.071609  \n",
       "4                      NaN                 NaN        166638.75       1.107012  "
      ]
     },
     "execution_count": 155,
     "metadata": {},
     "output_type": "execute_result"
    }
   ],
   "source": [
    "data_train.head()"
   ]
  },
  {
   "cell_type": "markdown",
   "metadata": {},
   "source": [
    "## sample submission"
   ]
  },
  {
   "cell_type": "code",
   "execution_count": 156,
   "metadata": {},
   "outputs": [
    {
     "data": {
      "text/html": [
       "<div>\n",
       "<style scoped>\n",
       "    .dataframe tbody tr th:only-of-type {\n",
       "        vertical-align: middle;\n",
       "    }\n",
       "\n",
       "    .dataframe tbody tr th {\n",
       "        vertical-align: top;\n",
       "    }\n",
       "\n",
       "    .dataframe thead th {\n",
       "        text-align: right;\n",
       "    }\n",
       "</style>\n",
       "<table border=\"1\" class=\"dataframe\">\n",
       "  <thead>\n",
       "    <tr style=\"text-align: right;\">\n",
       "      <th></th>\n",
       "      <th>SK_ID_CURR</th>\n",
       "      <th>TARGET</th>\n",
       "    </tr>\n",
       "  </thead>\n",
       "  <tbody>\n",
       "    <tr>\n",
       "      <th>0</th>\n",
       "      <td>100001</td>\n",
       "      <td>0.5</td>\n",
       "    </tr>\n",
       "    <tr>\n",
       "      <th>1</th>\n",
       "      <td>100005</td>\n",
       "      <td>0.5</td>\n",
       "    </tr>\n",
       "    <tr>\n",
       "      <th>2</th>\n",
       "      <td>100013</td>\n",
       "      <td>0.5</td>\n",
       "    </tr>\n",
       "  </tbody>\n",
       "</table>\n",
       "</div>"
      ],
      "text/plain": [
       "   SK_ID_CURR  TARGET\n",
       "0      100001     0.5\n",
       "1      100005     0.5\n",
       "2      100013     0.5"
      ]
     },
     "execution_count": 156,
     "metadata": {},
     "output_type": "execute_result"
    }
   ],
   "source": [
    "df_sample_submission.head(3)"
   ]
  },
  {
   "cell_type": "code",
   "execution_count": 157,
   "metadata": {},
   "outputs": [
    {
     "data": {
      "text/plain": [
       "(1670214, 37)"
      ]
     },
     "execution_count": 157,
     "metadata": {},
     "output_type": "execute_result"
    }
   ],
   "source": [
    "df_previous_application.shape"
   ]
  },
  {
   "cell_type": "code",
   "execution_count": 158,
   "metadata": {},
   "outputs": [],
   "source": [
    "tmp = pd.DataFrame(data_train[\"AMT_ANNUITY\"] / data_train[\"AMT_INCOME_TOTAL\"], columns= [\"Number_years_Loan_Theorical\"])\n",
    "tmp2 = pd.DataFrame(data_train[\"AMT_CREDIT\"]/data_train[\"AMT_ANNUITY\"], columns= [\"AMT_CREDIT_ANNUITY_RATIO\"])\n",
    "tmp3 = pd.concat([data_train, tmp], axis = 1)\n",
    "data_train = pd.concat([tmp3, tmp2], axis = 1)"
   ]
  },
  {
   "cell_type": "markdown",
   "metadata": {},
   "source": [
    "# Clean NaN"
   ]
  },
  {
   "cell_type": "code",
   "execution_count": 159,
   "metadata": {},
   "outputs": [
    {
     "data": {
      "text/html": [
       "<div>\n",
       "<style scoped>\n",
       "    .dataframe tbody tr th:only-of-type {\n",
       "        vertical-align: middle;\n",
       "    }\n",
       "\n",
       "    .dataframe tbody tr th {\n",
       "        vertical-align: top;\n",
       "    }\n",
       "\n",
       "    .dataframe thead th {\n",
       "        text-align: right;\n",
       "    }\n",
       "</style>\n",
       "<table border=\"1\" class=\"dataframe\">\n",
       "  <thead>\n",
       "    <tr style=\"text-align: right;\">\n",
       "      <th></th>\n",
       "      <th>SK_ID_CURR</th>\n",
       "      <th>TARGET</th>\n",
       "      <th>AMT_INCOME_TOTAL</th>\n",
       "      <th>AMT_CREDIT</th>\n",
       "      <th>AMT_ANNUITY</th>\n",
       "      <th>AGE</th>\n",
       "      <th>YEARS_EMPLOYED</th>\n",
       "      <th>OWN_CAR_AGE</th>\n",
       "      <th>CNT_FAM_MEMBERS</th>\n",
       "      <th>NAME_EDUCATION_TYPE_Higher education</th>\n",
       "      <th>NAME_EDUCATION_TYPE_Incomplete higher</th>\n",
       "      <th>NAME_EDUCATION_TYPE_Other</th>\n",
       "      <th>NAME_EDUCATION_TYPE_Secondary / secondary special</th>\n",
       "      <th>NAME_FAMILY_STATUS_Civil marriage</th>\n",
       "      <th>NAME_FAMILY_STATUS_Married</th>\n",
       "      <th>NAME_FAMILY_STATUS_Separated</th>\n",
       "      <th>NAME_FAMILY_STATUS_Single / not married</th>\n",
       "      <th>NAME_FAMILY_STATUS_Widow</th>\n",
       "      <th>NAME_CONTRACT_TYPE_Cash loans</th>\n",
       "      <th>NAME_CONTRACT_TYPE_Revolving loans</th>\n",
       "      <th>CODE_GENDER_F</th>\n",
       "      <th>CODE_GENDER_M</th>\n",
       "      <th>OCCUPATION_TYPE_Accountants</th>\n",
       "      <th>OCCUPATION_TYPE_Core staff</th>\n",
       "      <th>OCCUPATION_TYPE_Drivers</th>\n",
       "      <th>OCCUPATION_TYPE_HR staff</th>\n",
       "      <th>OCCUPATION_TYPE_High skill tech staff</th>\n",
       "      <th>OCCUPATION_TYPE_IT staff</th>\n",
       "      <th>OCCUPATION_TYPE_Laborers</th>\n",
       "      <th>OCCUPATION_TYPE_Managers</th>\n",
       "      <th>OCCUPATION_TYPE_Medicine staff</th>\n",
       "      <th>OCCUPATION_TYPE_Other</th>\n",
       "      <th>OCCUPATION_TYPE_Private service staff</th>\n",
       "      <th>OCCUPATION_TYPE_Realty agents</th>\n",
       "      <th>OCCUPATION_TYPE_Sales staff</th>\n",
       "      <th>CREDIT_active</th>\n",
       "      <th>CREDIT_MEAN_OVERDUE_active</th>\n",
       "      <th>CREDIT_MEAN_active</th>\n",
       "      <th>proportion_OVERDUE_active</th>\n",
       "      <th>CREDIT_sold</th>\n",
       "      <th>CREDIT_MEAN_OVERDUE_sold</th>\n",
       "      <th>CREDIT_MEAN_sold</th>\n",
       "      <th>proportion_OVERDUE_sold</th>\n",
       "      <th>CREDIT_closed</th>\n",
       "      <th>CREDIT_MEAN_OVERDUE_closed</th>\n",
       "      <th>CREDIT_MEAN_closed</th>\n",
       "      <th>proportion_OVERDUE_closed</th>\n",
       "      <th>CREDIT_bad</th>\n",
       "      <th>CREDIT_MEAN_OVERDUE_bad</th>\n",
       "      <th>CREDIT_MEAN_bad</th>\n",
       "      <th>proportion_OVERDUE_bad</th>\n",
       "      <th>AMT_BALANCE</th>\n",
       "      <th>AMT_CREDIT_LIMIT_ACTUAL</th>\n",
       "      <th>Ratio_Credit_limit</th>\n",
       "      <th>previous_CREDIT</th>\n",
       "      <th>ratio_ask_get</th>\n",
       "      <th>Number_years_Loan_Theorical</th>\n",
       "      <th>AMT_CREDIT_ANNUITY_RATIO</th>\n",
       "    </tr>\n",
       "  </thead>\n",
       "  <tbody>\n",
       "    <tr>\n",
       "      <th>0</th>\n",
       "      <td>100002</td>\n",
       "      <td>1</td>\n",
       "      <td>202500.0</td>\n",
       "      <td>406597.5</td>\n",
       "      <td>24700.5</td>\n",
       "      <td>25.956104</td>\n",
       "      <td>1.747599</td>\n",
       "      <td>NaN</td>\n",
       "      <td>1.0</td>\n",
       "      <td>0</td>\n",
       "      <td>0</td>\n",
       "      <td>0</td>\n",
       "      <td>1</td>\n",
       "      <td>0</td>\n",
       "      <td>0</td>\n",
       "      <td>0</td>\n",
       "      <td>1</td>\n",
       "      <td>0</td>\n",
       "      <td>1</td>\n",
       "      <td>0</td>\n",
       "      <td>0</td>\n",
       "      <td>1</td>\n",
       "      <td>0</td>\n",
       "      <td>0</td>\n",
       "      <td>0</td>\n",
       "      <td>0</td>\n",
       "      <td>0</td>\n",
       "      <td>0</td>\n",
       "      <td>1</td>\n",
       "      <td>0</td>\n",
       "      <td>0</td>\n",
       "      <td>0</td>\n",
       "      <td>0</td>\n",
       "      <td>0</td>\n",
       "      <td>0</td>\n",
       "      <td>1.0</td>\n",
       "      <td>0.0</td>\n",
       "      <td>450000.0</td>\n",
       "      <td>0.0</td>\n",
       "      <td>0.0</td>\n",
       "      <td>0.0</td>\n",
       "      <td>0.0</td>\n",
       "      <td>0.0</td>\n",
       "      <td>1.0</td>\n",
       "      <td>2091.16125</td>\n",
       "      <td>76613.4</td>\n",
       "      <td>0.027295</td>\n",
       "      <td>0.0</td>\n",
       "      <td>0.0</td>\n",
       "      <td>0.0</td>\n",
       "      <td>0.0</td>\n",
       "      <td>NaN</td>\n",
       "      <td>NaN</td>\n",
       "      <td>NaN</td>\n",
       "      <td>179055.0</td>\n",
       "      <td>1.000000</td>\n",
       "      <td>0.121978</td>\n",
       "      <td>16.461104</td>\n",
       "    </tr>\n",
       "    <tr>\n",
       "      <th>1</th>\n",
       "      <td>100003</td>\n",
       "      <td>0</td>\n",
       "      <td>270000.0</td>\n",
       "      <td>1293502.5</td>\n",
       "      <td>35698.5</td>\n",
       "      <td>45.994513</td>\n",
       "      <td>3.259259</td>\n",
       "      <td>NaN</td>\n",
       "      <td>2.0</td>\n",
       "      <td>1</td>\n",
       "      <td>0</td>\n",
       "      <td>0</td>\n",
       "      <td>0</td>\n",
       "      <td>0</td>\n",
       "      <td>1</td>\n",
       "      <td>0</td>\n",
       "      <td>0</td>\n",
       "      <td>0</td>\n",
       "      <td>1</td>\n",
       "      <td>0</td>\n",
       "      <td>1</td>\n",
       "      <td>0</td>\n",
       "      <td>0</td>\n",
       "      <td>1</td>\n",
       "      <td>0</td>\n",
       "      <td>0</td>\n",
       "      <td>0</td>\n",
       "      <td>0</td>\n",
       "      <td>0</td>\n",
       "      <td>0</td>\n",
       "      <td>0</td>\n",
       "      <td>0</td>\n",
       "      <td>0</td>\n",
       "      <td>0</td>\n",
       "      <td>0</td>\n",
       "      <td>NaN</td>\n",
       "      <td>0.0</td>\n",
       "      <td>0.0</td>\n",
       "      <td>0.0</td>\n",
       "      <td>0.0</td>\n",
       "      <td>0.0</td>\n",
       "      <td>0.0</td>\n",
       "      <td>0.0</td>\n",
       "      <td>1.0</td>\n",
       "      <td>0.00000</td>\n",
       "      <td>69133.5</td>\n",
       "      <td>0.000000</td>\n",
       "      <td>0.0</td>\n",
       "      <td>0.0</td>\n",
       "      <td>0.0</td>\n",
       "      <td>0.0</td>\n",
       "      <td>NaN</td>\n",
       "      <td>NaN</td>\n",
       "      <td>NaN</td>\n",
       "      <td>NaN</td>\n",
       "      <td>NaN</td>\n",
       "      <td>0.132217</td>\n",
       "      <td>36.234085</td>\n",
       "    </tr>\n",
       "    <tr>\n",
       "      <th>2</th>\n",
       "      <td>100004</td>\n",
       "      <td>0</td>\n",
       "      <td>67500.0</td>\n",
       "      <td>135000.0</td>\n",
       "      <td>6750.0</td>\n",
       "      <td>52.252401</td>\n",
       "      <td>0.617284</td>\n",
       "      <td>26.0</td>\n",
       "      <td>1.0</td>\n",
       "      <td>0</td>\n",
       "      <td>0</td>\n",
       "      <td>0</td>\n",
       "      <td>1</td>\n",
       "      <td>0</td>\n",
       "      <td>0</td>\n",
       "      <td>0</td>\n",
       "      <td>1</td>\n",
       "      <td>0</td>\n",
       "      <td>0</td>\n",
       "      <td>1</td>\n",
       "      <td>0</td>\n",
       "      <td>1</td>\n",
       "      <td>0</td>\n",
       "      <td>0</td>\n",
       "      <td>0</td>\n",
       "      <td>0</td>\n",
       "      <td>0</td>\n",
       "      <td>0</td>\n",
       "      <td>1</td>\n",
       "      <td>0</td>\n",
       "      <td>0</td>\n",
       "      <td>0</td>\n",
       "      <td>0</td>\n",
       "      <td>0</td>\n",
       "      <td>0</td>\n",
       "      <td>NaN</td>\n",
       "      <td>0.0</td>\n",
       "      <td>0.0</td>\n",
       "      <td>0.0</td>\n",
       "      <td>0.0</td>\n",
       "      <td>0.0</td>\n",
       "      <td>0.0</td>\n",
       "      <td>0.0</td>\n",
       "      <td>1.0</td>\n",
       "      <td>0.00000</td>\n",
       "      <td>94518.9</td>\n",
       "      <td>0.000000</td>\n",
       "      <td>0.0</td>\n",
       "      <td>0.0</td>\n",
       "      <td>0.0</td>\n",
       "      <td>0.0</td>\n",
       "      <td>NaN</td>\n",
       "      <td>NaN</td>\n",
       "      <td>NaN</td>\n",
       "      <td>20106.0</td>\n",
       "      <td>0.828021</td>\n",
       "      <td>0.100000</td>\n",
       "      <td>20.000000</td>\n",
       "    </tr>\n",
       "  </tbody>\n",
       "</table>\n",
       "</div>"
      ],
      "text/plain": [
       "   SK_ID_CURR  TARGET  AMT_INCOME_TOTAL  AMT_CREDIT  AMT_ANNUITY        AGE  \\\n",
       "0      100002       1          202500.0    406597.5      24700.5  25.956104   \n",
       "1      100003       0          270000.0   1293502.5      35698.5  45.994513   \n",
       "2      100004       0           67500.0    135000.0       6750.0  52.252401   \n",
       "\n",
       "   YEARS_EMPLOYED  OWN_CAR_AGE  CNT_FAM_MEMBERS  \\\n",
       "0        1.747599          NaN              1.0   \n",
       "1        3.259259          NaN              2.0   \n",
       "2        0.617284         26.0              1.0   \n",
       "\n",
       "   NAME_EDUCATION_TYPE_Higher education  \\\n",
       "0                                     0   \n",
       "1                                     1   \n",
       "2                                     0   \n",
       "\n",
       "   NAME_EDUCATION_TYPE_Incomplete higher  NAME_EDUCATION_TYPE_Other  \\\n",
       "0                                      0                          0   \n",
       "1                                      0                          0   \n",
       "2                                      0                          0   \n",
       "\n",
       "   NAME_EDUCATION_TYPE_Secondary / secondary special  \\\n",
       "0                                                  1   \n",
       "1                                                  0   \n",
       "2                                                  1   \n",
       "\n",
       "   NAME_FAMILY_STATUS_Civil marriage  NAME_FAMILY_STATUS_Married  \\\n",
       "0                                  0                           0   \n",
       "1                                  0                           1   \n",
       "2                                  0                           0   \n",
       "\n",
       "   NAME_FAMILY_STATUS_Separated  NAME_FAMILY_STATUS_Single / not married  \\\n",
       "0                             0                                        1   \n",
       "1                             0                                        0   \n",
       "2                             0                                        1   \n",
       "\n",
       "   NAME_FAMILY_STATUS_Widow  NAME_CONTRACT_TYPE_Cash loans  \\\n",
       "0                         0                              1   \n",
       "1                         0                              1   \n",
       "2                         0                              0   \n",
       "\n",
       "   NAME_CONTRACT_TYPE_Revolving loans  CODE_GENDER_F  CODE_GENDER_M  \\\n",
       "0                                   0              0              1   \n",
       "1                                   0              1              0   \n",
       "2                                   1              0              1   \n",
       "\n",
       "   OCCUPATION_TYPE_Accountants  OCCUPATION_TYPE_Core staff  \\\n",
       "0                            0                           0   \n",
       "1                            0                           1   \n",
       "2                            0                           0   \n",
       "\n",
       "   OCCUPATION_TYPE_Drivers  OCCUPATION_TYPE_HR staff  \\\n",
       "0                        0                         0   \n",
       "1                        0                         0   \n",
       "2                        0                         0   \n",
       "\n",
       "   OCCUPATION_TYPE_High skill tech staff  OCCUPATION_TYPE_IT staff  \\\n",
       "0                                      0                         0   \n",
       "1                                      0                         0   \n",
       "2                                      0                         0   \n",
       "\n",
       "   OCCUPATION_TYPE_Laborers  OCCUPATION_TYPE_Managers  \\\n",
       "0                         1                         0   \n",
       "1                         0                         0   \n",
       "2                         1                         0   \n",
       "\n",
       "   OCCUPATION_TYPE_Medicine staff  OCCUPATION_TYPE_Other  \\\n",
       "0                               0                      0   \n",
       "1                               0                      0   \n",
       "2                               0                      0   \n",
       "\n",
       "   OCCUPATION_TYPE_Private service staff  OCCUPATION_TYPE_Realty agents  \\\n",
       "0                                      0                              0   \n",
       "1                                      0                              0   \n",
       "2                                      0                              0   \n",
       "\n",
       "   OCCUPATION_TYPE_Sales staff  CREDIT_active  CREDIT_MEAN_OVERDUE_active  \\\n",
       "0                            0            1.0                         0.0   \n",
       "1                            0            NaN                         0.0   \n",
       "2                            0            NaN                         0.0   \n",
       "\n",
       "   CREDIT_MEAN_active  proportion_OVERDUE_active  CREDIT_sold  \\\n",
       "0            450000.0                        0.0          0.0   \n",
       "1                 0.0                        0.0          0.0   \n",
       "2                 0.0                        0.0          0.0   \n",
       "\n",
       "   CREDIT_MEAN_OVERDUE_sold  CREDIT_MEAN_sold  proportion_OVERDUE_sold  \\\n",
       "0                       0.0               0.0                      0.0   \n",
       "1                       0.0               0.0                      0.0   \n",
       "2                       0.0               0.0                      0.0   \n",
       "\n",
       "   CREDIT_closed  CREDIT_MEAN_OVERDUE_closed  CREDIT_MEAN_closed  \\\n",
       "0            1.0                  2091.16125             76613.4   \n",
       "1            1.0                     0.00000             69133.5   \n",
       "2            1.0                     0.00000             94518.9   \n",
       "\n",
       "   proportion_OVERDUE_closed  CREDIT_bad  CREDIT_MEAN_OVERDUE_bad  \\\n",
       "0                   0.027295         0.0                      0.0   \n",
       "1                   0.000000         0.0                      0.0   \n",
       "2                   0.000000         0.0                      0.0   \n",
       "\n",
       "   CREDIT_MEAN_bad  proportion_OVERDUE_bad  AMT_BALANCE  \\\n",
       "0              0.0                     0.0          NaN   \n",
       "1              0.0                     0.0          NaN   \n",
       "2              0.0                     0.0          NaN   \n",
       "\n",
       "   AMT_CREDIT_LIMIT_ACTUAL  Ratio_Credit_limit  previous_CREDIT  \\\n",
       "0                      NaN                 NaN         179055.0   \n",
       "1                      NaN                 NaN              NaN   \n",
       "2                      NaN                 NaN          20106.0   \n",
       "\n",
       "   ratio_ask_get  Number_years_Loan_Theorical  AMT_CREDIT_ANNUITY_RATIO  \n",
       "0       1.000000                     0.121978                 16.461104  \n",
       "1            NaN                     0.132217                 36.234085  \n",
       "2       0.828021                     0.100000                 20.000000  "
      ]
     },
     "execution_count": 159,
     "metadata": {},
     "output_type": "execute_result"
    }
   ],
   "source": [
    "data_train.head(3)"
   ]
  },
  {
   "cell_type": "code",
   "execution_count": 160,
   "metadata": {},
   "outputs": [
    {
     "name": "stdout",
     "output_type": "stream",
     "text": [
      "OWN_CAR_AGE 63.74%\n",
      "CREDIT_active 43.08%\n",
      "CREDIT_sold 29.09%\n",
      "CREDIT_closed 29.09%\n",
      "CREDIT_bad 29.09%\n",
      "AMT_BALANCE 74.60%\n",
      "AMT_CREDIT_LIMIT_ACTUAL 74.60%\n",
      "Ratio_Credit_limit 74.60%\n",
      "previous_CREDIT 9.85%\n",
      "ratio_ask_get 9.85%\n"
     ]
    }
   ],
   "source": [
    "for col in data_train.columns:\n",
    "    tmp = data_train[col].isnull().sum()\n",
    "    if tmp > 0:\n",
    "        print(col+\" {0:.2f}%\".format(data_train[col].isnull().sum()/data_train[col].shape[0] *100))"
   ]
  },
  {
   "cell_type": "markdown",
   "metadata": {},
   "source": [
    "## OWN_CAR_AGE"
   ]
  },
  {
   "cell_type": "code",
   "execution_count": 161,
   "metadata": {},
   "outputs": [
    {
     "data": {
      "text/plain": [
       "137827"
      ]
     },
     "execution_count": 161,
     "metadata": {},
     "output_type": "execute_result"
    }
   ],
   "source": [
    "data_train['OWN_CAR_AGE'].isnull().sum()"
   ]
  },
  {
   "cell_type": "code",
   "execution_count": 162,
   "metadata": {},
   "outputs": [],
   "source": [
    "data_train[\"OWN_CAR_AGE\"] = data_train[\"OWN_CAR_AGE\"].fillna(0)"
   ]
  },
  {
   "cell_type": "code",
   "execution_count": 163,
   "metadata": {},
   "outputs": [],
   "source": [
    "data_train = data_train.drop([\"CODE_GENDER_F\"], axis = 1)"
   ]
  },
  {
   "cell_type": "markdown",
   "metadata": {},
   "source": [
    "## CREDIT status"
   ]
  },
  {
   "cell_type": "code",
   "execution_count": 164,
   "metadata": {},
   "outputs": [
    {
     "data": {
      "text/html": [
       "<div>\n",
       "<style scoped>\n",
       "    .dataframe tbody tr th:only-of-type {\n",
       "        vertical-align: middle;\n",
       "    }\n",
       "\n",
       "    .dataframe tbody tr th {\n",
       "        vertical-align: top;\n",
       "    }\n",
       "\n",
       "    .dataframe thead th {\n",
       "        text-align: right;\n",
       "    }\n",
       "</style>\n",
       "<table border=\"1\" class=\"dataframe\">\n",
       "  <thead>\n",
       "    <tr style=\"text-align: right;\">\n",
       "      <th></th>\n",
       "      <th>SK_ID_CURR</th>\n",
       "      <th>TARGET</th>\n",
       "      <th>AMT_INCOME_TOTAL</th>\n",
       "      <th>AMT_CREDIT</th>\n",
       "      <th>AMT_ANNUITY</th>\n",
       "      <th>AGE</th>\n",
       "      <th>YEARS_EMPLOYED</th>\n",
       "      <th>OWN_CAR_AGE</th>\n",
       "      <th>CNT_FAM_MEMBERS</th>\n",
       "      <th>NAME_EDUCATION_TYPE_Higher education</th>\n",
       "      <th>NAME_EDUCATION_TYPE_Incomplete higher</th>\n",
       "      <th>NAME_EDUCATION_TYPE_Other</th>\n",
       "      <th>NAME_EDUCATION_TYPE_Secondary / secondary special</th>\n",
       "      <th>NAME_FAMILY_STATUS_Civil marriage</th>\n",
       "      <th>NAME_FAMILY_STATUS_Married</th>\n",
       "      <th>NAME_FAMILY_STATUS_Separated</th>\n",
       "      <th>NAME_FAMILY_STATUS_Single / not married</th>\n",
       "      <th>NAME_FAMILY_STATUS_Widow</th>\n",
       "      <th>NAME_CONTRACT_TYPE_Cash loans</th>\n",
       "      <th>NAME_CONTRACT_TYPE_Revolving loans</th>\n",
       "      <th>CODE_GENDER_M</th>\n",
       "      <th>OCCUPATION_TYPE_Accountants</th>\n",
       "      <th>OCCUPATION_TYPE_Core staff</th>\n",
       "      <th>OCCUPATION_TYPE_Drivers</th>\n",
       "      <th>OCCUPATION_TYPE_HR staff</th>\n",
       "      <th>OCCUPATION_TYPE_High skill tech staff</th>\n",
       "      <th>OCCUPATION_TYPE_IT staff</th>\n",
       "      <th>OCCUPATION_TYPE_Laborers</th>\n",
       "      <th>OCCUPATION_TYPE_Managers</th>\n",
       "      <th>OCCUPATION_TYPE_Medicine staff</th>\n",
       "      <th>OCCUPATION_TYPE_Other</th>\n",
       "      <th>OCCUPATION_TYPE_Private service staff</th>\n",
       "      <th>OCCUPATION_TYPE_Realty agents</th>\n",
       "      <th>OCCUPATION_TYPE_Sales staff</th>\n",
       "      <th>CREDIT_active</th>\n",
       "      <th>CREDIT_MEAN_OVERDUE_active</th>\n",
       "      <th>CREDIT_MEAN_active</th>\n",
       "      <th>proportion_OVERDUE_active</th>\n",
       "      <th>CREDIT_sold</th>\n",
       "      <th>CREDIT_MEAN_OVERDUE_sold</th>\n",
       "      <th>CREDIT_MEAN_sold</th>\n",
       "      <th>proportion_OVERDUE_sold</th>\n",
       "      <th>CREDIT_closed</th>\n",
       "      <th>CREDIT_MEAN_OVERDUE_closed</th>\n",
       "      <th>CREDIT_MEAN_closed</th>\n",
       "      <th>proportion_OVERDUE_closed</th>\n",
       "      <th>CREDIT_bad</th>\n",
       "      <th>CREDIT_MEAN_OVERDUE_bad</th>\n",
       "      <th>CREDIT_MEAN_bad</th>\n",
       "      <th>proportion_OVERDUE_bad</th>\n",
       "      <th>AMT_BALANCE</th>\n",
       "      <th>AMT_CREDIT_LIMIT_ACTUAL</th>\n",
       "      <th>Ratio_Credit_limit</th>\n",
       "      <th>previous_CREDIT</th>\n",
       "      <th>ratio_ask_get</th>\n",
       "      <th>Number_years_Loan_Theorical</th>\n",
       "      <th>AMT_CREDIT_ANNUITY_RATIO</th>\n",
       "    </tr>\n",
       "  </thead>\n",
       "  <tbody>\n",
       "    <tr>\n",
       "      <th>0</th>\n",
       "      <td>100002</td>\n",
       "      <td>1</td>\n",
       "      <td>202500.0</td>\n",
       "      <td>406597.5</td>\n",
       "      <td>24700.5</td>\n",
       "      <td>25.956104</td>\n",
       "      <td>1.747599</td>\n",
       "      <td>0.0</td>\n",
       "      <td>1.0</td>\n",
       "      <td>0</td>\n",
       "      <td>0</td>\n",
       "      <td>0</td>\n",
       "      <td>1</td>\n",
       "      <td>0</td>\n",
       "      <td>0</td>\n",
       "      <td>0</td>\n",
       "      <td>1</td>\n",
       "      <td>0</td>\n",
       "      <td>1</td>\n",
       "      <td>0</td>\n",
       "      <td>1</td>\n",
       "      <td>0</td>\n",
       "      <td>0</td>\n",
       "      <td>0</td>\n",
       "      <td>0</td>\n",
       "      <td>0</td>\n",
       "      <td>0</td>\n",
       "      <td>1</td>\n",
       "      <td>0</td>\n",
       "      <td>0</td>\n",
       "      <td>0</td>\n",
       "      <td>0</td>\n",
       "      <td>0</td>\n",
       "      <td>0</td>\n",
       "      <td>1.0</td>\n",
       "      <td>0.0</td>\n",
       "      <td>450000.0</td>\n",
       "      <td>0.0</td>\n",
       "      <td>0.0</td>\n",
       "      <td>0.0</td>\n",
       "      <td>0.0</td>\n",
       "      <td>0.0</td>\n",
       "      <td>1.0</td>\n",
       "      <td>2091.16125</td>\n",
       "      <td>76613.4</td>\n",
       "      <td>0.027295</td>\n",
       "      <td>0.0</td>\n",
       "      <td>0.0</td>\n",
       "      <td>0.0</td>\n",
       "      <td>0.0</td>\n",
       "      <td>NaN</td>\n",
       "      <td>NaN</td>\n",
       "      <td>NaN</td>\n",
       "      <td>179055.0</td>\n",
       "      <td>1.000000</td>\n",
       "      <td>0.121978</td>\n",
       "      <td>16.461104</td>\n",
       "    </tr>\n",
       "    <tr>\n",
       "      <th>1</th>\n",
       "      <td>100003</td>\n",
       "      <td>0</td>\n",
       "      <td>270000.0</td>\n",
       "      <td>1293502.5</td>\n",
       "      <td>35698.5</td>\n",
       "      <td>45.994513</td>\n",
       "      <td>3.259259</td>\n",
       "      <td>0.0</td>\n",
       "      <td>2.0</td>\n",
       "      <td>1</td>\n",
       "      <td>0</td>\n",
       "      <td>0</td>\n",
       "      <td>0</td>\n",
       "      <td>0</td>\n",
       "      <td>1</td>\n",
       "      <td>0</td>\n",
       "      <td>0</td>\n",
       "      <td>0</td>\n",
       "      <td>1</td>\n",
       "      <td>0</td>\n",
       "      <td>0</td>\n",
       "      <td>0</td>\n",
       "      <td>1</td>\n",
       "      <td>0</td>\n",
       "      <td>0</td>\n",
       "      <td>0</td>\n",
       "      <td>0</td>\n",
       "      <td>0</td>\n",
       "      <td>0</td>\n",
       "      <td>0</td>\n",
       "      <td>0</td>\n",
       "      <td>0</td>\n",
       "      <td>0</td>\n",
       "      <td>0</td>\n",
       "      <td>NaN</td>\n",
       "      <td>0.0</td>\n",
       "      <td>0.0</td>\n",
       "      <td>0.0</td>\n",
       "      <td>0.0</td>\n",
       "      <td>0.0</td>\n",
       "      <td>0.0</td>\n",
       "      <td>0.0</td>\n",
       "      <td>1.0</td>\n",
       "      <td>0.00000</td>\n",
       "      <td>69133.5</td>\n",
       "      <td>0.000000</td>\n",
       "      <td>0.0</td>\n",
       "      <td>0.0</td>\n",
       "      <td>0.0</td>\n",
       "      <td>0.0</td>\n",
       "      <td>NaN</td>\n",
       "      <td>NaN</td>\n",
       "      <td>NaN</td>\n",
       "      <td>NaN</td>\n",
       "      <td>NaN</td>\n",
       "      <td>0.132217</td>\n",
       "      <td>36.234085</td>\n",
       "    </tr>\n",
       "    <tr>\n",
       "      <th>2</th>\n",
       "      <td>100004</td>\n",
       "      <td>0</td>\n",
       "      <td>67500.0</td>\n",
       "      <td>135000.0</td>\n",
       "      <td>6750.0</td>\n",
       "      <td>52.252401</td>\n",
       "      <td>0.617284</td>\n",
       "      <td>26.0</td>\n",
       "      <td>1.0</td>\n",
       "      <td>0</td>\n",
       "      <td>0</td>\n",
       "      <td>0</td>\n",
       "      <td>1</td>\n",
       "      <td>0</td>\n",
       "      <td>0</td>\n",
       "      <td>0</td>\n",
       "      <td>1</td>\n",
       "      <td>0</td>\n",
       "      <td>0</td>\n",
       "      <td>1</td>\n",
       "      <td>1</td>\n",
       "      <td>0</td>\n",
       "      <td>0</td>\n",
       "      <td>0</td>\n",
       "      <td>0</td>\n",
       "      <td>0</td>\n",
       "      <td>0</td>\n",
       "      <td>1</td>\n",
       "      <td>0</td>\n",
       "      <td>0</td>\n",
       "      <td>0</td>\n",
       "      <td>0</td>\n",
       "      <td>0</td>\n",
       "      <td>0</td>\n",
       "      <td>NaN</td>\n",
       "      <td>0.0</td>\n",
       "      <td>0.0</td>\n",
       "      <td>0.0</td>\n",
       "      <td>0.0</td>\n",
       "      <td>0.0</td>\n",
       "      <td>0.0</td>\n",
       "      <td>0.0</td>\n",
       "      <td>1.0</td>\n",
       "      <td>0.00000</td>\n",
       "      <td>94518.9</td>\n",
       "      <td>0.000000</td>\n",
       "      <td>0.0</td>\n",
       "      <td>0.0</td>\n",
       "      <td>0.0</td>\n",
       "      <td>0.0</td>\n",
       "      <td>NaN</td>\n",
       "      <td>NaN</td>\n",
       "      <td>NaN</td>\n",
       "      <td>20106.0</td>\n",
       "      <td>0.828021</td>\n",
       "      <td>0.100000</td>\n",
       "      <td>20.000000</td>\n",
       "    </tr>\n",
       "  </tbody>\n",
       "</table>\n",
       "</div>"
      ],
      "text/plain": [
       "   SK_ID_CURR  TARGET  AMT_INCOME_TOTAL  AMT_CREDIT  AMT_ANNUITY        AGE  \\\n",
       "0      100002       1          202500.0    406597.5      24700.5  25.956104   \n",
       "1      100003       0          270000.0   1293502.5      35698.5  45.994513   \n",
       "2      100004       0           67500.0    135000.0       6750.0  52.252401   \n",
       "\n",
       "   YEARS_EMPLOYED  OWN_CAR_AGE  CNT_FAM_MEMBERS  \\\n",
       "0        1.747599          0.0              1.0   \n",
       "1        3.259259          0.0              2.0   \n",
       "2        0.617284         26.0              1.0   \n",
       "\n",
       "   NAME_EDUCATION_TYPE_Higher education  \\\n",
       "0                                     0   \n",
       "1                                     1   \n",
       "2                                     0   \n",
       "\n",
       "   NAME_EDUCATION_TYPE_Incomplete higher  NAME_EDUCATION_TYPE_Other  \\\n",
       "0                                      0                          0   \n",
       "1                                      0                          0   \n",
       "2                                      0                          0   \n",
       "\n",
       "   NAME_EDUCATION_TYPE_Secondary / secondary special  \\\n",
       "0                                                  1   \n",
       "1                                                  0   \n",
       "2                                                  1   \n",
       "\n",
       "   NAME_FAMILY_STATUS_Civil marriage  NAME_FAMILY_STATUS_Married  \\\n",
       "0                                  0                           0   \n",
       "1                                  0                           1   \n",
       "2                                  0                           0   \n",
       "\n",
       "   NAME_FAMILY_STATUS_Separated  NAME_FAMILY_STATUS_Single / not married  \\\n",
       "0                             0                                        1   \n",
       "1                             0                                        0   \n",
       "2                             0                                        1   \n",
       "\n",
       "   NAME_FAMILY_STATUS_Widow  NAME_CONTRACT_TYPE_Cash loans  \\\n",
       "0                         0                              1   \n",
       "1                         0                              1   \n",
       "2                         0                              0   \n",
       "\n",
       "   NAME_CONTRACT_TYPE_Revolving loans  CODE_GENDER_M  \\\n",
       "0                                   0              1   \n",
       "1                                   0              0   \n",
       "2                                   1              1   \n",
       "\n",
       "   OCCUPATION_TYPE_Accountants  OCCUPATION_TYPE_Core staff  \\\n",
       "0                            0                           0   \n",
       "1                            0                           1   \n",
       "2                            0                           0   \n",
       "\n",
       "   OCCUPATION_TYPE_Drivers  OCCUPATION_TYPE_HR staff  \\\n",
       "0                        0                         0   \n",
       "1                        0                         0   \n",
       "2                        0                         0   \n",
       "\n",
       "   OCCUPATION_TYPE_High skill tech staff  OCCUPATION_TYPE_IT staff  \\\n",
       "0                                      0                         0   \n",
       "1                                      0                         0   \n",
       "2                                      0                         0   \n",
       "\n",
       "   OCCUPATION_TYPE_Laborers  OCCUPATION_TYPE_Managers  \\\n",
       "0                         1                         0   \n",
       "1                         0                         0   \n",
       "2                         1                         0   \n",
       "\n",
       "   OCCUPATION_TYPE_Medicine staff  OCCUPATION_TYPE_Other  \\\n",
       "0                               0                      0   \n",
       "1                               0                      0   \n",
       "2                               0                      0   \n",
       "\n",
       "   OCCUPATION_TYPE_Private service staff  OCCUPATION_TYPE_Realty agents  \\\n",
       "0                                      0                              0   \n",
       "1                                      0                              0   \n",
       "2                                      0                              0   \n",
       "\n",
       "   OCCUPATION_TYPE_Sales staff  CREDIT_active  CREDIT_MEAN_OVERDUE_active  \\\n",
       "0                            0            1.0                         0.0   \n",
       "1                            0            NaN                         0.0   \n",
       "2                            0            NaN                         0.0   \n",
       "\n",
       "   CREDIT_MEAN_active  proportion_OVERDUE_active  CREDIT_sold  \\\n",
       "0            450000.0                        0.0          0.0   \n",
       "1                 0.0                        0.0          0.0   \n",
       "2                 0.0                        0.0          0.0   \n",
       "\n",
       "   CREDIT_MEAN_OVERDUE_sold  CREDIT_MEAN_sold  proportion_OVERDUE_sold  \\\n",
       "0                       0.0               0.0                      0.0   \n",
       "1                       0.0               0.0                      0.0   \n",
       "2                       0.0               0.0                      0.0   \n",
       "\n",
       "   CREDIT_closed  CREDIT_MEAN_OVERDUE_closed  CREDIT_MEAN_closed  \\\n",
       "0            1.0                  2091.16125             76613.4   \n",
       "1            1.0                     0.00000             69133.5   \n",
       "2            1.0                     0.00000             94518.9   \n",
       "\n",
       "   proportion_OVERDUE_closed  CREDIT_bad  CREDIT_MEAN_OVERDUE_bad  \\\n",
       "0                   0.027295         0.0                      0.0   \n",
       "1                   0.000000         0.0                      0.0   \n",
       "2                   0.000000         0.0                      0.0   \n",
       "\n",
       "   CREDIT_MEAN_bad  proportion_OVERDUE_bad  AMT_BALANCE  \\\n",
       "0              0.0                     0.0          NaN   \n",
       "1              0.0                     0.0          NaN   \n",
       "2              0.0                     0.0          NaN   \n",
       "\n",
       "   AMT_CREDIT_LIMIT_ACTUAL  Ratio_Credit_limit  previous_CREDIT  \\\n",
       "0                      NaN                 NaN         179055.0   \n",
       "1                      NaN                 NaN              NaN   \n",
       "2                      NaN                 NaN          20106.0   \n",
       "\n",
       "   ratio_ask_get  Number_years_Loan_Theorical  AMT_CREDIT_ANNUITY_RATIO  \n",
       "0       1.000000                     0.121978                 16.461104  \n",
       "1            NaN                     0.132217                 36.234085  \n",
       "2       0.828021                     0.100000                 20.000000  "
      ]
     },
     "execution_count": 164,
     "metadata": {},
     "output_type": "execute_result"
    }
   ],
   "source": [
    "data_train.head(3)"
   ]
  },
  {
   "cell_type": "code",
   "execution_count": 165,
   "metadata": {},
   "outputs": [
    {
     "data": {
      "text/plain": [
       "40907"
      ]
     },
     "execution_count": 165,
     "metadata": {},
     "output_type": "execute_result"
    }
   ],
   "source": [
    "data_train.loc[data_train['CREDIT_sold'].isnull()][\"CREDIT_active\"].isnull().sum()"
   ]
  },
  {
   "cell_type": "code",
   "execution_count": 166,
   "metadata": {},
   "outputs": [],
   "source": [
    "ind = data_train['CREDIT_sold'].isnull()\n",
    "data_train.loc[ind, [\"CREDIT_sold\"]] = 0\n",
    "data_train.loc[ind, [\"CREDIT_closed\"]] = 0\n",
    "data_train.loc[ind, [\"CREDIT_bad\"]] = 0"
   ]
  },
  {
   "cell_type": "code",
   "execution_count": 167,
   "metadata": {},
   "outputs": [
    {
     "name": "stdout",
     "output_type": "stream",
     "text": [
      "CREDIT_active 43.08%\n",
      "AMT_BALANCE 74.60%\n",
      "AMT_CREDIT_LIMIT_ACTUAL 74.60%\n",
      "Ratio_Credit_limit 74.60%\n",
      "previous_CREDIT 9.85%\n",
      "ratio_ask_get 9.85%\n"
     ]
    }
   ],
   "source": [
    "for col in data_train.columns:\n",
    "    tmp = data_train[col].isnull().sum()\n",
    "    if tmp > 0:\n",
    "        print(col+\" {0:.2f}%\".format(data_train[col].isnull().sum()/data_train[col].shape[0] *100))"
   ]
  },
  {
   "cell_type": "markdown",
   "metadata": {},
   "source": [
    "## Other"
   ]
  },
  {
   "cell_type": "code",
   "execution_count": 168,
   "metadata": {},
   "outputs": [
    {
     "data": {
      "text/plain": [
       "<AxesSubplot:>"
      ]
     },
     "execution_count": 168,
     "metadata": {},
     "output_type": "execute_result"
    },
    {
     "data": {
      "image/png": "[encoded data removed]",
      "text/plain": [
       "<Figure size 432x288 with 1 Axes>"
      ]
     },
     "metadata": {
      "needs_background": "light"
     },
     "output_type": "display_data"
    }
   ],
   "source": [
    "data_train[\"AMT_BALANCE\"].hist()"
   ]
  },
  {
   "cell_type": "code",
   "execution_count": 169,
   "metadata": {},
   "outputs": [],
   "source": [
    "data_train = data_train.drop([\"AMT_BALANCE\", \"AMT_CREDIT_LIMIT_ACTUAL\", \"Ratio_Credit_limit\"], axis = 1)"
   ]
  },
  {
   "cell_type": "code",
   "execution_count": 170,
   "metadata": {},
   "outputs": [
    {
     "data": {
      "text/plain": [
       "0.07652198421645998"
      ]
     },
     "execution_count": 170,
     "metadata": {},
     "output_type": "execute_result"
    }
   ],
   "source": [
    "tot = data_train[data_train[\"previous_CREDIT\"].isna()][\"TARGET\"].shape[0]\n",
    "bad = data_train[data_train[\"previous_CREDIT\"].isna()][\"TARGET\"].sum()\n",
    "#Bad loan proportion present in the 11.77% NaN \n",
    "bad/tot"
   ]
  },
  {
   "cell_type": "code",
   "execution_count": 171,
   "metadata": {},
   "outputs": [
    {
     "data": {
      "text/plain": [
       "TARGET    0.081462\n",
       "dtype: float64"
      ]
     },
     "execution_count": 171,
     "metadata": {},
     "output_type": "execute_result"
    }
   ],
   "source": [
    "#bad proportion will be deleted\n",
    "bad/data_train[[\"TARGET\"]].sum()"
   ]
  },
  {
   "cell_type": "code",
   "execution_count": 172,
   "metadata": {},
   "outputs": [],
   "source": [
    "ind = data_train[\"previous_CREDIT\"].isna()\n",
    "data_train.loc[ind, \"previous_CREDIT\"] = 0\n",
    "data_train.loc[ind, \"ratio_ask_get\"] = 0"
   ]
  },
  {
   "cell_type": "code",
   "execution_count": 173,
   "metadata": {},
   "outputs": [
    {
     "name": "stdout",
     "output_type": "stream",
     "text": [
      "CREDIT_active 43.08%\n"
     ]
    }
   ],
   "source": [
    "for col in data_train.columns:\n",
    "    tmp = data_train[col].isnull().sum()\n",
    "    if tmp > 0:\n",
    "        print(col+\" {0:.2f}%\".format(data_train[col].isnull().sum()/data_train[col].shape[0] *100))"
   ]
  },
  {
   "cell_type": "code",
   "execution_count": 174,
   "metadata": {},
   "outputs": [
    {
     "data": {
      "text/plain": [
       "(216219, 54)"
      ]
     },
     "execution_count": 174,
     "metadata": {},
     "output_type": "execute_result"
    }
   ],
   "source": [
    "data_train.shape"
   ]
  },
  {
   "cell_type": "code",
   "execution_count": 175,
   "metadata": {},
   "outputs": [],
   "source": [
    "data_train = data_train.dropna()"
   ]
  },
  {
   "cell_type": "code",
   "execution_count": 176,
   "metadata": {},
   "outputs": [
    {
     "name": "stdout",
     "output_type": "stream",
     "text": [
      "proportion_OVERDUE_active\n",
      "proportion_OVERDUE_closed\n",
      "ratio_ask_get\n"
     ]
    }
   ],
   "source": [
    "for col in data_train.columns:\n",
    "    tmp = np.isinf(data_train[col]).values.sum()\n",
    "    if tmp > 0:\n",
    "        print(col)"
   ]
  },
  {
   "cell_type": "code",
   "execution_count": 177,
   "metadata": {},
   "outputs": [
    {
     "data": {
      "text/html": [
       "<div>\n",
       "<style scoped>\n",
       "    .dataframe tbody tr th:only-of-type {\n",
       "        vertical-align: middle;\n",
       "    }\n",
       "\n",
       "    .dataframe tbody tr th {\n",
       "        vertical-align: top;\n",
       "    }\n",
       "\n",
       "    .dataframe thead th {\n",
       "        text-align: right;\n",
       "    }\n",
       "</style>\n",
       "<table border=\"1\" class=\"dataframe\">\n",
       "  <thead>\n",
       "    <tr style=\"text-align: right;\">\n",
       "      <th></th>\n",
       "      <th>proportion_OVERDUE_active</th>\n",
       "      <th>CREDIT_active</th>\n",
       "      <th>CREDIT_MEAN_active</th>\n",
       "    </tr>\n",
       "  </thead>\n",
       "  <tbody>\n",
       "    <tr>\n",
       "      <th>5227</th>\n",
       "      <td>inf</td>\n",
       "      <td>1.0</td>\n",
       "      <td>0.0</td>\n",
       "    </tr>\n",
       "    <tr>\n",
       "      <th>44576</th>\n",
       "      <td>inf</td>\n",
       "      <td>1.0</td>\n",
       "      <td>0.0</td>\n",
       "    </tr>\n",
       "    <tr>\n",
       "      <th>47190</th>\n",
       "      <td>inf</td>\n",
       "      <td>1.0</td>\n",
       "      <td>0.0</td>\n",
       "    </tr>\n",
       "    <tr>\n",
       "      <th>47451</th>\n",
       "      <td>inf</td>\n",
       "      <td>1.0</td>\n",
       "      <td>0.0</td>\n",
       "    </tr>\n",
       "    <tr>\n",
       "      <th>66490</th>\n",
       "      <td>inf</td>\n",
       "      <td>1.0</td>\n",
       "      <td>0.0</td>\n",
       "    </tr>\n",
       "    <tr>\n",
       "      <th>69838</th>\n",
       "      <td>inf</td>\n",
       "      <td>1.0</td>\n",
       "      <td>0.0</td>\n",
       "    </tr>\n",
       "    <tr>\n",
       "      <th>78399</th>\n",
       "      <td>inf</td>\n",
       "      <td>1.0</td>\n",
       "      <td>0.0</td>\n",
       "    </tr>\n",
       "    <tr>\n",
       "      <th>96612</th>\n",
       "      <td>inf</td>\n",
       "      <td>1.0</td>\n",
       "      <td>0.0</td>\n",
       "    </tr>\n",
       "    <tr>\n",
       "      <th>111852</th>\n",
       "      <td>inf</td>\n",
       "      <td>1.0</td>\n",
       "      <td>0.0</td>\n",
       "    </tr>\n",
       "    <tr>\n",
       "      <th>128744</th>\n",
       "      <td>inf</td>\n",
       "      <td>1.0</td>\n",
       "      <td>0.0</td>\n",
       "    </tr>\n",
       "    <tr>\n",
       "      <th>193256</th>\n",
       "      <td>inf</td>\n",
       "      <td>1.0</td>\n",
       "      <td>0.0</td>\n",
       "    </tr>\n",
       "    <tr>\n",
       "      <th>195647</th>\n",
       "      <td>inf</td>\n",
       "      <td>1.0</td>\n",
       "      <td>0.0</td>\n",
       "    </tr>\n",
       "    <tr>\n",
       "      <th>215836</th>\n",
       "      <td>inf</td>\n",
       "      <td>1.0</td>\n",
       "      <td>0.0</td>\n",
       "    </tr>\n",
       "  </tbody>\n",
       "</table>\n",
       "</div>"
      ],
      "text/plain": [
       "        proportion_OVERDUE_active  CREDIT_active  CREDIT_MEAN_active\n",
       "5227                          inf            1.0                 0.0\n",
       "44576                         inf            1.0                 0.0\n",
       "47190                         inf            1.0                 0.0\n",
       "47451                         inf            1.0                 0.0\n",
       "66490                         inf            1.0                 0.0\n",
       "69838                         inf            1.0                 0.0\n",
       "78399                         inf            1.0                 0.0\n",
       "96612                         inf            1.0                 0.0\n",
       "111852                        inf            1.0                 0.0\n",
       "128744                        inf            1.0                 0.0\n",
       "193256                        inf            1.0                 0.0\n",
       "195647                        inf            1.0                 0.0\n",
       "215836                        inf            1.0                 0.0"
      ]
     },
     "execution_count": 177,
     "metadata": {},
     "output_type": "execute_result"
    }
   ],
   "source": [
    "data_train.loc[np.isinf(data_train[\"proportion_OVERDUE_active\"]), [\"proportion_OVERDUE_active\", \"CREDIT_active\", \"CREDIT_MEAN_active\"]]"
   ]
  },
  {
   "cell_type": "code",
   "execution_count": 178,
   "metadata": {},
   "outputs": [],
   "source": [
    "data_train.loc[np.isinf(data_train[\"proportion_OVERDUE_active\"]), [\"proportion_OVERDUE_active\"]] = 0"
   ]
  },
  {
   "cell_type": "code",
   "execution_count": 179,
   "metadata": {
    "scrolled": true
   },
   "outputs": [
    {
     "data": {
      "text/html": [
       "<div>\n",
       "<style scoped>\n",
       "    .dataframe tbody tr th:only-of-type {\n",
       "        vertical-align: middle;\n",
       "    }\n",
       "\n",
       "    .dataframe tbody tr th {\n",
       "        vertical-align: top;\n",
       "    }\n",
       "\n",
       "    .dataframe thead th {\n",
       "        text-align: right;\n",
       "    }\n",
       "</style>\n",
       "<table border=\"1\" class=\"dataframe\">\n",
       "  <thead>\n",
       "    <tr style=\"text-align: right;\">\n",
       "      <th></th>\n",
       "      <th>SK_ID_CURR</th>\n",
       "      <th>TARGET</th>\n",
       "      <th>AMT_INCOME_TOTAL</th>\n",
       "      <th>AMT_CREDIT</th>\n",
       "      <th>AMT_ANNUITY</th>\n",
       "      <th>AGE</th>\n",
       "      <th>YEARS_EMPLOYED</th>\n",
       "      <th>OWN_CAR_AGE</th>\n",
       "      <th>CNT_FAM_MEMBERS</th>\n",
       "      <th>NAME_EDUCATION_TYPE_Higher education</th>\n",
       "      <th>NAME_EDUCATION_TYPE_Incomplete higher</th>\n",
       "      <th>NAME_EDUCATION_TYPE_Other</th>\n",
       "      <th>NAME_EDUCATION_TYPE_Secondary / secondary special</th>\n",
       "      <th>NAME_FAMILY_STATUS_Civil marriage</th>\n",
       "      <th>NAME_FAMILY_STATUS_Married</th>\n",
       "      <th>NAME_FAMILY_STATUS_Separated</th>\n",
       "      <th>NAME_FAMILY_STATUS_Single / not married</th>\n",
       "      <th>NAME_FAMILY_STATUS_Widow</th>\n",
       "      <th>NAME_CONTRACT_TYPE_Cash loans</th>\n",
       "      <th>NAME_CONTRACT_TYPE_Revolving loans</th>\n",
       "      <th>CODE_GENDER_M</th>\n",
       "      <th>OCCUPATION_TYPE_Accountants</th>\n",
       "      <th>OCCUPATION_TYPE_Core staff</th>\n",
       "      <th>OCCUPATION_TYPE_Drivers</th>\n",
       "      <th>OCCUPATION_TYPE_HR staff</th>\n",
       "      <th>OCCUPATION_TYPE_High skill tech staff</th>\n",
       "      <th>OCCUPATION_TYPE_IT staff</th>\n",
       "      <th>OCCUPATION_TYPE_Laborers</th>\n",
       "      <th>OCCUPATION_TYPE_Managers</th>\n",
       "      <th>OCCUPATION_TYPE_Medicine staff</th>\n",
       "      <th>OCCUPATION_TYPE_Other</th>\n",
       "      <th>OCCUPATION_TYPE_Private service staff</th>\n",
       "      <th>OCCUPATION_TYPE_Realty agents</th>\n",
       "      <th>OCCUPATION_TYPE_Sales staff</th>\n",
       "      <th>CREDIT_active</th>\n",
       "      <th>CREDIT_MEAN_OVERDUE_active</th>\n",
       "      <th>CREDIT_MEAN_active</th>\n",
       "      <th>proportion_OVERDUE_active</th>\n",
       "      <th>CREDIT_sold</th>\n",
       "      <th>CREDIT_MEAN_OVERDUE_sold</th>\n",
       "      <th>CREDIT_MEAN_sold</th>\n",
       "      <th>proportion_OVERDUE_sold</th>\n",
       "      <th>CREDIT_closed</th>\n",
       "      <th>CREDIT_MEAN_OVERDUE_closed</th>\n",
       "      <th>CREDIT_MEAN_closed</th>\n",
       "      <th>proportion_OVERDUE_closed</th>\n",
       "      <th>CREDIT_bad</th>\n",
       "      <th>CREDIT_MEAN_OVERDUE_bad</th>\n",
       "      <th>CREDIT_MEAN_bad</th>\n",
       "      <th>proportion_OVERDUE_bad</th>\n",
       "      <th>previous_CREDIT</th>\n",
       "      <th>ratio_ask_get</th>\n",
       "      <th>Number_years_Loan_Theorical</th>\n",
       "      <th>AMT_CREDIT_ANNUITY_RATIO</th>\n",
       "    </tr>\n",
       "  </thead>\n",
       "  <tbody>\n",
       "    <tr>\n",
       "      <th>0</th>\n",
       "      <td>100002</td>\n",
       "      <td>1</td>\n",
       "      <td>202500.0</td>\n",
       "      <td>406597.5</td>\n",
       "      <td>24700.5</td>\n",
       "      <td>25.956104</td>\n",
       "      <td>1.747599</td>\n",
       "      <td>0.0</td>\n",
       "      <td>1.0</td>\n",
       "      <td>0</td>\n",
       "      <td>0</td>\n",
       "      <td>0</td>\n",
       "      <td>1</td>\n",
       "      <td>0</td>\n",
       "      <td>0</td>\n",
       "      <td>0</td>\n",
       "      <td>1</td>\n",
       "      <td>0</td>\n",
       "      <td>1</td>\n",
       "      <td>0</td>\n",
       "      <td>1</td>\n",
       "      <td>0</td>\n",
       "      <td>0</td>\n",
       "      <td>0</td>\n",
       "      <td>0</td>\n",
       "      <td>0</td>\n",
       "      <td>0</td>\n",
       "      <td>1</td>\n",
       "      <td>0</td>\n",
       "      <td>0</td>\n",
       "      <td>0</td>\n",
       "      <td>0</td>\n",
       "      <td>0</td>\n",
       "      <td>0</td>\n",
       "      <td>1.0</td>\n",
       "      <td>0.0</td>\n",
       "      <td>450000.0</td>\n",
       "      <td>0.0</td>\n",
       "      <td>0.0</td>\n",
       "      <td>0.0</td>\n",
       "      <td>0.0</td>\n",
       "      <td>0.0</td>\n",
       "      <td>1.0</td>\n",
       "      <td>2091.16125</td>\n",
       "      <td>76613.400000</td>\n",
       "      <td>0.027295</td>\n",
       "      <td>0.0</td>\n",
       "      <td>0.0</td>\n",
       "      <td>0.0</td>\n",
       "      <td>0.0</td>\n",
       "      <td>179055.000000</td>\n",
       "      <td>1.000000</td>\n",
       "      <td>0.121978</td>\n",
       "      <td>16.461104</td>\n",
       "    </tr>\n",
       "    <tr>\n",
       "      <th>5</th>\n",
       "      <td>100008</td>\n",
       "      <td>0</td>\n",
       "      <td>99000.0</td>\n",
       "      <td>490495.5</td>\n",
       "      <td>27517.5</td>\n",
       "      <td>46.477366</td>\n",
       "      <td>4.356653</td>\n",
       "      <td>0.0</td>\n",
       "      <td>2.0</td>\n",
       "      <td>0</td>\n",
       "      <td>0</td>\n",
       "      <td>0</td>\n",
       "      <td>1</td>\n",
       "      <td>0</td>\n",
       "      <td>1</td>\n",
       "      <td>0</td>\n",
       "      <td>0</td>\n",
       "      <td>0</td>\n",
       "      <td>1</td>\n",
       "      <td>0</td>\n",
       "      <td>1</td>\n",
       "      <td>0</td>\n",
       "      <td>0</td>\n",
       "      <td>0</td>\n",
       "      <td>0</td>\n",
       "      <td>0</td>\n",
       "      <td>0</td>\n",
       "      <td>1</td>\n",
       "      <td>0</td>\n",
       "      <td>0</td>\n",
       "      <td>0</td>\n",
       "      <td>0</td>\n",
       "      <td>0</td>\n",
       "      <td>0</td>\n",
       "      <td>1.0</td>\n",
       "      <td>0.0</td>\n",
       "      <td>267606.0</td>\n",
       "      <td>0.0</td>\n",
       "      <td>0.0</td>\n",
       "      <td>0.0</td>\n",
       "      <td>0.0</td>\n",
       "      <td>0.0</td>\n",
       "      <td>1.0</td>\n",
       "      <td>0.00000</td>\n",
       "      <td>100419.750000</td>\n",
       "      <td>0.000000</td>\n",
       "      <td>0.0</td>\n",
       "      <td>0.0</td>\n",
       "      <td>0.0</td>\n",
       "      <td>0.0</td>\n",
       "      <td>162767.700000</td>\n",
       "      <td>1.045381</td>\n",
       "      <td>0.277955</td>\n",
       "      <td>17.824857</td>\n",
       "    </tr>\n",
       "    <tr>\n",
       "      <th>6</th>\n",
       "      <td>100009</td>\n",
       "      <td>0</td>\n",
       "      <td>171000.0</td>\n",
       "      <td>1560726.0</td>\n",
       "      <td>41301.0</td>\n",
       "      <td>37.799726</td>\n",
       "      <td>8.587106</td>\n",
       "      <td>17.0</td>\n",
       "      <td>3.0</td>\n",
       "      <td>1</td>\n",
       "      <td>0</td>\n",
       "      <td>0</td>\n",
       "      <td>0</td>\n",
       "      <td>0</td>\n",
       "      <td>1</td>\n",
       "      <td>0</td>\n",
       "      <td>0</td>\n",
       "      <td>0</td>\n",
       "      <td>1</td>\n",
       "      <td>0</td>\n",
       "      <td>0</td>\n",
       "      <td>1</td>\n",
       "      <td>0</td>\n",
       "      <td>0</td>\n",
       "      <td>0</td>\n",
       "      <td>0</td>\n",
       "      <td>0</td>\n",
       "      <td>0</td>\n",
       "      <td>0</td>\n",
       "      <td>0</td>\n",
       "      <td>0</td>\n",
       "      <td>0</td>\n",
       "      <td>0</td>\n",
       "      <td>0</td>\n",
       "      <td>2.0</td>\n",
       "      <td>0.0</td>\n",
       "      <td>490180.5</td>\n",
       "      <td>0.0</td>\n",
       "      <td>0.0</td>\n",
       "      <td>0.0</td>\n",
       "      <td>0.0</td>\n",
       "      <td>0.0</td>\n",
       "      <td>1.0</td>\n",
       "      <td>0.00000</td>\n",
       "      <td>115057.730769</td>\n",
       "      <td>0.000000</td>\n",
       "      <td>0.0</td>\n",
       "      <td>0.0</td>\n",
       "      <td>0.0</td>\n",
       "      <td>0.0</td>\n",
       "      <td>70137.642857</td>\n",
       "      <td>0.913944</td>\n",
       "      <td>0.241526</td>\n",
       "      <td>37.789061</td>\n",
       "    </tr>\n",
       "  </tbody>\n",
       "</table>\n",
       "</div>"
      ],
      "text/plain": [
       "   SK_ID_CURR  TARGET  AMT_INCOME_TOTAL  AMT_CREDIT  AMT_ANNUITY        AGE  \\\n",
       "0      100002       1          202500.0    406597.5      24700.5  25.956104   \n",
       "5      100008       0           99000.0    490495.5      27517.5  46.477366   \n",
       "6      100009       0          171000.0   1560726.0      41301.0  37.799726   \n",
       "\n",
       "   YEARS_EMPLOYED  OWN_CAR_AGE  CNT_FAM_MEMBERS  \\\n",
       "0        1.747599          0.0              1.0   \n",
       "5        4.356653          0.0              2.0   \n",
       "6        8.587106         17.0              3.0   \n",
       "\n",
       "   NAME_EDUCATION_TYPE_Higher education  \\\n",
       "0                                     0   \n",
       "5                                     0   \n",
       "6                                     1   \n",
       "\n",
       "   NAME_EDUCATION_TYPE_Incomplete higher  NAME_EDUCATION_TYPE_Other  \\\n",
       "0                                      0                          0   \n",
       "5                                      0                          0   \n",
       "6                                      0                          0   \n",
       "\n",
       "   NAME_EDUCATION_TYPE_Secondary / secondary special  \\\n",
       "0                                                  1   \n",
       "5                                                  1   \n",
       "6                                                  0   \n",
       "\n",
       "   NAME_FAMILY_STATUS_Civil marriage  NAME_FAMILY_STATUS_Married  \\\n",
       "0                                  0                           0   \n",
       "5                                  0                           1   \n",
       "6                                  0                           1   \n",
       "\n",
       "   NAME_FAMILY_STATUS_Separated  NAME_FAMILY_STATUS_Single / not married  \\\n",
       "0                             0                                        1   \n",
       "5                             0                                        0   \n",
       "6                             0                                        0   \n",
       "\n",
       "   NAME_FAMILY_STATUS_Widow  NAME_CONTRACT_TYPE_Cash loans  \\\n",
       "0                         0                              1   \n",
       "5                         0                              1   \n",
       "6                         0                              1   \n",
       "\n",
       "   NAME_CONTRACT_TYPE_Revolving loans  CODE_GENDER_M  \\\n",
       "0                                   0              1   \n",
       "5                                   0              1   \n",
       "6                                   0              0   \n",
       "\n",
       "   OCCUPATION_TYPE_Accountants  OCCUPATION_TYPE_Core staff  \\\n",
       "0                            0                           0   \n",
       "5                            0                           0   \n",
       "6                            1                           0   \n",
       "\n",
       "   OCCUPATION_TYPE_Drivers  OCCUPATION_TYPE_HR staff  \\\n",
       "0                        0                         0   \n",
       "5                        0                         0   \n",
       "6                        0                         0   \n",
       "\n",
       "   OCCUPATION_TYPE_High skill tech staff  OCCUPATION_TYPE_IT staff  \\\n",
       "0                                      0                         0   \n",
       "5                                      0                         0   \n",
       "6                                      0                         0   \n",
       "\n",
       "   OCCUPATION_TYPE_Laborers  OCCUPATION_TYPE_Managers  \\\n",
       "0                         1                         0   \n",
       "5                         1                         0   \n",
       "6                         0                         0   \n",
       "\n",
       "   OCCUPATION_TYPE_Medicine staff  OCCUPATION_TYPE_Other  \\\n",
       "0                               0                      0   \n",
       "5                               0                      0   \n",
       "6                               0                      0   \n",
       "\n",
       "   OCCUPATION_TYPE_Private service staff  OCCUPATION_TYPE_Realty agents  \\\n",
       "0                                      0                              0   \n",
       "5                                      0                              0   \n",
       "6                                      0                              0   \n",
       "\n",
       "   OCCUPATION_TYPE_Sales staff  CREDIT_active  CREDIT_MEAN_OVERDUE_active  \\\n",
       "0                            0            1.0                         0.0   \n",
       "5                            0            1.0                         0.0   \n",
       "6                            0            2.0                         0.0   \n",
       "\n",
       "   CREDIT_MEAN_active  proportion_OVERDUE_active  CREDIT_sold  \\\n",
       "0            450000.0                        0.0          0.0   \n",
       "5            267606.0                        0.0          0.0   \n",
       "6            490180.5                        0.0          0.0   \n",
       "\n",
       "   CREDIT_MEAN_OVERDUE_sold  CREDIT_MEAN_sold  proportion_OVERDUE_sold  \\\n",
       "0                       0.0               0.0                      0.0   \n",
       "5                       0.0               0.0                      0.0   \n",
       "6                       0.0               0.0                      0.0   \n",
       "\n",
       "   CREDIT_closed  CREDIT_MEAN_OVERDUE_closed  CREDIT_MEAN_closed  \\\n",
       "0            1.0                  2091.16125        76613.400000   \n",
       "5            1.0                     0.00000       100419.750000   \n",
       "6            1.0                     0.00000       115057.730769   \n",
       "\n",
       "   proportion_OVERDUE_closed  CREDIT_bad  CREDIT_MEAN_OVERDUE_bad  \\\n",
       "0                   0.027295         0.0                      0.0   \n",
       "5                   0.000000         0.0                      0.0   \n",
       "6                   0.000000         0.0                      0.0   \n",
       "\n",
       "   CREDIT_MEAN_bad  proportion_OVERDUE_bad  previous_CREDIT  ratio_ask_get  \\\n",
       "0              0.0                     0.0    179055.000000       1.000000   \n",
       "5              0.0                     0.0    162767.700000       1.045381   \n",
       "6              0.0                     0.0     70137.642857       0.913944   \n",
       "\n",
       "   Number_years_Loan_Theorical  AMT_CREDIT_ANNUITY_RATIO  \n",
       "0                     0.121978                 16.461104  \n",
       "5                     0.277955                 17.824857  \n",
       "6                     0.241526                 37.789061  "
      ]
     },
     "execution_count": 179,
     "metadata": {},
     "output_type": "execute_result"
    }
   ],
   "source": [
    "data_train.head(3)"
   ]
  },
  {
   "cell_type": "code",
   "execution_count": 180,
   "metadata": {},
   "outputs": [
    {
     "data": {
      "text/html": [
       "<div>\n",
       "<style scoped>\n",
       "    .dataframe tbody tr th:only-of-type {\n",
       "        vertical-align: middle;\n",
       "    }\n",
       "\n",
       "    .dataframe tbody tr th {\n",
       "        vertical-align: top;\n",
       "    }\n",
       "\n",
       "    .dataframe thead th {\n",
       "        text-align: right;\n",
       "    }\n",
       "</style>\n",
       "<table border=\"1\" class=\"dataframe\">\n",
       "  <thead>\n",
       "    <tr style=\"text-align: right;\">\n",
       "      <th></th>\n",
       "      <th>proportion_OVERDUE_closed</th>\n",
       "      <th>CREDIT_closed</th>\n",
       "      <th>CREDIT_MEAN_closed</th>\n",
       "    </tr>\n",
       "  </thead>\n",
       "  <tbody>\n",
       "    <tr>\n",
       "      <th>27785</th>\n",
       "      <td>inf</td>\n",
       "      <td>1.0</td>\n",
       "      <td>0.0</td>\n",
       "    </tr>\n",
       "    <tr>\n",
       "      <th>34735</th>\n",
       "      <td>inf</td>\n",
       "      <td>1.0</td>\n",
       "      <td>0.0</td>\n",
       "    </tr>\n",
       "    <tr>\n",
       "      <th>55619</th>\n",
       "      <td>inf</td>\n",
       "      <td>1.0</td>\n",
       "      <td>0.0</td>\n",
       "    </tr>\n",
       "    <tr>\n",
       "      <th>59168</th>\n",
       "      <td>inf</td>\n",
       "      <td>1.0</td>\n",
       "      <td>0.0</td>\n",
       "    </tr>\n",
       "    <tr>\n",
       "      <th>62663</th>\n",
       "      <td>inf</td>\n",
       "      <td>1.0</td>\n",
       "      <td>0.0</td>\n",
       "    </tr>\n",
       "    <tr>\n",
       "      <th>102348</th>\n",
       "      <td>inf</td>\n",
       "      <td>1.0</td>\n",
       "      <td>0.0</td>\n",
       "    </tr>\n",
       "    <tr>\n",
       "      <th>109097</th>\n",
       "      <td>inf</td>\n",
       "      <td>1.0</td>\n",
       "      <td>0.0</td>\n",
       "    </tr>\n",
       "    <tr>\n",
       "      <th>113636</th>\n",
       "      <td>inf</td>\n",
       "      <td>1.0</td>\n",
       "      <td>0.0</td>\n",
       "    </tr>\n",
       "    <tr>\n",
       "      <th>143063</th>\n",
       "      <td>inf</td>\n",
       "      <td>1.0</td>\n",
       "      <td>0.0</td>\n",
       "    </tr>\n",
       "    <tr>\n",
       "      <th>148639</th>\n",
       "      <td>inf</td>\n",
       "      <td>1.0</td>\n",
       "      <td>0.0</td>\n",
       "    </tr>\n",
       "    <tr>\n",
       "      <th>195234</th>\n",
       "      <td>inf</td>\n",
       "      <td>1.0</td>\n",
       "      <td>0.0</td>\n",
       "    </tr>\n",
       "  </tbody>\n",
       "</table>\n",
       "</div>"
      ],
      "text/plain": [
       "        proportion_OVERDUE_closed  CREDIT_closed  CREDIT_MEAN_closed\n",
       "27785                         inf            1.0                 0.0\n",
       "34735                         inf            1.0                 0.0\n",
       "55619                         inf            1.0                 0.0\n",
       "59168                         inf            1.0                 0.0\n",
       "62663                         inf            1.0                 0.0\n",
       "102348                        inf            1.0                 0.0\n",
       "109097                        inf            1.0                 0.0\n",
       "113636                        inf            1.0                 0.0\n",
       "143063                        inf            1.0                 0.0\n",
       "148639                        inf            1.0                 0.0\n",
       "195234                        inf            1.0                 0.0"
      ]
     },
     "execution_count": 180,
     "metadata": {},
     "output_type": "execute_result"
    }
   ],
   "source": [
    "data_train.loc[np.isinf(data_train[\"proportion_OVERDUE_closed\"]), [\"proportion_OVERDUE_closed\", \"CREDIT_closed\", \"CREDIT_MEAN_closed\"]]"
   ]
  },
  {
   "cell_type": "code",
   "execution_count": 181,
   "metadata": {},
   "outputs": [],
   "source": [
    "data_train.loc[np.isinf(data_train[\"proportion_OVERDUE_closed\"]), [\"proportion_OVERDUE_closed\"]] = 0"
   ]
  },
  {
   "cell_type": "code",
   "execution_count": 182,
   "metadata": {},
   "outputs": [
    {
     "data": {
      "text/plain": [
       "TARGET    27\n",
       "dtype: int64"
      ]
     },
     "execution_count": 182,
     "metadata": {},
     "output_type": "execute_result"
    }
   ],
   "source": [
    "data_train.loc[np.isinf(data_train[\"ratio_ask_get\"]), [\"TARGET\"]].sum()"
   ]
  },
  {
   "cell_type": "code",
   "execution_count": 183,
   "metadata": {},
   "outputs": [],
   "source": [
    "data_train.loc[np.isinf(data_train[\"ratio_ask_get\"]), [\"ratio_ask_get\"]] = np.nan"
   ]
  },
  {
   "cell_type": "code",
   "execution_count": 184,
   "metadata": {},
   "outputs": [],
   "source": [
    "data_train = data_train.dropna()"
   ]
  },
  {
   "cell_type": "code",
   "execution_count": 186,
   "metadata": {},
   "outputs": [],
   "source": [
    "data_clean1 = data_train.drop(['AMT_CREDIT', 'Number_years_Loan_Theorical', 'AMT_CREDIT_ANNUITY_RATIO', 'ratio_ask_get'], axis = 1)\n",
    "data_clean1.to_csv(\"clean_data.csv\", index=False)"
   ]
  },
  {
   "cell_type": "code",
   "execution_count": 187,
   "metadata": {},
   "outputs": [],
   "source": [
    "data_train = data_train.drop(['AMT_CREDIT', 'ratio_ask_get'], axis = 1)\n",
    "data_train.to_csv(\"clean_data1.csv\", index=False)"
   ]
  },
  {
   "cell_type": "code",
   "execution_count": null,
   "metadata": {},
   "outputs": [],
   "source": []
  }
 ],
 "metadata": {
  "kernelspec": {
   "display_name": "Python 3",
   "language": "python",
   "name": "python3"
  },
  "language_info": {
   "codemirror_mode": {
    "name": "ipython",
    "version": 3
   },
   "file_extension": ".py",
   "mimetype": "text/x-python",
   "name": "python",
   "nbconvert_exporter": "python",
   "pygments_lexer": "ipython3",
   "version": "3.8.5"
  }
 },
 "nbformat": 4,
 "nbformat_minor": 4
}
